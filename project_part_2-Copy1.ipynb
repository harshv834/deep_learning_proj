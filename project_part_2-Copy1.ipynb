{
 "cells": [
  {
   "cell_type": "markdown",
   "metadata": {},
   "source": [
    "” using only pytorch’s\n",
    "tensor operations and the standard math library\n",
    "\n",
    "Your framework should import only torch.empty\n",
    "\n"
   ]
  },
  {
   "cell_type": "code",
   "execution_count": 1,
   "metadata": {},
   "outputs": [
    {
     "data": {
      "text/plain": [
       "<torch.autograd.grad_mode.set_grad_enabled at 0x7f14ad3d6c50>"
      ]
     },
     "execution_count": 1,
     "metadata": {},
     "output_type": "execute_result"
    }
   ],
   "source": [
    "from torch import empty\n",
    "import math\n",
    "import torch\n",
    "\n",
    "torch.set_grad_enabled(False) #turns off autograd\n"
   ]
  },
  {
   "cell_type": "markdown",
   "metadata": {},
   "source": [
    "Your framework must provide the necessary tools to:\n",
    " build networks combining fully connected layers, Tanh, and ReLU,\n",
    " run the forward and backward passes,\n",
    " optimize parameters with SGD for MSE"
   ]
  },
  {
   "cell_type": "markdown",
   "metadata": {},
   "source": [
    "You must implement a test executable named test.py that imports your framework and\n",
    " Generates a training and a test set of 1, 000 points sampled uniformly in [0, 1]2\n",
    ", each with a\n",
    "label 0 if outside the disk centered at (0.5, 0.5) of radius 1/\n",
    "√\n",
    "2π, and 1 inside,\n",
    " builds a network with two input units, two output units, three hidden layers of 25 units,\n",
    " trains it with MSE, logging the loss,\n",
    " computes and prints the final train and the test errors."
   ]
  },
  {
   "cell_type": "code",
   "execution_count": 2,
   "metadata": {},
   "outputs": [],
   "source": [
    "#Structure is better if original\n",
    "\n",
    "class Module ( object ) :\n",
    "\n",
    "    def forward ( self , * input ) :\n",
    "        raise NotImplementedError\n",
    "    def backward ( self , * gradwrtoutput ) :\n",
    "        raise NotImplementedError\n",
    "    def param ( self ) :\n",
    "        return self.params"
   ]
  },
  {
   "cell_type": "code",
   "execution_count": 3,
   "metadata": {},
   "outputs": [],
   "source": [
    "class Parameter(object):\n",
    "    def __init__(self, data, grad=0, x=None ):\n",
    "        super(Parameter, self).__init__()\n",
    "        self.data = data\n",
    "        self.grad = grad\n",
    "        self.input = x"
   ]
  },
  {
   "cell_type": "code",
   "execution_count": 4,
   "metadata": {},
   "outputs": [],
   "source": [
    "class lossMSE(Module):\n",
    "    def __init__(self):\n",
    "        super(lossMSE, self).__init__()\n",
    "        self.name = 'MSE_loss'\n",
    "    def forward(self, input, target):\n",
    "        return input.sub(target).pow(2).mean() \n",
    "    def backward(self, input, target):\n",
    "        return input.sub(target.view(-1,input.shape[1])).mul(2)"
   ]
  },
  {
   "cell_type": "code",
   "execution_count": 5,
   "metadata": {},
   "outputs": [],
   "source": [
    "class ReLU(Module):\n",
    "    def __init__(self):\n",
    "        super(ReLU, self).__init__()\n",
    "        self.name = 'ReLU'\n",
    "        self.params = Parameter(None)\n",
    "    def forward(self, input):\n",
    "        self.params.input = input\n",
    "        return input.clamp(min = 0)\n",
    "    def backward(self, gradwrtoutput):\n",
    "        return self.params.input.sign().add(1).div(2) * gradwrtoutput"
   ]
  },
  {
   "cell_type": "code",
   "execution_count": 6,
   "metadata": {},
   "outputs": [],
   "source": [
    "class Tanh(Module):\n",
    "    def __init__(self,x = None):\n",
    "        super(Tanh,self).__init__()\n",
    "        self.name = 'Tanh'\n",
    "        self.params = Parameter(None)\n",
    "    def forward(self, input):\n",
    "        self.params.input = input\n",
    "        return input.tanh()\n",
    "    def backward(self, gradwrtoutput):\n",
    "        return (1 - self.params.input.tanh().pow(2)).mul(gradwrtoutput)\n",
    "        "
   ]
  },
  {
   "cell_type": "code",
   "execution_count": 7,
   "metadata": {},
   "outputs": [],
   "source": [
    "class SoftMax(Module):\n",
    "    def __init__(self,in_dim,beta = 1):\n",
    "        self.params = Parameter(None)\n",
    "        self.beta = beta\n",
    "        \n",
    "    def forward(self, x):\n",
    "        self.params.input = torch.exp(x) / torch.exp(x).sum(axis=1).unsqueeze(1)\n",
    "        return  self.params.input\n",
    "    \n",
    "    def backward(self, gradwrtoutput):\n",
    "        return self.params.input*(1 - self.params.input) * gradwrtoutput\n",
    "    "
   ]
  },
  {
   "cell_type": "code",
   "execution_count": 168,
   "metadata": {},
   "outputs": [],
   "source": [
    "class Linear(Module):\n",
    "    def __init__(self,in_dim, out_dim,bias=True,dropout = 0,init='xavier'):\n",
    "        self.bias = bias\n",
    "        if self.bias:\n",
    "            self.params = Parameter(torch.randn((in_dim + 1,out_dim))/(math.sqrt(in_dim /2)))\n",
    "        else:\n",
    "            self.params = Parameter(torch.randn((in_dim,out_dim))/(math.sqrt(in_dim/2)))\n",
    "        if dropout > 0:\n",
    "            self.dropout = dropout\n",
    "        else:\n",
    "            self.dropout = None\n",
    "        \n",
    "    \n",
    "    def forward(self, x):\n",
    "        if self.dropout is not None:\n",
    "            self.non_zero = torch.bernoulli(self.dropout * torch.ones((self.params.data.size(1),)))\n",
    "        else:\n",
    "            self.non_zero = torch.ones((self.params.data.size(1),))\n",
    "            \n",
    "        if self.bias:\n",
    "            self.params.input = torch.cat((x,torch.ones((x.size(0),1))),dim=1)    \n",
    "        else:\n",
    "            self.params.input = x\n",
    "        return  (self.params.input @self.params.data)* self.non_zero\n",
    "    \n",
    "    \n",
    "    def backward(self, gradwrtoutput): \n",
    "        self.params.grad = torch.bmm((gradwrtoutput*self.non_zero).unsqueeze(-1) , self.params.input.unsqueeze(-2)).mean(axis=0).t()\n",
    "        if self.bias:\n",
    "            return ((gradwrtoutput*self.non_zero) @ self.params.data.t())[:,:-1]\n",
    "        else:\n",
    "            return (gradwrtoutput*self.non_zero) @ self.params.data.t()\n",
    "    "
   ]
  },
  {
   "cell_type": "code",
   "execution_count": null,
   "metadata": {},
   "outputs": [],
   "source": [
    "class BatchNorm(Module):\n",
    "    def __init__(self,dim):\n",
    "        self.params = "
   ]
  },
  {
   "cell_type": "code",
   "execution_count": null,
   "metadata": {},
   "outputs": [],
   "source": []
  },
  {
   "cell_type": "code",
   "execution_count": 9,
   "metadata": {},
   "outputs": [],
   "source": [
    "class Sequential(Module):\n",
    "    def __init__(self, *modules):\n",
    "        super(Sequential, self).__init__()\n",
    "        self.modules = modules\n",
    "        self.params = []\n",
    "        for mod in self.modules:\n",
    "            if mod.param() is not None:\n",
    "                self.params.append(mod.param())\n",
    "        \n",
    "            \n",
    "    def forward(self, input):\n",
    "        for mod in self.modules:\n",
    "            input = mod.forward(input)\n",
    "        return input\n",
    "    \n",
    "    def backward(self, gradwrtoutput):\n",
    "        for mod in reversed(self.modules):\n",
    "            gradwrtoutput = mod.backward(gradwrtoutput)\n"
   ]
  },
  {
   "cell_type": "code",
   "execution_count": 20,
   "metadata": {},
   "outputs": [],
   "source": [
    "class SGD_opti(object):\n",
    "    def __init__(self, model_parameters, learn_rate = 1e-3,beta = 0.9):\n",
    "        self.lr = learn_rate\n",
    "        self.param_to_update= [{'param': p,'update': torch.zeros_like(p.data)} for p in model_parameters if p.data is not None]\n",
    "        self.beta = beta\n",
    "        self.steps = 0\n",
    "    \n",
    "    def step(self):\n",
    "        for p in self.param_to_update:\n",
    "            if p['param'].data is not None:\n",
    "                if self.steps ==0:\n",
    "                    p['update'] = p['param'].grad\n",
    "                else:\n",
    "                    p['update'] = self.beta * p['update'] + (1-self.beta)*p['param'].grad \n",
    "                p['param'].data -= self.lr*p['update']\n",
    "        self.steps+=1\n",
    "        \n",
    "                \n",
    "    def zero_grad(self):\n",
    "        for p in self.param_to_update:\n",
    "            p['param'].input = None\n",
    "            p['param'].grad = None"
   ]
  },
  {
   "cell_type": "code",
   "execution_count": 52,
   "metadata": {},
   "outputs": [],
   "source": [
    "class Adam_opti(object):\n",
    "    def __init__(self, model_parameters, learn_rate = 1e-3,beta1 = 0.9,beta2 = 0.999, eps = 1e-8):\n",
    "        self.lr = learn_rate\n",
    "        self.param_to_update= [{'param': p,'m': torch.zeros_like(p.data), 'v': torch.zeros_like(p.data)} for p in model_parameters if p.data is not None]\n",
    "        self.beta1 = beta1\n",
    "        self.steps = 0\n",
    "        self.beta2 = beta2\n",
    "        self.eps = eps\n",
    "    \n",
    "    def step(self):\n",
    "        for p in self.param_to_update:\n",
    "            if p['param'].data is not None:\n",
    "                p['m'] = self.beta1 * p['m'] + (1-self.beta1)*p['param'].grad\n",
    "                p['v'] = self.beta2 * p['v'] + (1-self.beta2)*p['param'].grad.pow(2)\n",
    "                p['param'].data -= self.lr*(p['m']*(1- self.beta2)/((1-self.beta1) *(p['v'] + (1- self.beta2)*self.eps)))\n",
    "        self.steps+=1\n",
    "        \n",
    "                \n",
    "    def zero_grad(self):\n",
    "        for p in self.param_to_update:\n",
    "            p['param'].input = None\n",
    "            p['param'].grad = None"
   ]
  },
  {
   "cell_type": "code",
   "execution_count": 107,
   "metadata": {},
   "outputs": [],
   "source": [
    "class LR_scheduler(object):\n",
    "    def __init__(self, optimizer, gamma=0.1,counter = 30):\n",
    "        self.optimizer = optimizer\n",
    "        self.gamma = gamma\n",
    "        self.counter = counter\n",
    "        self.steps = 0\n",
    "        self.curr_count = counter\n",
    "        \n",
    "    def step(self):\n",
    "        self.steps+=1\n",
    "        if self.steps > self.curr_count:\n",
    "            self.optimizer.lr *= self.gamma\n",
    "            self.curr_count += self.counter\n"
   ]
  },
  {
   "cell_type": "code",
   "execution_count": null,
   "metadata": {},
   "outputs": [],
   "source": []
  },
  {
   "cell_type": "code",
   "execution_count": 108,
   "metadata": {},
   "outputs": [],
   "source": [
    "def generate_disc_set(nb):\n",
    "    data = empty(nb,2).uniform_(0,1)\n",
    "    target = (data-0.5).pow(2).sum(1).sub(1/(2*math.pi)).sign()\n",
    "    #.add(1).div(2)\n",
    "    \n",
    "    return data, target"
   ]
  },
  {
   "cell_type": "code",
   "execution_count": null,
   "metadata": {},
   "outputs": [],
   "source": []
  },
  {
   "cell_type": "code",
   "execution_count": 109,
   "metadata": {},
   "outputs": [],
   "source": [
    "def convert_to_one_hot_labels(target):\n",
    "    hot_labels = empty(target.size(0), 2)\n",
    "    hot_labels[:,0], hot_labels[:,1] = 1-target, target \n",
    "    return hot_labels"
   ]
  },
  {
   "cell_type": "code",
   "execution_count": 178,
   "metadata": {},
   "outputs": [],
   "source": [
    "model = Sequential(Linear(2, 25,dropout = 0.1), ReLU(),Linear(25, 25,dropout = 0.1), ReLU(),Linear(25, 25, dropout = 0.1), ReLU(),Linear(25, 1), Tanh())\n",
    "\n",
    "# Setting the training parameter\n",
    "mini_batch_size, epochs, lr = 50, 1000, 1e-3\n",
    "criterion = lossMSE()\n",
    "optimi = SGD_opti(model.param(), learn_rate=lr)\n",
    "scheduler = LR_scheduler(optimi,counter = epochs/4, gamma = 0.5)\n",
    "\n",
    "\n",
    "# Generating the train and test datasets\n",
    "nb_samples = 1000\n",
    "\n",
    "train_input, train_target = generate_disc_set(nb_samples)\n",
    "train_hot = convert_to_one_hot_labels(train_target)\n",
    "\n",
    "\n",
    "test_input, test_target = generate_disc_set(nb_samples)\n",
    "test_hot = convert_to_one_hot_labels(test_target)\n",
    "\n"
   ]
  },
  {
   "cell_type": "code",
   "execution_count": 179,
   "metadata": {},
   "outputs": [],
   "source": [
    "def compute_nb_acc(model, data_input, data_target):\n",
    "    # Function that returns the number of errors\n",
    "    nb_acc = 0\n",
    "    for b in range(0, data_input.size(0), mini_batch_size):\n",
    "        output = model.forward(data_input.narrow(0, b, mini_batch_size))\n",
    "        predicted_classes,_ = output.max(1)\n",
    "        nb_acc = nb_acc + (data_target.narrow(0, b, mini_batch_size).eq(predicted_classes.sign())).sum()\n",
    "    return nb_acc*100.0/data_input.size()[0]\n"
   ]
  },
  {
   "cell_type": "code",
   "execution_count": 180,
   "metadata": {},
   "outputs": [
    {
     "name": "stderr",
     "output_type": "stream",
     "text": [
      "100%|██████████| 1000/1000 [00:43<00:00, 22.93it/s]\n"
     ]
    }
   ],
   "source": [
    "import tqdm\n",
    "loss_list = []\n",
    "train_acc_list = []\n",
    "test_acc_list = []\n",
    "for e in tqdm.tqdm(range(0, epochs)):\n",
    "    sum_loss = 0\n",
    "    for b in range(0, train_input.size(0), mini_batch_size):\n",
    "        optimi.zero_grad()\n",
    "        output = model.forward(train_input.narrow(0, b, mini_batch_size))\n",
    "        loss = criterion.forward(output, train_target.narrow(0, b, mini_batch_size))\n",
    "        sum_loss+= loss\n",
    "        first_grad = criterion.backward(output, train_target.narrow(0, b, mini_batch_size))\n",
    "        model.backward(first_grad)\n",
    "        optimi.step()\n",
    "    scheduler.step()\n",
    "    loss_list.append(sum_loss.item()/train_input.size(0))\n",
    "    train_acc = compute_nb_acc(model, train_input, train_target)\n",
    "    test_acc = compute_nb_acc(model, test_input, test_target)\n",
    "    train_acc_list.append(train_acc)\n",
    "    test_acc_list.append(test_acc)\n",
    "    #if e%100 == 99:\n",
    "    #    print(train_error)\n",
    "    #    print(test_error)\n",
    "    #    print(loss_list[e])\n",
    "        "
   ]
  },
  {
   "cell_type": "code",
   "execution_count": 175,
   "metadata": {},
   "outputs": [
    {
     "data": {
      "text/plain": [
       "[<matplotlib.lines.Line2D at 0x7f1430045518>]"
      ]
     },
     "execution_count": 175,
     "metadata": {},
     "output_type": "execute_result"
    },
    {
     "data": {
      "image/png": "[encoded data removed]",
      "text/plain": [
       "<Figure size 432x288 with 1 Axes>"
      ]
     },
     "metadata": {
      "needs_background": "light"
     },
     "output_type": "display_data"
    }
   ],
   "source": [
    "import matplotlib.pyplot as plt\n",
    "%matplotlib inline\n",
    "plt.plot(range(len(loss_list)),loss_list)"
   ]
  },
  {
   "cell_type": "code",
   "execution_count": 181,
   "metadata": {},
   "outputs": [
    {
     "data": {
      "text/plain": [
       "<matplotlib.legend.Legend at 0x7f142ff83f98>"
      ]
     },
     "execution_count": 181,
     "metadata": {},
     "output_type": "execute_result"
    },
    {
     "data": {
      "image/png": "[encoded data removed]",
      "text/plain": [
       "<Figure size 432x288 with 1 Axes>"
      ]
     },
     "metadata": {
      "needs_background": "light"
     },
     "output_type": "display_data"
    }
   ],
   "source": [
    "plt.plot(range(len(train_acc_list)), train_acc_list,label=\"train_acc\")\n",
    "plt.plot(range(len(test_acc_list)),test_acc_list,label=\"test_acc\")\n",
    "plt.legend()"
   ]
  },
  {
   "cell_type": "code",
   "execution_count": 154,
   "metadata": {},
   "outputs": [
    {
     "name": "stdout",
     "output_type": "stream",
     "text": [
      "tensor(86.1000)\n",
      "tensor(86.7000)\n"
     ]
    }
   ],
   "source": []
  },
  {
   "cell_type": "code",
   "execution_count": 434,
   "metadata": {},
   "outputs": [
    {
     "data": {
      "text/plain": [
       "tensor(515)"
      ]
     },
     "execution_count": 434,
     "metadata": {},
     "output_type": "execute_result"
    }
   ],
   "source": []
  },
  {
   "cell_type": "code",
   "execution_count": 19,
   "metadata": {},
   "outputs": [],
   "source": [
    "def train_model(model, train_input, train_target):\n",
    "    # train function\n",
    "    loss_list = []\n",
    "    for e in range(0, epochs):\n",
    "        sum_loss = 0\n",
    "        for b in range(0, train_input.size(0), mini_batch_size):\n",
    "            output = model.forward(train_input.narrow(0, b, mini_batch_size))\n",
    "            loss = criterion.forward(output, train_target.narrow(0, b, mini_batch_size))\n",
    "            sum_loss+= loss\n",
    "            model.zero_grad()\n",
    "            first_grad = criterion.backward(output, train_target.narrow(0, b, mini_batch_size))\n",
    "            model.backward(first_grad)\n",
    "            optimi.step()\n",
    "        loss_list.append(sum_loss.item())\n",
    "    return loss_list"
   ]
  },
  {
   "cell_type": "code",
   "execution_count": 74,
   "metadata": {},
   "outputs": [],
   "source": []
  },
  {
   "cell_type": "code",
   "execution_count": 75,
   "metadata": {},
   "outputs": [],
   "source": [
    "data,target = generate_disc_set(1000)"
   ]
  },
  {
   "cell_type": "code",
   "execution_count": 76,
   "metadata": {},
   "outputs": [
    {
     "data": {
      "text/plain": [
       "torch.Size([1000, 2])"
      ]
     },
     "execution_count": 76,
     "metadata": {},
     "output_type": "execute_result"
    }
   ],
   "source": [
    "data.size()"
   ]
  },
  {
   "cell_type": "code",
   "execution_count": null,
   "metadata": {},
   "outputs": [],
   "source": [
    "FOLLOWING OF TRAINING :\n",
    "# Creating the model\n",
    "model = Sequential(Linear(2, 25), ReLU(),Linear(25, 25), ReLU(),Linear(25, 25), ReLU(),Linear(25, 2), Tanh())\n",
    "\n",
    "# Setting the training parameter\n",
    "mini_batch_size, epochs, lr = 50, 50, 1e-3\n",
    "\n",
    "criterion = lossMSE()\n",
    "optimi = SGD_opti(model.param(), learn_rate=lr)\n",
    "\n",
    "# Training\n",
    "l_list = train_model(model, train_input, train_hot)\n",
    "\n",
    "\n",
    "def compute_nb_errors(model, data_input, data_target):\n",
    "    # Function that returns the number of errors\n",
    "    nb_errors = 0\n",
    "    for b in range(0, data_input.size(0), mini_batch_size):\n",
    "        output = model.forward(data_input.narrow(0, b, mini_batchsize))\n",
    "        , predicted_classes = output.max(1)\n",
    "        for k in range(mini_batch_size):\n",
    "            if data_target[b + k].long() != predicted_classes[k]:\n",
    "                nb_errors = nb_errors + 1\n",
    "    return nb_errors\n",
    "\n",
    "# Computing the number of errors on both datasets\n",
    "train_error = compute_nb_errors(my_mod, train_input, train_target)\n",
    "test_error = compute_nb_errors(my_mod, test_input, test_target)\n",
    "IF A XAVIER INITIALIZATION IS NEEDED :"
   ]
  },
  {
   "cell_type": "code",
   "execution_count": 81,
   "metadata": {},
   "outputs": [
    {
     "data": {
      "text/plain": [
       "torch.Size([1000])"
      ]
     },
     "execution_count": 81,
     "metadata": {},
     "output_type": "execute_result"
    }
   ],
   "source": [
    "from torch import empty\n",
    "#from framework import *\n",
    "import math\n",
    "import torch\n",
    "\n",
    "torch.set_grad_enabled(False);\n",
    "\n",
    "\n",
    "\n",
    "# Generating the train and test datasets\n",
    "nb_samples = 1000\n",
    "\n",
    "train_input, train_target = generate_disc_set(nb_samples)\n",
    "train_hot = convert_to_one_hot_labels(train_target)\n",
    "\n",
    "test_input, test_target = generate_disc_set(nb_samples)\n",
    "test_hot = convert_to_one_hot_labels(test_target)\n",
    "\n",
    "\n",
    "def train_model(model, train_input, train_target):\n",
    "    # train function\n",
    "    loss_list = []\n",
    "    for e in range(0, epochs):\n",
    "        sum_loss = 0\n",
    "        for b in range(0, train_input.size(0), mini_batch_size):\n",
    "            output = model.forward(train_input.narrow(0, b, mini_batch_size))\n",
    "            loss = criterion.forward(output, train_target.narrow(0, b, mini_batch_size))\n",
    "            sum_loss+= loss\n",
    "            model.zero_grad()\n",
    "            first_grad = criterion.backward(output, train_target.narrow(0, b, mini_batch_size))\n",
    "            model.backward(first_grad)\n",
    "            optimi.step()\n",
    "        loss_list.append(sum_loss.item())\n",
    "    return loss_list"
   ]
  },
  {
   "cell_type": "code",
   "execution_count": null,
   "metadata": {},
   "outputs": [],
   "source": []
  },
  {
   "cell_type": "code",
   "execution_count": null,
   "metadata": {},
   "outputs": [],
   "source": []
  },
  {
   "cell_type": "code",
   "execution_count": null,
   "metadata": {},
   "outputs": [],
   "source": []
  },
  {
   "cell_type": "code",
   "execution_count": null,
   "metadata": {},
   "outputs": [],
   "source": []
  },
  {
   "cell_type": "code",
   "execution_count": null,
   "metadata": {},
   "outputs": [],
   "source": []
  },
  {
   "cell_type": "code",
   "execution_count": null,
   "metadata": {},
   "outputs": [],
   "source": []
  },
  {
   "cell_type": "markdown",
   "metadata": {},
   "source": [
    " Generates a training and a test set of 1, 000 points sampled uniformly in [0, 1]2\n",
    ", each with a\n",
    "label 0 if outside the disk centered at (0.5, 0.5) of radius 1/\n",
    "√\n",
    "2π, and 1 inside,\n"
   ]
  },
  {
   "cell_type": "markdown",
   "metadata": {},
   "source": [
    "def generate_disk_set(nb):\n",
    "    input = Tensor(nb, 1).uniform_(0, 1)\n",
    "    target = input.pow(2).sum(1).sub(1 / math.pi).sign().add(1).div(2).long()\n",
    "    return input, target\n",
    "\n",
    "train_input, train_target = generate_disc_set(1000)\n",
    "test_input, test_target = generate_disc_set(1000)\n",
    "\n",
    "mean, std = train_input.mean(), train_input.std()\n",
    "\n",
    "train_input.sub_(mean).div_(std)\n",
    "test_input.sub_(mean).div_(std)\n",
    "\n",
    "mini_batch_size = 100"
   ]
  },
  {
   "cell_type": "markdown",
   "metadata": {},
   "source": [
    " builds a network with two input units, two output units, three hidden layers of 25 units\n",
    "\n",
    "that returns a mlp with 2 input units, hidden layers of sizes respectively 4, 8, 16, 32, 64, 128, and 2\n",
    "output units\n",
    "\n",
    "\n",
    "\n"
   ]
  },
  {
   "cell_type": "markdown",
   "metadata": {},
   "source": [
    "def create_shallow_model():\n",
    "    return nn.Sequential(\n",
    "        nn.Linear(2, 128),\n",
    "        nn.ReLU(),\n",
    "        nn.Linear(128, 2)\n",
    "    )\n",
    "\n",
    "def create_deep_model():\n",
    "    return nn.Sequential(\n",
    "        nn.Linear(2, 4),\n",
    "        nn.ReLU(),\n",
    "        nn.Linear(4, 8),\n",
    "        nn.ReLU(),\n",
    "        nn.Linear(8, 16),\n",
    "        nn.ReLU(),\n",
    "        nn.Linear(16, 32),\n",
    "        nn.ReLU(),\n",
    "        nn.Linear(32, 64),\n",
    "        nn.ReLU(),\n",
    "        nn.Linear(64, 128),\n",
    "        nn.ReLU(),\n",
    "        nn.Linear(128, 2)\n",
    "    )"
   ]
  },
  {
   "cell_type": "markdown",
   "metadata": {},
   "source": [
    "forward and backward ?"
   ]
  },
  {
   "cell_type": "markdown",
   "metadata": {},
   "source": [
    "def forward_pass(w1, b1, w2, b2, x):\n",
    "    x0 = x\n",
    "    s1 = w1.mv(x0) + b1\n",
    "    x1 = sigma(s1)\n",
    "    s2 = w2.mv(x1) + b2\n",
    "    x2 = sigma(s2)\n",
    "\n",
    "    return x0, s1, x1, s2, x2\n",
    "\n",
    "def backward_pass(w1, b1, w2, b2,\n",
    "                  t,\n",
    "                  x, s1, x1, s2, x2,\n",
    "                  dl_dw1, dl_db1, dl_dw2, dl_db2):\n",
    "    x0 = x\n",
    "    dl_dx2 = dloss(x2, t)\n",
    "    dl_ds2 = dsigma(s2) * dl_dx2\n",
    "    dl_dx1 = w2.t().mv(dl_ds2)\n",
    "    dl_ds1 = dsigma(s1) * dl_dx1\n",
    "\n",
    "    dl_dw2.add_(dl_ds2.view(-1, 1).mm(x1.view(1, -1)))\n",
    "    dl_db2.add_(dl_ds2)\n",
    "    dl_dw1.add_(dl_ds1.view(-1, 1).mm(x0.view(1, -1)))\n",
    "    dl_db1.add_(dl_ds1)\n",
    "    \n",
    "    #ensuite utilisé dans la partie 4 de practical 3"
   ]
  },
  {
   "cell_type": "code",
   "execution_count": null,
   "metadata": {},
   "outputs": [],
   "source": []
  },
  {
   "cell_type": "code",
   "execution_count": null,
   "metadata": {},
   "outputs": [],
   "source": []
  },
  {
   "cell_type": "code",
   "execution_count": null,
   "metadata": {},
   "outputs": [],
   "source": []
  },
  {
   "cell_type": "code",
   "execution_count": null,
   "metadata": {},
   "outputs": [],
   "source": []
  }
 ],
 "metadata": {
  "kernelspec": {
   "display_name": "Python 3",
   "language": "python",
   "name": "python3"
  },
  "language_info": {
   "codemirror_mode": {
    "name": "ipython",
    "version": 3
   },
   "file_extension": ".py",
   "mimetype": "text/x-python",
   "name": "python",
   "nbconvert_exporter": "python",
   "pygments_lexer": "ipython3",
   "version": "3.7.3"
  }
 },
 "nbformat": 4,
 "nbformat_minor": 4
}
