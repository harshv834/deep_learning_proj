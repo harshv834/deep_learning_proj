{
 "cells": [
  {
   "cell_type": "markdown",
   "metadata": {},
   "source": [
    "# Case 1: [weight sharing:yes] [auxillary loss:yes] [linear layers]"
   ]
  },
  {
   "cell_type": "code",
   "execution_count": null,
   "metadata": {},
   "outputs": [],
   "source": [
    "class CompareNet(nn.Module):\n",
    "    def __init__(self):\n",
    "        super(CompareNet, self).__init__()\n",
    "        self.base = nn.Sequential(nn.Linear(196,64),nn.ReLU(),nn.Linear(64,32)) # add another base to remove weight sharing\n",
    "        self.comparator = nn.Linear(64,2)\n",
    "        self.classifier = nn.Linear(32,10) # for auxillary loss removal, remove this\n",
    "    \n",
    "    def forward(self, x):\n",
    "        x_0 = x[:,0,:,:].flatten(1)\n",
    "        x_1 = x[:,1,:,:].flatten(1)\n",
    "        x_0 = F.relu(self.base(x_0)) \n",
    "        x_1 = F.relu(self.base(x_1))\n",
    "        sign = F.relu(self.comparator(torch.cat([x_0,x_1],dim = 1)))\n",
    "        digit_0 = F.relu(self.classifier(x_0))\n",
    "        digit_1 = F.relu(self.classifier(x_1))\n",
    "        return sign, digit_0, digit_1"
   ]
  },
  {
   "cell_type": "markdown",
   "metadata": {},
   "source": [
    "# Case 2:[weight sharing:no] [auxillary loss:yes] [linear layers]"
   ]
  },
  {
   "cell_type": "code",
   "execution_count": null,
   "metadata": {},
   "outputs": [],
   "source": [
    "class CompareNet(nn.Module):\n",
    "    def __init__(self):\n",
    "        super(CompareNet, self).__init__()\n",
    "        self.base0 = nn.Sequential(nn.Linear(196,64),nn.ReLU(),nn.Linear(64,32)) # add another base to remove weight sharing\n",
    "        self.base1 = nn.Sequential(nn.Linear(196,64),nn.ReLU(),nn.Linear(64,32))\n",
    "        self.comparator = nn.Linear(64,2)\n",
    "        self.classifier = nn.Linear(32,10) # for auxillary loss removal, remove this\n",
    "    \n",
    "    def forward(self, x):\n",
    "        x_0 = x[:,0,:,:].flatten(1)\n",
    "        x_1 = x[:,1,:,:].flatten(1)\n",
    "        x_0 = F.relu(self.base0(x_0)) \n",
    "        x_1 = F.relu(self.base1(x_1))\n",
    "        sign = F.relu(self.comparator(torch.cat([x_0,x_1],dim = 1)))\n",
    "        digit_0 = F.relu(self.classifier(x_0))\n",
    "        digit_1 = F.relu(self.classifier(x_1))\n",
    "        return sign, digit_0, digit_1"
   ]
  },
  {
   "cell_type": "markdown",
   "metadata": {},
   "source": [
    "# Case 3 [weight sharing:yes] [auxillary loss:no] [linear layers]"
   ]
  },
  {
   "cell_type": "code",
   "execution_count": null,
   "metadata": {},
   "outputs": [],
   "source": [
    "class CompareNet(nn.Module):\n",
    "    def __init__(self):\n",
    "        super(CompareNet, self).__init__()\n",
    "        self.base = nn.Sequential(nn.Linear(196,64),nn.ReLU(),nn.Linear(64,32)) # add another base to remove weight sharing\n",
    "        self.comparator = nn.Linear(64,2)\n",
    "        #self.classifier = nn.Linear(32,10) # for auxillary loss removal, remove this\n",
    "    \n",
    "    def forward(self, x):\n",
    "        x_0 = x[:,0,:,:].flatten(1)\n",
    "        x_1 = x[:,1,:,:].flatten(1)\n",
    "        x_0 = F.relu(self.base(x_0)) \n",
    "        x_1 = F.relu(self.base(x_1))\n",
    "        sign = F.relu(self.comparator(torch.cat([x_0,x_1],dim = 1)))\n",
    "        #digit_0 = F.relu(self.classifier(x_0))\n",
    "        #digit_1 = F.relu(self.classifier(x_1))\n",
    "        return sign#, digit_0, digit_1"
   ]
  },
  {
   "cell_type": "markdown",
   "metadata": {},
   "source": [
    "# Case 3 [weight sharing:yes] [auxillary loss:yes] [convolution layers] - repeat by removing weight sharing and auxillary loss"
   ]
  },
  {
   "cell_type": "code",
   "execution_count": null,
   "metadata": {},
   "outputs": [],
   "source": [
    "class CompareNet(nn.Module):\n",
    "    def __init__(self):\n",
    "        super(CompareNet, self).__init__()\n",
    "        self.base = nn.Sequential(nn.Conv2d(1, 32, kernel_size=3),nn.Conv2d(32, 64, kernel_size=3),nn.MaxPool2d(kernel_size=2, stride=2) # add another base to remove weight sharing\n",
    "        self.comparator = nn.Linear(64,2)\n",
    "        self.classifier = nn.Linear(32,10) # for auxillary loss removal, remove this\n",
    "    \n",
    "    def forward(self, x):\n",
    "        x_0 = x[:,0,:,:].flatten(1)\n",
    "        x_1 = x[:,1,:,:].flatten(1)\n",
    "        x_0 = F.relu(self.base(x_0)) \n",
    "        x_1 = F.relu(self.base(x_1))\n",
    "        sign = F.relu(self.comparator(torch.cat([x_0,x_1],dim = 1)))\n",
    "        digit_0 = F.relu(self.classifier(x_0))\n",
    "        digit_1 = F.relu(self.classifier(x_1))\n",
    "        return sign, digit_0, digit_1"
   ]
  },
  {
   "cell_type": "markdown",
   "metadata": {},
   "source": [
    "# Case 4 [weight sharing:yes] [auxillary loss:yes] [convolution layers] [batchnorm]- repeat by removing weight sharing and auxillary loss"
   ]
  },
  {
   "cell_type": "code",
   "execution_count": null,
   "metadata": {},
   "outputs": [],
   "source": [
    "class CompareNet(nn.Module):\n",
    "    def __init__(self):\n",
    "        super(CompareNet, self).__init__()\n",
    "        self.base = nn.Sequential(nn.Conv2d(1, 32, kernel_size=3),nn.BatchNorm2d(32),nn.Conv2d(32, 64, kernel_size=3),nn.MaxPool2d(kernel_size=2, stride=2) # add another base to remove weight sharing\n",
    "        self.comparator = nn.Linear(64,2)\n",
    "        self.classifier = nn.Linear(32,10) # for auxillary loss removal, remove this\n",
    "    \n",
    "    def forward(self, x):\n",
    "        x_0 = x[:,0,:,:].flatten(1)\n",
    "        x_1 = x[:,1,:,:].flatten(1)\n",
    "        x_0 = F.relu(self.base(x_0)) \n",
    "        x_1 = F.relu(self.base(x_1))\n",
    "        sign = F.relu(self.comparator(torch.cat([x_0,x_1],dim = 1)))\n",
    "        digit_0 = F.relu(self.classifier(x_0))\n",
    "        digit_1 = F.relu(self.classifier(x_1))\n",
    "        return sign, digit_0, digit_1"
   ]
  },
  {
   "cell_type": "markdown",
   "metadata": {},
   "source": [
    "# Case 5 [weight sharing:yes] [auxillary loss:yes] [convolution layers] [Leaky ReLU, PReLU]- repeat by removing weight sharing and auxillary loss"
   ]
  },
  {
   "cell_type": "code",
   "execution_count": null,
   "metadata": {},
   "outputs": [],
   "source": [
    "# replace RELu with leakyReLU and PReLU in one of the architectures that perform best"
   ]
  }
 ],
 "metadata": {
  "kernelspec": {
   "display_name": "Python 3",
   "language": "python",
   "name": "python3"
  },
  "language_info": {
   "codemirror_mode": {
    "name": "ipython",
    "version": 3
   },
   "file_extension": ".py",
   "mimetype": "text/x-python",
   "name": "python",
   "nbconvert_exporter": "python",
   "pygments_lexer": "ipython3",
   "version": "3.7.4"
  }
 },
 "nbformat": 4,
 "nbformat_minor": 2
}
