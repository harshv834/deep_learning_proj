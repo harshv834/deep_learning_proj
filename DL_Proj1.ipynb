{
 "cells": [
  {
   "cell_type": "code",
   "execution_count": 3,
   "metadata": {},
   "outputs": [],
   "source": [
    "import torch \n",
    "import torch.nn as nn\n",
    "import matplotlib.pyplot as plt\n",
    "import torch.nn.functional as F\n",
    "import torch.optim as optim\n",
    "import numpy as np\n",
    "import dlc_practical_prologue as prologue\n",
    "%matplotlib inline\n",
    "N=1000\n",
    "from torch.utils.data import DataLoader, Dataset\n",
    "import tqdm\n",
    "from torch.autograd import Variable"
   ]
  },
  {
   "cell_type": "code",
   "execution_count": 4,
   "metadata": {},
   "outputs": [],
   "source": [
    "train_input, train_target, train_classes, test_input, test_target, test_classes = prologue.generate_pair_sets(N)"
   ]
  },
  {
   "cell_type": "code",
   "execution_count": 5,
   "metadata": {},
   "outputs": [],
   "source": [
    "class CompareNet(nn.Module):\n",
    "    def __init__(self):\n",
    "        super(CompareNet, self).__init__()\n",
    "        self.base = nn.Sequential(nn.Linear(196,64),nn.ReLU(),nn.Linear(64,32))\n",
    "        self.comparator = nn.Linear(64,2)\n",
    "        self.classifier = nn.Linear(32,10)\n",
    "    \n",
    "    def forward(self, x):\n",
    "        x_0 = x[:,0,:,:].flatten(1)\n",
    "        x_1 = x[:,1,:,:].flatten(1)\n",
    "        x_0 = F.relu(self.base(x_0))\n",
    "        x_1 = F.relu(self.base(x_1))\n",
    "        sign = F.relu(self.comparator(torch.cat([x_0,x_1],dim = 1)))\n",
    "        digit_0 = F.relu(self.classifier(x_0))\n",
    "        digit_1 = F.relu(self.classifier(x_1))\n",
    "        return sign, digit_0, digit_1\n",
    "    "
   ]
  },
  {
   "cell_type": "code",
   "execution_count": 6,
   "metadata": {},
   "outputs": [],
   "source": [
    "class DigitPairsDataset(Dataset):\n",
    "    def __init__(self,img_pair,targets, classes):\n",
    "        super(DigitPairsDataset, self).__init__()\n",
    "        self.img_pair = img_pair\n",
    "        self.targets = targets\n",
    "        self.classes = classes\n",
    "    \n",
    "    def __len__(self):\n",
    "        return self.targets.size()[0]\n",
    "    \n",
    "    def __getitem__(self, idx):\n",
    "        return self.img_pair[idx], self.targets[idx], self.classes[idx]"
   ]
  },
  {
   "cell_type": "code",
   "execution_count": 7,
   "metadata": {},
   "outputs": [
    {
     "name": "stderr",
     "output_type": "stream",
     "text": [
      "  5%|▌         | 10/200 [00:05<01:41,  1.87it/s]"
     ]
    },
    {
     "name": "stdout",
     "output_type": "stream",
     "text": [
      "Epoch : 9  ,   Train Accuracy : 76.90  , Validation Accuracy : 70.60 , Training Loss : 0.050010\n"
     ]
    },
    {
     "name": "stderr",
     "output_type": "stream",
     "text": [
      " 10%|█         | 20/200 [00:11<01:31,  1.96it/s]"
     ]
    },
    {
     "name": "stdout",
     "output_type": "stream",
     "text": [
      "Epoch : 19  ,   Train Accuracy : 92.80  , Validation Accuracy : 81.70 , Training Loss : 0.023110\n"
     ]
    },
    {
     "name": "stderr",
     "output_type": "stream",
     "text": [
      " 15%|█▌        | 30/200 [00:15<01:21,  2.09it/s]"
     ]
    },
    {
     "name": "stdout",
     "output_type": "stream",
     "text": [
      "Epoch : 29  ,   Train Accuracy : 97.00  , Validation Accuracy : 84.60 , Training Loss : 0.018908\n"
     ]
    },
    {
     "name": "stderr",
     "output_type": "stream",
     "text": [
      " 20%|██        | 40/200 [00:20<01:19,  2.02it/s]"
     ]
    },
    {
     "name": "stdout",
     "output_type": "stream",
     "text": [
      "Epoch : 39  ,   Train Accuracy : 98.10  , Validation Accuracy : 83.80 , Training Loss : 0.017665\n"
     ]
    },
    {
     "name": "stderr",
     "output_type": "stream",
     "text": [
      " 25%|██▌       | 50/200 [00:25<01:16,  1.95it/s]"
     ]
    },
    {
     "name": "stdout",
     "output_type": "stream",
     "text": [
      "Epoch : 49  ,   Train Accuracy : 98.40  , Validation Accuracy : 84.20 , Training Loss : 0.017906\n"
     ]
    },
    {
     "name": "stderr",
     "output_type": "stream",
     "text": [
      " 30%|███       | 60/200 [00:31<01:12,  1.93it/s]"
     ]
    },
    {
     "name": "stdout",
     "output_type": "stream",
     "text": [
      "Epoch : 59  ,   Train Accuracy : 93.50  , Validation Accuracy : 83.00 , Training Loss : 0.027013\n"
     ]
    },
    {
     "name": "stderr",
     "output_type": "stream",
     "text": [
      " 35%|███▌      | 70/200 [00:36<01:04,  2.01it/s]"
     ]
    },
    {
     "name": "stdout",
     "output_type": "stream",
     "text": [
      "Epoch : 69  ,   Train Accuracy : 99.00  , Validation Accuracy : 85.60 , Training Loss : 0.016722\n"
     ]
    },
    {
     "name": "stderr",
     "output_type": "stream",
     "text": [
      " 40%|████      | 80/200 [00:41<01:00,  1.97it/s]"
     ]
    },
    {
     "name": "stdout",
     "output_type": "stream",
     "text": [
      "Epoch : 79  ,   Train Accuracy : 99.00  , Validation Accuracy : 85.40 , Training Loss : 0.016868\n"
     ]
    },
    {
     "name": "stderr",
     "output_type": "stream",
     "text": [
      " 45%|████▌     | 90/200 [00:46<00:59,  1.86it/s]"
     ]
    },
    {
     "name": "stdout",
     "output_type": "stream",
     "text": [
      "Epoch : 89  ,   Train Accuracy : 97.90  , Validation Accuracy : 84.60 , Training Loss : 0.017759\n"
     ]
    },
    {
     "name": "stderr",
     "output_type": "stream",
     "text": [
      " 50%|█████     | 100/200 [00:51<00:48,  2.07it/s]"
     ]
    },
    {
     "name": "stdout",
     "output_type": "stream",
     "text": [
      "Epoch : 99  ,   Train Accuracy : 99.70  , Validation Accuracy : 86.10 , Training Loss : 0.016578\n"
     ]
    },
    {
     "name": "stderr",
     "output_type": "stream",
     "text": [
      " 55%|█████▌    | 110/200 [00:56<00:52,  1.72it/s]"
     ]
    },
    {
     "name": "stdout",
     "output_type": "stream",
     "text": [
      "Epoch : 109  ,   Train Accuracy : 99.70  , Validation Accuracy : 86.30 , Training Loss : 0.016691\n"
     ]
    },
    {
     "name": "stderr",
     "output_type": "stream",
     "text": [
      " 60%|██████    | 120/200 [01:04<00:58,  1.36it/s]"
     ]
    },
    {
     "name": "stdout",
     "output_type": "stream",
     "text": [
      "Epoch : 119  ,   Train Accuracy : 99.70  , Validation Accuracy : 86.10 , Training Loss : 0.016232\n"
     ]
    },
    {
     "name": "stderr",
     "output_type": "stream",
     "text": [
      " 65%|██████▌   | 130/200 [01:10<00:36,  1.93it/s]"
     ]
    },
    {
     "name": "stdout",
     "output_type": "stream",
     "text": [
      "Epoch : 129  ,   Train Accuracy : 99.70  , Validation Accuracy : 85.90 , Training Loss : 0.016444\n"
     ]
    },
    {
     "name": "stderr",
     "output_type": "stream",
     "text": [
      " 70%|███████   | 140/200 [01:16<00:33,  1.78it/s]"
     ]
    },
    {
     "name": "stdout",
     "output_type": "stream",
     "text": [
      "Epoch : 139  ,   Train Accuracy : 99.70  , Validation Accuracy : 86.40 , Training Loss : 0.016011\n"
     ]
    },
    {
     "name": "stderr",
     "output_type": "stream",
     "text": [
      " 75%|███████▌  | 150/200 [01:22<00:33,  1.50it/s]"
     ]
    },
    {
     "name": "stdout",
     "output_type": "stream",
     "text": [
      "Epoch : 149  ,   Train Accuracy : 99.70  , Validation Accuracy : 86.30 , Training Loss : 0.016656\n"
     ]
    },
    {
     "name": "stderr",
     "output_type": "stream",
     "text": [
      " 80%|████████  | 160/200 [01:29<00:23,  1.69it/s]"
     ]
    },
    {
     "name": "stdout",
     "output_type": "stream",
     "text": [
      "Epoch : 159  ,   Train Accuracy : 99.70  , Validation Accuracy : 86.60 , Training Loss : 0.016224\n"
     ]
    },
    {
     "name": "stderr",
     "output_type": "stream",
     "text": [
      " 85%|████████▌ | 170/200 [01:38<00:23,  1.30it/s]"
     ]
    },
    {
     "name": "stdout",
     "output_type": "stream",
     "text": [
      "Epoch : 169  ,   Train Accuracy : 99.70  , Validation Accuracy : 86.60 , Training Loss : 0.016223\n"
     ]
    },
    {
     "name": "stderr",
     "output_type": "stream",
     "text": [
      " 90%|█████████ | 180/200 [01:44<00:10,  1.82it/s]"
     ]
    },
    {
     "name": "stdout",
     "output_type": "stream",
     "text": [
      "Epoch : 179  ,   Train Accuracy : 99.70  , Validation Accuracy : 86.50 , Training Loss : 0.016006\n"
     ]
    },
    {
     "name": "stderr",
     "output_type": "stream",
     "text": [
      " 95%|█████████▌| 190/200 [01:50<00:05,  1.67it/s]"
     ]
    },
    {
     "name": "stdout",
     "output_type": "stream",
     "text": [
      "Epoch : 189  ,   Train Accuracy : 97.10  , Validation Accuracy : 85.30 , Training Loss : 0.023632\n"
     ]
    },
    {
     "name": "stderr",
     "output_type": "stream",
     "text": [
      "100%|██████████| 200/200 [01:55<00:00,  1.73it/s]"
     ]
    },
    {
     "name": "stdout",
     "output_type": "stream",
     "text": [
      "Epoch : 199  ,   Train Accuracy : 99.50  , Validation Accuracy : 87.00 , Training Loss : 0.016322\n"
     ]
    },
    {
     "name": "stderr",
     "output_type": "stream",
     "text": [
      "\n"
     ]
    }
   ],
   "source": [
    "net = CompareNet()\n",
    "criterion = nn.CrossEntropyLoss()\n",
    "mu = 1.0\n",
    "optimizer = optim.Adam(net.parameters(),lr = 0.001)\n",
    "train_dataset = DigitPairsDataset(train_input,train_target,train_classes)\n",
    "test_dataset = DigitPairsDataset(test_input,test_target,test_classes)\n",
    "train_loader = DataLoader(train_dataset,batch_size=32, shuffle = True, num_workers = 4)\n",
    "test_loader = DataLoader(test_dataset,batch_size=32, shuffle = True, num_workers = 4)\n",
    "\n",
    "def calc_accuracy(data_loader,model):\n",
    "    correct_count = 0.0\n",
    "    for i, data in enumerate(data_loader,0):\n",
    "        img_pair, target, classes = data\n",
    "        pred_sign, pred_class0, pred_class1 = model(img_pair)\n",
    "        pred = torch.argmax(pred_sign,-1)\n",
    "        correct_count += int((target.eq(pred)).sum())\n",
    "    return correct_count*100.0/N\n",
    "\n",
    "epochs = 200\n",
    "loss_arr = []\n",
    "train_acc_arr = []\n",
    "val_acc_arr = []\n",
    "\n",
    "for epoch in tqdm.tqdm(range(epochs)):\n",
    "    net.train()\n",
    "    running_loss = 0.0\n",
    "    for i, data in enumerate(train_loader,0):\n",
    "        img_pair, target, classes = data\n",
    "        optimizer.zero_grad()\n",
    "\n",
    "        pred_sign, pred_class0, pred_class1 = net(img_pair)\n",
    "        loss = criterion(pred_sign,target)+ mu*(criterion(pred_class0, classes[:,0])+ criterion(pred_class1, classes[:,1]))\n",
    "        running_loss += loss.item()\n",
    "        loss.backward()\n",
    "        optimizer.step()\n",
    "    net.eval()\n",
    "    running_loss /= N\n",
    "    loss_arr.append(running_loss)\n",
    "    train_acc = calc_accuracy(train_loader,net)\n",
    "    val_acc = calc_accuracy(test_loader,net)\n",
    "    train_acc_arr.append(train_acc)\n",
    "    val_acc_arr.append(val_acc)\n",
    "    if epoch % 10 == 9:\n",
    "        print(\"Epoch : %d  ,   Train Accuracy : %.2f  , Validation Accuracy : %.2f , Training Loss : %.6f\" %(epoch, train_acc, val_acc, running_loss))"
   ]
  },
  {
   "cell_type": "code",
   "execution_count": 7,
   "metadata": {},
   "outputs": [
    {
     "data": {
      "image/png": "[encoded data removed]",
      "text/plain": [
       "<Figure size 432x288 with 1 Axes>"
      ]
     },
     "metadata": {
      "needs_background": "light"
     },
     "output_type": "display_data"
    }
   ],
   "source": [
    "plt.plot(range(epochs),loss_arr)\n",
    "plt.xlabel(\"Epochs\")\n",
    "plt.ylabel(\"Loss\")\n",
    "plt.title(\"Training loss over iterations\")\n",
    "plt.show()"
   ]
  },
  {
   "cell_type": "code",
   "execution_count": 8,
   "metadata": {},
   "outputs": [
    {
     "data": {
      "image/png": "[encoded data removed]",
      "text/plain": [
       "<Figure size 432x288 with 1 Axes>"
      ]
     },
     "metadata": {
      "needs_background": "light"
     },
     "output_type": "display_data"
    }
   ],
   "source": [
    "plt.plot(range(epochs),train_acc_arr, label  =\" Training accuracy\")\n",
    "plt.plot(range(epochs), val_acc_arr, label =\"Validation accuracy\")\n",
    "plt.ylabel(\"Accuracy\")\n",
    "plt.xlabel(\"Epochs\")\n",
    "plt.title(\"Training and Validation accuracy during training\")\n",
    "plt.legend()\n",
    "plt.show()"
   ]
  },
  {
   "cell_type": "code",
   "execution_count": null,
   "metadata": {},
   "outputs": [],
   "source": []
  }
 ],
 "metadata": {
  "kernelspec": {
   "display_name": "Python 3",
   "language": "python",
   "name": "python3"
  },
  "language_info": {
   "codemirror_mode": {
    "name": "ipython",
    "version": 3
   },
   "file_extension": ".py",
   "mimetype": "text/x-python",
   "name": "python",
   "nbconvert_exporter": "python",
   "pygments_lexer": "ipython3",
   "version": "3.7.3"
  }
 },
 "nbformat": 4,
 "nbformat_minor": 4
}
