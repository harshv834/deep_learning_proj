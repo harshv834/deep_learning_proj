{
 "cells": [
  {
   "cell_type": "code",
   "execution_count": 26,
   "metadata": {},
   "outputs": [],
   "source": [
    "import torch \n",
    "import torch.nn as nn\n",
    "import matplotlib.pyplot as plt\n",
    "import torch.nn.functional as F\n",
    "import torch.optim as optim\n",
    "import numpy as np\n",
    "import dlc_practical_prologue as prologue\n",
    "%matplotlib inline\n",
    "N=1000\n",
    "from torch.utils.data import DataLoader, Dataset\n",
    "import tqdm"
   ]
  },
  {
   "cell_type": "code",
   "execution_count": 4,
   "metadata": {},
   "outputs": [
    {
     "name": "stdout",
     "output_type": "stream",
     "text": [
      "Downloading http://yann.lecun.com/exdb/mnist/train-images-idx3-ubyte.gz to ./data/mnist/MNIST/raw/train-images-idx3-ubyte.gz\n"
     ]
    },
    {
     "data": {
      "application/vnd.jupyter.widget-view+json": {
       "model_id": "01143b719f9e4c8ea61393ba2fe689e5",
       "version_major": 2,
       "version_minor": 0
      },
      "text/plain": [
       "HBox(children=(IntProgress(value=1, bar_style='info', max=1), HTML(value='')))"
      ]
     },
     "metadata": {},
     "output_type": "display_data"
    },
    {
     "name": "stdout",
     "output_type": "stream",
     "text": [
      "Extracting ./data/mnist/MNIST/raw/train-images-idx3-ubyte.gz to ./data/mnist/MNIST/raw\n",
      "Downloading http://yann.lecun.com/exdb/mnist/train-labels-idx1-ubyte.gz to ./data/mnist/MNIST/raw/train-labels-idx1-ubyte.gz\n"
     ]
    },
    {
     "data": {
      "application/vnd.jupyter.widget-view+json": {
       "model_id": "d46cbea1a9c24d90a813d61822967dea",
       "version_major": 2,
       "version_minor": 0
      },
      "text/plain": [
       "HBox(children=(IntProgress(value=1, bar_style='info', max=1), HTML(value='')))"
      ]
     },
     "metadata": {},
     "output_type": "display_data"
    },
    {
     "name": "stdout",
     "output_type": "stream",
     "text": [
      "Extracting ./data/mnist/MNIST/raw/train-labels-idx1-ubyte.gz to ./data/mnist/MNIST/raw\n",
      "Downloading http://yann.lecun.com/exdb/mnist/t10k-images-idx3-ubyte.gz to ./data/mnist/MNIST/raw/t10k-images-idx3-ubyte.gz\n",
      "\n"
     ]
    },
    {
     "data": {
      "application/vnd.jupyter.widget-view+json": {
       "model_id": "2f456ea5d5d04d43ab5c11dca0bfcd8a",
       "version_major": 2,
       "version_minor": 0
      },
      "text/plain": [
       "HBox(children=(IntProgress(value=1, bar_style='info', max=1), HTML(value='')))"
      ]
     },
     "metadata": {},
     "output_type": "display_data"
    },
    {
     "name": "stdout",
     "output_type": "stream",
     "text": [
      "Extracting ./data/mnist/MNIST/raw/t10k-images-idx3-ubyte.gz to ./data/mnist/MNIST/raw\n",
      "Downloading http://yann.lecun.com/exdb/mnist/t10k-labels-idx1-ubyte.gz to ./data/mnist/MNIST/raw/t10k-labels-idx1-ubyte.gz\n"
     ]
    },
    {
     "data": {
      "application/vnd.jupyter.widget-view+json": {
       "model_id": "52b837852c2b41f39a4506f479568e91",
       "version_major": 2,
       "version_minor": 0
      },
      "text/plain": [
       "HBox(children=(IntProgress(value=1, bar_style='info', max=1), HTML(value='')))"
      ]
     },
     "metadata": {},
     "output_type": "display_data"
    },
    {
     "name": "stdout",
     "output_type": "stream",
     "text": [
      "Extracting ./data/mnist/MNIST/raw/t10k-labels-idx1-ubyte.gz to ./data/mnist/MNIST/raw\n",
      "Processing...\n",
      "Done!\n"
     ]
    },
    {
     "name": "stderr",
     "output_type": "stream",
     "text": [
      "/pytorch/torch/csrc/utils/tensor_numpy.cpp:141: UserWarning: The given NumPy array is not writeable, and PyTorch does not support non-writeable tensors. This means you can write to the underlying (supposedly non-writeable) NumPy array using the tensor. You may want to copy the array to protect its data or make it writeable before converting it to a tensor. This type of warning will be suppressed for the rest of this program.\n"
     ]
    }
   ],
   "source": [
    "train_input, train_target, train_classes, test_input, test_target, test_classes = prologue.generate_pair_sets(N)"
   ]
  },
  {
   "cell_type": "code",
   "execution_count": 57,
   "metadata": {},
   "outputs": [],
   "source": [
    "class CompareNet(nn.Module):\n",
    "    def __init__(self):\n",
    "        super(CompareNet, self).__init__()\n",
    "        self.base = nn.Sequential(nn.Linear(196,64),nn.ReLU(),nn.Linear(64,32))\n",
    "        self.comparator = nn.Linear(64,2)\n",
    "        self.classifier = nn.Linear(32,10)\n",
    "    \n",
    "    def forward(self, x):\n",
    "        x_0 = x[:,0,:,:].flatten(1)\n",
    "        x_1 = x[:,1,:,:].flatten(1)\n",
    "        x_0 = F.relu(self.base(x_0))\n",
    "        x_1 = F.relu(self.base(x_1))\n",
    "        sign = F.relu(self.comparator(torch.cat([x_0,x_1],dim = 1)))\n",
    "        digit_0 = F.relu(self.classifier(x_0))\n",
    "        digit_1 = F.relu(self.classifier(x_1))\n",
    "        return sign, digit_0, digit_1\n",
    "    "
   ]
  },
  {
   "cell_type": "code",
   "execution_count": 58,
   "metadata": {},
   "outputs": [],
   "source": [
    "class DigitPairsDataset(Dataset):\n",
    "    def __init__(self,img_pair,targets, classes):\n",
    "        super(DigitPairsDataset, self).__init__()\n",
    "        self.img_pair = img_pair\n",
    "        self.targets = targets\n",
    "        self.classes = classes\n",
    "    \n",
    "    def __len__(self):\n",
    "        return self.targets.size()[0]\n",
    "    \n",
    "    def __getitem__(self, idx):\n",
    "        return self.img_pair[idx], self.targets[idx], self.classes[idx]"
   ]
  },
  {
   "cell_type": "code",
   "execution_count": 74,
   "metadata": {},
   "outputs": [
    {
     "name": "stderr",
     "output_type": "stream",
     "text": [
      "\n",
      "\n",
      "\n",
      "\n",
      "  0%|          | 0/200 [00:00<?, ?it/s]\u001b[A\u001b[A\u001b[A\u001b[A\n",
      "\n",
      "\n",
      "\n",
      "  0%|          | 1/200 [00:00<02:12,  1.50it/s]\u001b[A\u001b[A\u001b[A\u001b[A"
     ]
    },
    {
     "name": "stdout",
     "output_type": "stream",
     "text": [
      "Epoch : 0  ,   Train Accuracy : 55.10  , Validation Accuracy : 52.60 , Training Loss : 1.971847\n"
     ]
    },
    {
     "name": "stderr",
     "output_type": "stream",
     "text": [
      "\n",
      "\n",
      "\n",
      "\n",
      "  1%|          | 2/200 [00:01<02:07,  1.55it/s]\u001b[A\u001b[A\u001b[A\u001b[A"
     ]
    },
    {
     "name": "stdout",
     "output_type": "stream",
     "text": [
      "Epoch : 1  ,   Train Accuracy : 55.10  , Validation Accuracy : 52.60 , Training Loss : 0.022181\n"
     ]
    },
    {
     "name": "stderr",
     "output_type": "stream",
     "text": [
      "\n",
      "\n",
      "\n",
      "\n",
      "  2%|▏         | 3/200 [00:01<02:03,  1.60it/s]\u001b[A\u001b[A\u001b[A\u001b[A"
     ]
    },
    {
     "name": "stdout",
     "output_type": "stream",
     "text": [
      "Epoch : 2  ,   Train Accuracy : 55.10  , Validation Accuracy : 52.60 , Training Loss : 0.022181\n"
     ]
    },
    {
     "name": "stderr",
     "output_type": "stream",
     "text": [
      "\n",
      "\n",
      "\n",
      "\n",
      "  2%|▏         | 4/200 [00:02<01:58,  1.65it/s]\u001b[A\u001b[A\u001b[A\u001b[A"
     ]
    },
    {
     "name": "stdout",
     "output_type": "stream",
     "text": [
      "Epoch : 3  ,   Train Accuracy : 55.10  , Validation Accuracy : 52.60 , Training Loss : 0.022181\n"
     ]
    },
    {
     "name": "stderr",
     "output_type": "stream",
     "text": [
      "\n",
      "\n",
      "\n",
      "\n",
      "  2%|▎         | 5/200 [00:03<02:04,  1.56it/s]\u001b[A\u001b[A\u001b[A\u001b[A"
     ]
    },
    {
     "name": "stdout",
     "output_type": "stream",
     "text": [
      "Epoch : 4  ,   Train Accuracy : 55.10  , Validation Accuracy : 52.60 , Training Loss : 0.022181\n"
     ]
    },
    {
     "name": "stderr",
     "output_type": "stream",
     "text": [
      "\n",
      "\n",
      "\n",
      "\n",
      "  3%|▎         | 6/200 [00:03<01:56,  1.66it/s]\u001b[A\u001b[A\u001b[A\u001b[A"
     ]
    },
    {
     "name": "stdout",
     "output_type": "stream",
     "text": [
      "Epoch : 5  ,   Train Accuracy : 55.10  , Validation Accuracy : 52.60 , Training Loss : 0.022181\n"
     ]
    },
    {
     "name": "stderr",
     "output_type": "stream",
     "text": [
      "\n",
      "\n",
      "\n",
      "\n",
      "  4%|▎         | 7/200 [00:04<01:52,  1.71it/s]\u001b[A\u001b[A\u001b[A\u001b[A"
     ]
    },
    {
     "name": "stdout",
     "output_type": "stream",
     "text": [
      "Epoch : 6  ,   Train Accuracy : 55.10  , Validation Accuracy : 52.60 , Training Loss : 0.022181\n"
     ]
    },
    {
     "name": "stderr",
     "output_type": "stream",
     "text": [
      "\n",
      "\n",
      "\n",
      "\n",
      "  4%|▍         | 8/200 [00:04<01:49,  1.75it/s]\u001b[A\u001b[A\u001b[A\u001b[A"
     ]
    },
    {
     "name": "stdout",
     "output_type": "stream",
     "text": [
      "Epoch : 7  ,   Train Accuracy : 55.10  , Validation Accuracy : 52.60 , Training Loss : 0.022181\n"
     ]
    },
    {
     "name": "stderr",
     "output_type": "stream",
     "text": [
      "\n",
      "\n",
      "\n",
      "\n",
      "  4%|▍         | 9/200 [00:05<02:00,  1.58it/s]\u001b[A\u001b[A\u001b[A\u001b[A"
     ]
    },
    {
     "name": "stdout",
     "output_type": "stream",
     "text": [
      "Epoch : 8  ,   Train Accuracy : 55.10  , Validation Accuracy : 52.60 , Training Loss : 0.022181\n"
     ]
    },
    {
     "name": "stderr",
     "output_type": "stream",
     "text": [
      "\n",
      "\n",
      "\n",
      "\n",
      "  5%|▌         | 10/200 [00:06<01:54,  1.67it/s]\u001b[A\u001b[A\u001b[A\u001b[A"
     ]
    },
    {
     "name": "stdout",
     "output_type": "stream",
     "text": [
      "Epoch : 9  ,   Train Accuracy : 55.10  , Validation Accuracy : 52.60 , Training Loss : 0.022181\n"
     ]
    },
    {
     "name": "stderr",
     "output_type": "stream",
     "text": [
      "\n",
      "\n",
      "\n",
      "\n",
      "  6%|▌         | 11/200 [00:06<01:50,  1.71it/s]\u001b[A\u001b[A\u001b[A\u001b[A"
     ]
    },
    {
     "name": "stdout",
     "output_type": "stream",
     "text": [
      "Epoch : 10  ,   Train Accuracy : 55.10  , Validation Accuracy : 52.60 , Training Loss : 0.022181\n"
     ]
    },
    {
     "name": "stderr",
     "output_type": "stream",
     "text": [
      "\n",
      "\n",
      "\n",
      "\n",
      "  6%|▌         | 12/200 [00:07<01:46,  1.76it/s]\u001b[A\u001b[A\u001b[A\u001b[A"
     ]
    },
    {
     "name": "stdout",
     "output_type": "stream",
     "text": [
      "Epoch : 11  ,   Train Accuracy : 55.10  , Validation Accuracy : 52.60 , Training Loss : 0.022181\n"
     ]
    },
    {
     "name": "stderr",
     "output_type": "stream",
     "text": [
      "\n",
      "\n",
      "\n",
      "\n",
      "  6%|▋         | 13/200 [00:07<01:44,  1.79it/s]\u001b[A\u001b[A\u001b[A\u001b[A"
     ]
    },
    {
     "name": "stdout",
     "output_type": "stream",
     "text": [
      "Epoch : 12  ,   Train Accuracy : 55.10  , Validation Accuracy : 52.60 , Training Loss : 0.022181\n"
     ]
    },
    {
     "name": "stderr",
     "output_type": "stream",
     "text": [
      "\n",
      "\n",
      "\n",
      "\n",
      "  7%|▋         | 14/200 [00:08<01:54,  1.62it/s]\u001b[A\u001b[A\u001b[A\u001b[A"
     ]
    },
    {
     "name": "stdout",
     "output_type": "stream",
     "text": [
      "Epoch : 13  ,   Train Accuracy : 55.10  , Validation Accuracy : 52.60 , Training Loss : 0.022181\n"
     ]
    },
    {
     "name": "stderr",
     "output_type": "stream",
     "text": [
      "\n",
      "\n",
      "\n",
      "\n",
      "  8%|▊         | 15/200 [00:08<01:50,  1.68it/s]\u001b[A\u001b[A\u001b[A\u001b[A"
     ]
    },
    {
     "name": "stdout",
     "output_type": "stream",
     "text": [
      "Epoch : 14  ,   Train Accuracy : 55.10  , Validation Accuracy : 52.60 , Training Loss : 0.022181\n"
     ]
    },
    {
     "name": "stderr",
     "output_type": "stream",
     "text": [
      "\n",
      "\n",
      "\n",
      "\n",
      "  8%|▊         | 16/200 [00:09<01:56,  1.57it/s]\u001b[A\u001b[A\u001b[A\u001b[A"
     ]
    },
    {
     "name": "stdout",
     "output_type": "stream",
     "text": [
      "Epoch : 15  ,   Train Accuracy : 55.10  , Validation Accuracy : 52.60 , Training Loss : 0.022181\n"
     ]
    },
    {
     "name": "stderr",
     "output_type": "stream",
     "text": [
      "\n",
      "\n",
      "\n",
      "\n",
      "  8%|▊         | 17/200 [00:10<02:04,  1.47it/s]\u001b[A\u001b[A\u001b[A\u001b[A"
     ]
    },
    {
     "name": "stdout",
     "output_type": "stream",
     "text": [
      "Epoch : 16  ,   Train Accuracy : 55.10  , Validation Accuracy : 52.60 , Training Loss : 0.022181\n"
     ]
    },
    {
     "name": "stderr",
     "output_type": "stream",
     "text": [
      "\n",
      "\n",
      "\n",
      "\n",
      "  9%|▉         | 18/200 [00:10<01:55,  1.58it/s]\u001b[A\u001b[A\u001b[A\u001b[A"
     ]
    },
    {
     "name": "stdout",
     "output_type": "stream",
     "text": [
      "Epoch : 17  ,   Train Accuracy : 55.10  , Validation Accuracy : 52.60 , Training Loss : 0.022181\n"
     ]
    },
    {
     "name": "stderr",
     "output_type": "stream",
     "text": [
      "\n",
      "\n",
      "\n",
      "\n",
      " 10%|▉         | 19/200 [00:11<01:51,  1.62it/s]\u001b[A\u001b[A\u001b[A\u001b[A"
     ]
    },
    {
     "name": "stdout",
     "output_type": "stream",
     "text": [
      "Epoch : 18  ,   Train Accuracy : 55.10  , Validation Accuracy : 52.60 , Training Loss : 0.022181\n"
     ]
    },
    {
     "name": "stderr",
     "output_type": "stream",
     "text": [
      "\n",
      "\n",
      "\n",
      "\n",
      " 10%|█         | 20/200 [00:12<01:47,  1.68it/s]\u001b[A\u001b[A\u001b[A\u001b[A"
     ]
    },
    {
     "name": "stdout",
     "output_type": "stream",
     "text": [
      "Epoch : 19  ,   Train Accuracy : 55.10  , Validation Accuracy : 52.60 , Training Loss : 0.022181\n"
     ]
    },
    {
     "name": "stderr",
     "output_type": "stream",
     "text": [
      "\n",
      "\n",
      "\n",
      "\n",
      " 10%|█         | 21/200 [00:12<01:43,  1.72it/s]\u001b[A\u001b[A\u001b[A\u001b[A"
     ]
    },
    {
     "name": "stdout",
     "output_type": "stream",
     "text": [
      "Epoch : 20  ,   Train Accuracy : 55.10  , Validation Accuracy : 52.60 , Training Loss : 0.022181\n"
     ]
    },
    {
     "name": "stderr",
     "output_type": "stream",
     "text": [
      "\n",
      "\n",
      "\n",
      "\n",
      " 11%|█         | 22/200 [00:13<01:40,  1.77it/s]\u001b[A\u001b[A\u001b[A\u001b[A"
     ]
    },
    {
     "name": "stdout",
     "output_type": "stream",
     "text": [
      "Epoch : 21  ,   Train Accuracy : 55.10  , Validation Accuracy : 52.60 , Training Loss : 0.022181\n"
     ]
    },
    {
     "name": "stderr",
     "output_type": "stream",
     "text": [
      "\n",
      "\n",
      "\n",
      "\n",
      " 12%|█▏        | 23/200 [00:13<01:39,  1.78it/s]\u001b[A\u001b[A\u001b[A\u001b[A"
     ]
    },
    {
     "name": "stdout",
     "output_type": "stream",
     "text": [
      "Epoch : 22  ,   Train Accuracy : 55.10  , Validation Accuracy : 52.60 , Training Loss : 0.022181\n"
     ]
    },
    {
     "name": "stderr",
     "output_type": "stream",
     "text": [
      "\n",
      "\n",
      "\n",
      "\n",
      " 12%|█▏        | 24/200 [00:14<01:39,  1.77it/s]\u001b[A\u001b[A\u001b[A\u001b[A"
     ]
    },
    {
     "name": "stdout",
     "output_type": "stream",
     "text": [
      "Epoch : 23  ,   Train Accuracy : 55.10  , Validation Accuracy : 52.60 , Training Loss : 0.022181\n"
     ]
    },
    {
     "name": "stderr",
     "output_type": "stream",
     "text": [
      "\n",
      "\n",
      "\n",
      "\n",
      " 12%|█▎        | 25/200 [00:15<01:48,  1.61it/s]\u001b[A\u001b[A\u001b[A\u001b[A"
     ]
    },
    {
     "name": "stdout",
     "output_type": "stream",
     "text": [
      "Epoch : 24  ,   Train Accuracy : 55.10  , Validation Accuracy : 52.60 , Training Loss : 0.022181\n"
     ]
    },
    {
     "name": "stderr",
     "output_type": "stream",
     "text": [
      "\n",
      "\n",
      "\n",
      "\n",
      " 13%|█▎        | 26/200 [00:15<01:43,  1.68it/s]\u001b[A\u001b[A\u001b[A\u001b[A"
     ]
    },
    {
     "name": "stdout",
     "output_type": "stream",
     "text": [
      "Epoch : 25  ,   Train Accuracy : 55.10  , Validation Accuracy : 52.60 , Training Loss : 0.022181\n"
     ]
    },
    {
     "name": "stderr",
     "output_type": "stream",
     "text": [
      "\n",
      "\n",
      "\n",
      "\n",
      " 14%|█▎        | 27/200 [00:16<01:54,  1.52it/s]\u001b[A\u001b[A\u001b[A\u001b[A"
     ]
    },
    {
     "name": "stdout",
     "output_type": "stream",
     "text": [
      "Epoch : 26  ,   Train Accuracy : 55.10  , Validation Accuracy : 52.60 , Training Loss : 0.022181\n"
     ]
    },
    {
     "name": "stderr",
     "output_type": "stream",
     "text": [
      "\n",
      "\n",
      "\n",
      "\n",
      " 14%|█▍        | 28/200 [00:17<01:57,  1.46it/s]\u001b[A\u001b[A\u001b[A\u001b[A"
     ]
    },
    {
     "name": "stdout",
     "output_type": "stream",
     "text": [
      "Epoch : 27  ,   Train Accuracy : 55.10  , Validation Accuracy : 52.60 , Training Loss : 0.022181\n"
     ]
    },
    {
     "name": "stderr",
     "output_type": "stream",
     "text": [
      "\n",
      "\n",
      "\n",
      "\n",
      " 14%|█▍        | 29/200 [00:17<01:58,  1.44it/s]\u001b[A\u001b[A\u001b[A\u001b[A"
     ]
    },
    {
     "name": "stdout",
     "output_type": "stream",
     "text": [
      "Epoch : 28  ,   Train Accuracy : 55.10  , Validation Accuracy : 52.60 , Training Loss : 0.022181\n"
     ]
    },
    {
     "name": "stderr",
     "output_type": "stream",
     "text": [
      "\n",
      "\n",
      "\n",
      "\n",
      " 15%|█▌        | 30/200 [00:18<01:59,  1.43it/s]\u001b[A\u001b[A\u001b[A\u001b[A"
     ]
    },
    {
     "name": "stdout",
     "output_type": "stream",
     "text": [
      "Epoch : 29  ,   Train Accuracy : 55.10  , Validation Accuracy : 52.60 , Training Loss : 0.022181\n"
     ]
    },
    {
     "name": "stderr",
     "output_type": "stream",
     "text": [
      "\n",
      "\n",
      "\n",
      "\n",
      " 16%|█▌        | 31/200 [00:19<01:50,  1.53it/s]\u001b[A\u001b[A\u001b[A\u001b[A"
     ]
    },
    {
     "name": "stdout",
     "output_type": "stream",
     "text": [
      "Epoch : 30  ,   Train Accuracy : 55.10  , Validation Accuracy : 52.60 , Training Loss : 0.022181\n"
     ]
    },
    {
     "name": "stderr",
     "output_type": "stream",
     "text": [
      "\n",
      "\n",
      "\n",
      "\n",
      " 16%|█▌        | 32/200 [00:19<01:44,  1.61it/s]\u001b[A\u001b[A\u001b[A\u001b[A"
     ]
    },
    {
     "name": "stdout",
     "output_type": "stream",
     "text": [
      "Epoch : 31  ,   Train Accuracy : 55.10  , Validation Accuracy : 52.60 , Training Loss : 0.022181\n"
     ]
    },
    {
     "name": "stderr",
     "output_type": "stream",
     "text": [
      "\n",
      "\n",
      "\n",
      "\n",
      " 16%|█▋        | 33/200 [00:20<01:39,  1.69it/s]\u001b[A\u001b[A\u001b[A\u001b[A"
     ]
    },
    {
     "name": "stdout",
     "output_type": "stream",
     "text": [
      "Epoch : 32  ,   Train Accuracy : 55.10  , Validation Accuracy : 52.60 , Training Loss : 0.022181\n"
     ]
    },
    {
     "name": "stderr",
     "output_type": "stream",
     "text": [
      "\n",
      "\n",
      "\n",
      "\n",
      " 17%|█▋        | 34/200 [00:20<01:35,  1.74it/s]\u001b[A\u001b[A\u001b[A\u001b[A"
     ]
    },
    {
     "name": "stdout",
     "output_type": "stream",
     "text": [
      "Epoch : 33  ,   Train Accuracy : 55.10  , Validation Accuracy : 52.60 , Training Loss : 0.022181\n"
     ]
    },
    {
     "name": "stderr",
     "output_type": "stream",
     "text": [
      "\n",
      "\n",
      "\n",
      "\n",
      " 18%|█▊        | 35/200 [00:21<01:33,  1.77it/s]\u001b[A\u001b[A\u001b[A\u001b[A"
     ]
    },
    {
     "name": "stdout",
     "output_type": "stream",
     "text": [
      "Epoch : 34  ,   Train Accuracy : 55.10  , Validation Accuracy : 52.60 , Training Loss : 0.022181\n"
     ]
    },
    {
     "name": "stderr",
     "output_type": "stream",
     "text": [
      "\n",
      "\n",
      "\n",
      "\n",
      " 18%|█▊        | 36/200 [00:21<01:31,  1.78it/s]\u001b[A\u001b[A\u001b[A\u001b[A"
     ]
    },
    {
     "name": "stdout",
     "output_type": "stream",
     "text": [
      "Epoch : 35  ,   Train Accuracy : 55.10  , Validation Accuracy : 52.60 , Training Loss : 0.022181\n"
     ]
    },
    {
     "name": "stderr",
     "output_type": "stream",
     "text": [
      "\n",
      "\n",
      "\n",
      "\n",
      " 18%|█▊        | 37/200 [00:22<01:30,  1.80it/s]\u001b[A\u001b[A\u001b[A\u001b[A"
     ]
    },
    {
     "name": "stdout",
     "output_type": "stream",
     "text": [
      "Epoch : 36  ,   Train Accuracy : 55.10  , Validation Accuracy : 52.60 , Training Loss : 0.022181\n"
     ]
    },
    {
     "name": "stderr",
     "output_type": "stream",
     "text": [
      "\n",
      "\n",
      "\n",
      "\n",
      " 19%|█▉        | 38/200 [00:22<01:28,  1.82it/s]\u001b[A\u001b[A\u001b[A\u001b[A"
     ]
    },
    {
     "name": "stdout",
     "output_type": "stream",
     "text": [
      "Epoch : 37  ,   Train Accuracy : 55.10  , Validation Accuracy : 52.60 , Training Loss : 0.022181\n"
     ]
    },
    {
     "name": "stderr",
     "output_type": "stream",
     "text": [
      "\n",
      "\n",
      "\n",
      "\n",
      " 20%|█▉        | 39/200 [00:23<01:27,  1.85it/s]\u001b[A\u001b[A\u001b[A\u001b[A"
     ]
    },
    {
     "name": "stdout",
     "output_type": "stream",
     "text": [
      "Epoch : 38  ,   Train Accuracy : 55.10  , Validation Accuracy : 52.60 , Training Loss : 0.022181\n"
     ]
    },
    {
     "name": "stderr",
     "output_type": "stream",
     "text": [
      "\n",
      "\n",
      "\n",
      "\n",
      " 20%|██        | 40/200 [00:23<01:26,  1.85it/s]\u001b[A\u001b[A\u001b[A\u001b[A"
     ]
    },
    {
     "name": "stdout",
     "output_type": "stream",
     "text": [
      "Epoch : 39  ,   Train Accuracy : 55.10  , Validation Accuracy : 52.60 , Training Loss : 0.022181\n"
     ]
    },
    {
     "name": "stderr",
     "output_type": "stream",
     "text": [
      "\n",
      "\n",
      "\n",
      "\n",
      " 20%|██        | 41/200 [00:24<01:25,  1.86it/s]\u001b[A\u001b[A\u001b[A\u001b[A"
     ]
    },
    {
     "name": "stdout",
     "output_type": "stream",
     "text": [
      "Epoch : 40  ,   Train Accuracy : 55.10  , Validation Accuracy : 52.60 , Training Loss : 0.022181\n"
     ]
    },
    {
     "name": "stderr",
     "output_type": "stream",
     "text": [
      "\n",
      "\n",
      "\n",
      "\n",
      " 21%|██        | 42/200 [00:25<01:24,  1.86it/s]\u001b[A\u001b[A\u001b[A\u001b[A"
     ]
    },
    {
     "name": "stdout",
     "output_type": "stream",
     "text": [
      "Epoch : 41  ,   Train Accuracy : 55.10  , Validation Accuracy : 52.60 , Training Loss : 0.022181\n"
     ]
    },
    {
     "name": "stderr",
     "output_type": "stream",
     "text": [
      "\n",
      "\n",
      "\n",
      "\n",
      " 22%|██▏       | 43/200 [00:25<01:35,  1.64it/s]\u001b[A\u001b[A\u001b[A\u001b[A"
     ]
    },
    {
     "name": "stdout",
     "output_type": "stream",
     "text": [
      "Epoch : 42  ,   Train Accuracy : 55.10  , Validation Accuracy : 52.60 , Training Loss : 0.022181\n"
     ]
    },
    {
     "name": "stderr",
     "output_type": "stream",
     "text": [
      "\n",
      "\n",
      "\n",
      "\n",
      " 22%|██▏       | 44/200 [00:26<01:32,  1.68it/s]\u001b[A\u001b[A\u001b[A\u001b[A"
     ]
    },
    {
     "name": "stdout",
     "output_type": "stream",
     "text": [
      "Epoch : 43  ,   Train Accuracy : 55.10  , Validation Accuracy : 52.60 , Training Loss : 0.022181\n"
     ]
    },
    {
     "name": "stderr",
     "output_type": "stream",
     "text": [
      "\n",
      "\n",
      "\n",
      "\n",
      " 22%|██▎       | 45/200 [00:26<01:28,  1.74it/s]\u001b[A\u001b[A\u001b[A\u001b[A"
     ]
    },
    {
     "name": "stdout",
     "output_type": "stream",
     "text": [
      "Epoch : 44  ,   Train Accuracy : 55.10  , Validation Accuracy : 52.60 , Training Loss : 0.022181\n"
     ]
    },
    {
     "name": "stderr",
     "output_type": "stream",
     "text": [
      "\n",
      "\n",
      "\n",
      "\n",
      " 23%|██▎       | 46/200 [00:27<01:35,  1.61it/s]\u001b[A\u001b[A\u001b[A\u001b[A"
     ]
    },
    {
     "name": "stdout",
     "output_type": "stream",
     "text": [
      "Epoch : 45  ,   Train Accuracy : 55.10  , Validation Accuracy : 52.60 , Training Loss : 0.022181\n"
     ]
    },
    {
     "name": "stderr",
     "output_type": "stream",
     "text": [
      "\n",
      "\n",
      "\n",
      "\n",
      " 24%|██▎       | 47/200 [00:28<01:32,  1.65it/s]\u001b[A\u001b[A\u001b[A\u001b[A"
     ]
    },
    {
     "name": "stdout",
     "output_type": "stream",
     "text": [
      "Epoch : 46  ,   Train Accuracy : 55.10  , Validation Accuracy : 52.60 , Training Loss : 0.022181\n"
     ]
    },
    {
     "name": "stderr",
     "output_type": "stream",
     "text": [
      "\n",
      "\n",
      "\n",
      "\n",
      " 24%|██▍       | 48/200 [00:28<01:32,  1.64it/s]\u001b[A\u001b[A\u001b[A\u001b[A"
     ]
    },
    {
     "name": "stdout",
     "output_type": "stream",
     "text": [
      "Epoch : 47  ,   Train Accuracy : 55.10  , Validation Accuracy : 52.60 , Training Loss : 0.022181\n"
     ]
    },
    {
     "name": "stderr",
     "output_type": "stream",
     "text": [
      "\n",
      "\n",
      "\n",
      "\n",
      " 24%|██▍       | 49/200 [00:29<01:37,  1.55it/s]\u001b[A\u001b[A\u001b[A\u001b[A"
     ]
    },
    {
     "name": "stdout",
     "output_type": "stream",
     "text": [
      "Epoch : 48  ,   Train Accuracy : 55.10  , Validation Accuracy : 52.60 , Training Loss : 0.022181\n"
     ]
    },
    {
     "name": "stderr",
     "output_type": "stream",
     "text": [
      "\n",
      "\n",
      "\n",
      "\n",
      " 25%|██▌       | 50/200 [00:30<01:36,  1.56it/s]\u001b[A\u001b[A\u001b[A\u001b[A"
     ]
    },
    {
     "name": "stdout",
     "output_type": "stream",
     "text": [
      "Epoch : 49  ,   Train Accuracy : 55.10  , Validation Accuracy : 52.60 , Training Loss : 0.022181\n"
     ]
    },
    {
     "name": "stderr",
     "output_type": "stream",
     "text": [
      "\n",
      "\n",
      "\n",
      "\n",
      " 26%|██▌       | 51/200 [00:30<01:34,  1.57it/s]\u001b[A\u001b[A\u001b[A\u001b[A"
     ]
    },
    {
     "name": "stdout",
     "output_type": "stream",
     "text": [
      "Epoch : 50  ,   Train Accuracy : 55.10  , Validation Accuracy : 52.60 , Training Loss : 0.022181\n"
     ]
    },
    {
     "name": "stderr",
     "output_type": "stream",
     "text": [
      "\n",
      "\n",
      "\n",
      "\n",
      " 26%|██▌       | 52/200 [00:31<01:37,  1.51it/s]\u001b[A\u001b[A\u001b[A\u001b[A"
     ]
    },
    {
     "name": "stdout",
     "output_type": "stream",
     "text": [
      "Epoch : 51  ,   Train Accuracy : 55.10  , Validation Accuracy : 52.60 , Training Loss : 0.022181\n"
     ]
    },
    {
     "name": "stderr",
     "output_type": "stream",
     "text": [
      "\n",
      "\n",
      "\n",
      "\n",
      " 26%|██▋       | 53/200 [00:32<01:37,  1.50it/s]\u001b[A\u001b[A\u001b[A\u001b[A"
     ]
    },
    {
     "name": "stdout",
     "output_type": "stream",
     "text": [
      "Epoch : 52  ,   Train Accuracy : 55.10  , Validation Accuracy : 52.60 , Training Loss : 0.022181\n"
     ]
    },
    {
     "name": "stderr",
     "output_type": "stream",
     "text": [
      "\n",
      "\n",
      "\n",
      "\n",
      " 27%|██▋       | 54/200 [00:32<01:39,  1.46it/s]\u001b[A\u001b[A\u001b[A\u001b[A"
     ]
    },
    {
     "name": "stdout",
     "output_type": "stream",
     "text": [
      "Epoch : 53  ,   Train Accuracy : 55.10  , Validation Accuracy : 52.60 , Training Loss : 0.022181\n"
     ]
    },
    {
     "name": "stderr",
     "output_type": "stream",
     "text": [
      "\n",
      "\n",
      "\n",
      "\n",
      " 28%|██▊       | 55/200 [00:33<01:39,  1.46it/s]\u001b[A\u001b[A\u001b[A\u001b[A"
     ]
    },
    {
     "name": "stdout",
     "output_type": "stream",
     "text": [
      "Epoch : 54  ,   Train Accuracy : 55.10  , Validation Accuracy : 52.60 , Training Loss : 0.022181\n"
     ]
    },
    {
     "name": "stderr",
     "output_type": "stream",
     "text": [
      "\n",
      "\n",
      "\n",
      "\n",
      " 28%|██▊       | 56/200 [00:34<01:40,  1.43it/s]\u001b[A\u001b[A\u001b[A\u001b[A"
     ]
    },
    {
     "name": "stdout",
     "output_type": "stream",
     "text": [
      "Epoch : 55  ,   Train Accuracy : 55.10  , Validation Accuracy : 52.60 , Training Loss : 0.022181\n"
     ]
    },
    {
     "name": "stderr",
     "output_type": "stream",
     "text": [
      "\n",
      "\n",
      "\n",
      "\n",
      " 28%|██▊       | 57/200 [00:34<01:36,  1.48it/s]\u001b[A\u001b[A\u001b[A\u001b[A"
     ]
    },
    {
     "name": "stdout",
     "output_type": "stream",
     "text": [
      "Epoch : 56  ,   Train Accuracy : 55.10  , Validation Accuracy : 52.60 , Training Loss : 0.022181\n"
     ]
    },
    {
     "name": "stderr",
     "output_type": "stream",
     "text": [
      "\n",
      "\n",
      "\n",
      "\n",
      " 29%|██▉       | 58/200 [00:35<01:34,  1.51it/s]\u001b[A\u001b[A\u001b[A\u001b[A"
     ]
    },
    {
     "name": "stdout",
     "output_type": "stream",
     "text": [
      "Epoch : 57  ,   Train Accuracy : 55.10  , Validation Accuracy : 52.60 , Training Loss : 0.022181\n"
     ]
    },
    {
     "name": "stderr",
     "output_type": "stream",
     "text": [
      "\n",
      "\n",
      "\n",
      "\n",
      " 30%|██▉       | 59/200 [00:36<01:29,  1.58it/s]\u001b[A\u001b[A\u001b[A\u001b[A"
     ]
    },
    {
     "name": "stdout",
     "output_type": "stream",
     "text": [
      "Epoch : 58  ,   Train Accuracy : 55.10  , Validation Accuracy : 52.60 , Training Loss : 0.022181\n"
     ]
    },
    {
     "name": "stderr",
     "output_type": "stream",
     "text": [
      "\n",
      "\n",
      "\n",
      "\n",
      " 30%|███       | 60/200 [00:36<01:25,  1.63it/s]\u001b[A\u001b[A\u001b[A\u001b[A"
     ]
    },
    {
     "name": "stdout",
     "output_type": "stream",
     "text": [
      "Epoch : 59  ,   Train Accuracy : 55.10  , Validation Accuracy : 52.60 , Training Loss : 0.022181\n"
     ]
    },
    {
     "name": "stderr",
     "output_type": "stream",
     "text": [
      "\n",
      "\n",
      "\n",
      "\n",
      " 30%|███       | 61/200 [00:37<01:23,  1.66it/s]\u001b[A\u001b[A\u001b[A\u001b[A"
     ]
    },
    {
     "name": "stdout",
     "output_type": "stream",
     "text": [
      "Epoch : 60  ,   Train Accuracy : 55.10  , Validation Accuracy : 52.60 , Training Loss : 0.022181\n"
     ]
    },
    {
     "name": "stderr",
     "output_type": "stream",
     "text": [
      "\n",
      "\n",
      "\n",
      "\n",
      " 31%|███       | 62/200 [00:37<01:21,  1.70it/s]\u001b[A\u001b[A\u001b[A\u001b[A"
     ]
    },
    {
     "name": "stdout",
     "output_type": "stream",
     "text": [
      "Epoch : 61  ,   Train Accuracy : 55.10  , Validation Accuracy : 52.60 , Training Loss : 0.022181\n"
     ]
    },
    {
     "name": "stderr",
     "output_type": "stream",
     "text": [
      "\n",
      "\n",
      "\n",
      "\n",
      " 32%|███▏      | 63/200 [00:38<01:19,  1.73it/s]\u001b[A\u001b[A\u001b[A\u001b[A"
     ]
    },
    {
     "name": "stdout",
     "output_type": "stream",
     "text": [
      "Epoch : 62  ,   Train Accuracy : 55.10  , Validation Accuracy : 52.60 , Training Loss : 0.022181\n"
     ]
    },
    {
     "name": "stderr",
     "output_type": "stream",
     "text": [
      "\n",
      "\n",
      "\n",
      "\n",
      " 32%|███▏      | 64/200 [00:38<01:19,  1.72it/s]\u001b[A\u001b[A\u001b[A\u001b[A"
     ]
    },
    {
     "name": "stdout",
     "output_type": "stream",
     "text": [
      "Epoch : 63  ,   Train Accuracy : 55.10  , Validation Accuracy : 52.60 , Training Loss : 0.022181\n"
     ]
    },
    {
     "name": "stderr",
     "output_type": "stream",
     "text": [
      "\n",
      "\n",
      "\n",
      "\n",
      " 32%|███▎      | 65/200 [00:39<01:21,  1.66it/s]\u001b[A\u001b[A\u001b[A\u001b[A"
     ]
    },
    {
     "name": "stdout",
     "output_type": "stream",
     "text": [
      "Epoch : 64  ,   Train Accuracy : 55.10  , Validation Accuracy : 52.60 , Training Loss : 0.022181\n"
     ]
    },
    {
     "name": "stderr",
     "output_type": "stream",
     "text": [
      "\n",
      "\n",
      "\n",
      "\n",
      " 33%|███▎      | 66/200 [00:40<01:18,  1.70it/s]\u001b[A\u001b[A\u001b[A\u001b[A"
     ]
    },
    {
     "name": "stdout",
     "output_type": "stream",
     "text": [
      "Epoch : 65  ,   Train Accuracy : 55.10  , Validation Accuracy : 52.60 , Training Loss : 0.022181\n"
     ]
    },
    {
     "name": "stderr",
     "output_type": "stream",
     "text": [
      "\n",
      "\n",
      "\n",
      "\n",
      " 34%|███▎      | 67/200 [00:40<01:16,  1.75it/s]\u001b[A\u001b[A\u001b[A\u001b[A"
     ]
    },
    {
     "name": "stdout",
     "output_type": "stream",
     "text": [
      "Epoch : 66  ,   Train Accuracy : 55.10  , Validation Accuracy : 52.60 , Training Loss : 0.022181\n"
     ]
    },
    {
     "name": "stderr",
     "output_type": "stream",
     "text": [
      "\n",
      "\n",
      "\n",
      "\n",
      " 34%|███▍      | 68/200 [00:41<01:16,  1.73it/s]\u001b[A\u001b[A\u001b[A\u001b[A"
     ]
    },
    {
     "name": "stdout",
     "output_type": "stream",
     "text": [
      "Epoch : 67  ,   Train Accuracy : 55.10  , Validation Accuracy : 52.60 , Training Loss : 0.022181\n"
     ]
    },
    {
     "name": "stderr",
     "output_type": "stream",
     "text": [
      "\n",
      "\n",
      "\n",
      "\n",
      " 34%|███▍      | 69/200 [00:41<01:16,  1.71it/s]\u001b[A\u001b[A\u001b[A\u001b[A"
     ]
    },
    {
     "name": "stdout",
     "output_type": "stream",
     "text": [
      "Epoch : 68  ,   Train Accuracy : 55.10  , Validation Accuracy : 52.60 , Training Loss : 0.022181\n"
     ]
    },
    {
     "name": "stderr",
     "output_type": "stream",
     "text": [
      "\n",
      "\n",
      "\n",
      "\n",
      " 35%|███▌      | 70/200 [00:42<01:14,  1.74it/s]\u001b[A\u001b[A\u001b[A\u001b[A"
     ]
    },
    {
     "name": "stdout",
     "output_type": "stream",
     "text": [
      "Epoch : 69  ,   Train Accuracy : 55.10  , Validation Accuracy : 52.60 , Training Loss : 0.022181\n"
     ]
    },
    {
     "name": "stderr",
     "output_type": "stream",
     "text": [
      "\n",
      "\n",
      "\n",
      "\n",
      " 36%|███▌      | 71/200 [00:43<01:15,  1.71it/s]\u001b[A\u001b[A\u001b[A\u001b[A"
     ]
    },
    {
     "name": "stdout",
     "output_type": "stream",
     "text": [
      "Epoch : 70  ,   Train Accuracy : 55.10  , Validation Accuracy : 52.60 , Training Loss : 0.022181\n"
     ]
    },
    {
     "name": "stderr",
     "output_type": "stream",
     "text": [
      "\n",
      "\n",
      "\n",
      "\n",
      " 36%|███▌      | 72/200 [00:43<01:15,  1.69it/s]\u001b[A\u001b[A\u001b[A\u001b[A"
     ]
    },
    {
     "name": "stdout",
     "output_type": "stream",
     "text": [
      "Epoch : 71  ,   Train Accuracy : 55.10  , Validation Accuracy : 52.60 , Training Loss : 0.022181\n"
     ]
    },
    {
     "name": "stderr",
     "output_type": "stream",
     "text": [
      "\n",
      "\n",
      "\n",
      "\n",
      " 36%|███▋      | 73/200 [00:44<01:13,  1.72it/s]\u001b[A\u001b[A\u001b[A\u001b[A"
     ]
    },
    {
     "name": "stdout",
     "output_type": "stream",
     "text": [
      "Epoch : 72  ,   Train Accuracy : 55.10  , Validation Accuracy : 52.60 , Training Loss : 0.022181\n"
     ]
    },
    {
     "name": "stderr",
     "output_type": "stream",
     "text": [
      "\n",
      "\n",
      "\n",
      "\n",
      " 37%|███▋      | 74/200 [00:44<01:14,  1.69it/s]\u001b[A\u001b[A\u001b[A\u001b[A"
     ]
    },
    {
     "name": "stdout",
     "output_type": "stream",
     "text": [
      "Epoch : 73  ,   Train Accuracy : 55.10  , Validation Accuracy : 52.60 , Training Loss : 0.022181\n"
     ]
    },
    {
     "name": "stderr",
     "output_type": "stream",
     "text": [
      "\n",
      "\n",
      "\n",
      "\n",
      " 38%|███▊      | 75/200 [00:45<01:15,  1.65it/s]\u001b[A\u001b[A\u001b[A\u001b[A"
     ]
    },
    {
     "name": "stdout",
     "output_type": "stream",
     "text": [
      "Epoch : 74  ,   Train Accuracy : 55.10  , Validation Accuracy : 52.60 , Training Loss : 0.022181\n"
     ]
    },
    {
     "name": "stderr",
     "output_type": "stream",
     "text": [
      "\n",
      "\n",
      "\n",
      "\n",
      " 38%|███▊      | 76/200 [00:46<01:14,  1.67it/s]\u001b[A\u001b[A\u001b[A\u001b[A"
     ]
    },
    {
     "name": "stdout",
     "output_type": "stream",
     "text": [
      "Epoch : 75  ,   Train Accuracy : 55.10  , Validation Accuracy : 52.60 , Training Loss : 0.022181\n"
     ]
    },
    {
     "name": "stderr",
     "output_type": "stream",
     "text": [
      "\n",
      "\n",
      "\n",
      "\n",
      " 38%|███▊      | 77/200 [00:46<01:14,  1.66it/s]\u001b[A\u001b[A\u001b[A\u001b[A"
     ]
    },
    {
     "name": "stdout",
     "output_type": "stream",
     "text": [
      "Epoch : 76  ,   Train Accuracy : 55.10  , Validation Accuracy : 52.60 , Training Loss : 0.022181\n"
     ]
    },
    {
     "name": "stderr",
     "output_type": "stream",
     "text": [
      "\n",
      "\n",
      "\n",
      "\n",
      " 39%|███▉      | 78/200 [00:47<01:15,  1.62it/s]\u001b[A\u001b[A\u001b[A\u001b[A"
     ]
    },
    {
     "name": "stdout",
     "output_type": "stream",
     "text": [
      "Epoch : 77  ,   Train Accuracy : 55.10  , Validation Accuracy : 52.60 , Training Loss : 0.022181\n"
     ]
    },
    {
     "name": "stderr",
     "output_type": "stream",
     "text": [
      "\n",
      "\n",
      "\n",
      "\n",
      " 40%|███▉      | 79/200 [00:47<01:12,  1.67it/s]\u001b[A\u001b[A\u001b[A\u001b[A"
     ]
    },
    {
     "name": "stdout",
     "output_type": "stream",
     "text": [
      "Epoch : 78  ,   Train Accuracy : 55.10  , Validation Accuracy : 52.60 , Training Loss : 0.022181\n"
     ]
    },
    {
     "name": "stderr",
     "output_type": "stream",
     "text": [
      "\n",
      "\n",
      "\n",
      "\n",
      " 40%|████      | 80/200 [00:48<01:10,  1.71it/s]\u001b[A\u001b[A\u001b[A\u001b[A"
     ]
    },
    {
     "name": "stdout",
     "output_type": "stream",
     "text": [
      "Epoch : 79  ,   Train Accuracy : 55.10  , Validation Accuracy : 52.60 , Training Loss : 0.022181\n"
     ]
    },
    {
     "name": "stderr",
     "output_type": "stream",
     "text": [
      "\n",
      "\n",
      "\n",
      "\n",
      " 40%|████      | 81/200 [00:49<01:09,  1.72it/s]\u001b[A\u001b[A\u001b[A\u001b[A"
     ]
    },
    {
     "name": "stdout",
     "output_type": "stream",
     "text": [
      "Epoch : 80  ,   Train Accuracy : 55.10  , Validation Accuracy : 52.60 , Training Loss : 0.022181\n"
     ]
    },
    {
     "name": "stderr",
     "output_type": "stream",
     "text": [
      "\n",
      "\n",
      "\n",
      "\n",
      " 41%|████      | 82/200 [00:49<01:09,  1.69it/s]\u001b[A\u001b[A\u001b[A\u001b[A"
     ]
    },
    {
     "name": "stdout",
     "output_type": "stream",
     "text": [
      "Epoch : 81  ,   Train Accuracy : 55.10  , Validation Accuracy : 52.60 , Training Loss : 0.022181\n"
     ]
    },
    {
     "name": "stderr",
     "output_type": "stream",
     "text": [
      "\n",
      "\n",
      "\n",
      "\n",
      " 42%|████▏     | 83/200 [00:50<01:10,  1.66it/s]\u001b[A\u001b[A\u001b[A\u001b[A"
     ]
    },
    {
     "name": "stdout",
     "output_type": "stream",
     "text": [
      "Epoch : 82  ,   Train Accuracy : 55.10  , Validation Accuracy : 52.60 , Training Loss : 0.022181\n"
     ]
    },
    {
     "name": "stderr",
     "output_type": "stream",
     "text": [
      "\n",
      "\n",
      "\n",
      "\n",
      " 42%|████▏     | 84/200 [00:50<01:07,  1.72it/s]\u001b[A\u001b[A\u001b[A\u001b[A"
     ]
    },
    {
     "name": "stdout",
     "output_type": "stream",
     "text": [
      "Epoch : 83  ,   Train Accuracy : 55.10  , Validation Accuracy : 52.60 , Training Loss : 0.022181\n"
     ]
    },
    {
     "name": "stderr",
     "output_type": "stream",
     "text": [
      "\n",
      "\n",
      "\n",
      "\n",
      " 42%|████▎     | 85/200 [00:51<01:08,  1.67it/s]\u001b[A\u001b[A\u001b[A\u001b[A"
     ]
    },
    {
     "name": "stdout",
     "output_type": "stream",
     "text": [
      "Epoch : 84  ,   Train Accuracy : 55.10  , Validation Accuracy : 52.60 , Training Loss : 0.022181\n"
     ]
    },
    {
     "name": "stderr",
     "output_type": "stream",
     "text": [
      "\n",
      "\n",
      "\n",
      "\n",
      " 43%|████▎     | 86/200 [00:52<01:09,  1.64it/s]\u001b[A\u001b[A\u001b[A\u001b[A"
     ]
    },
    {
     "name": "stdout",
     "output_type": "stream",
     "text": [
      "Epoch : 85  ,   Train Accuracy : 55.10  , Validation Accuracy : 52.60 , Training Loss : 0.022181\n"
     ]
    },
    {
     "name": "stderr",
     "output_type": "stream",
     "text": [
      "\n",
      "\n",
      "\n",
      "\n",
      " 44%|████▎     | 87/200 [00:52<01:08,  1.65it/s]\u001b[A\u001b[A\u001b[A\u001b[A"
     ]
    },
    {
     "name": "stdout",
     "output_type": "stream",
     "text": [
      "Epoch : 86  ,   Train Accuracy : 55.10  , Validation Accuracy : 52.60 , Training Loss : 0.022181\n"
     ]
    },
    {
     "name": "stderr",
     "output_type": "stream",
     "text": [
      "\n",
      "\n",
      "\n",
      "\n",
      " 44%|████▍     | 88/200 [00:53<01:07,  1.65it/s]\u001b[A\u001b[A\u001b[A\u001b[A"
     ]
    },
    {
     "name": "stdout",
     "output_type": "stream",
     "text": [
      "Epoch : 87  ,   Train Accuracy : 55.10  , Validation Accuracy : 52.60 , Training Loss : 0.022181\n"
     ]
    },
    {
     "name": "stderr",
     "output_type": "stream",
     "text": [
      "\n",
      "\n",
      "\n",
      "\n",
      " 44%|████▍     | 89/200 [00:53<01:05,  1.69it/s]\u001b[A\u001b[A\u001b[A\u001b[A"
     ]
    },
    {
     "name": "stdout",
     "output_type": "stream",
     "text": [
      "Epoch : 88  ,   Train Accuracy : 55.10  , Validation Accuracy : 52.60 , Training Loss : 0.022181\n"
     ]
    },
    {
     "name": "stderr",
     "output_type": "stream",
     "text": [
      "\n",
      "\n",
      "\n",
      "\n",
      " 45%|████▌     | 90/200 [00:54<01:03,  1.74it/s]\u001b[A\u001b[A\u001b[A\u001b[A"
     ]
    },
    {
     "name": "stdout",
     "output_type": "stream",
     "text": [
      "Epoch : 89  ,   Train Accuracy : 55.10  , Validation Accuracy : 52.60 , Training Loss : 0.022181\n"
     ]
    },
    {
     "name": "stderr",
     "output_type": "stream",
     "text": [
      "\n",
      "\n",
      "\n",
      "\n",
      " 46%|████▌     | 91/200 [00:54<01:01,  1.76it/s]\u001b[A\u001b[A\u001b[A\u001b[A"
     ]
    },
    {
     "name": "stdout",
     "output_type": "stream",
     "text": [
      "Epoch : 90  ,   Train Accuracy : 55.10  , Validation Accuracy : 52.60 , Training Loss : 0.022181\n"
     ]
    },
    {
     "name": "stderr",
     "output_type": "stream",
     "text": [
      "\n",
      "\n",
      "\n",
      "\n",
      " 46%|████▌     | 92/200 [00:55<01:00,  1.78it/s]\u001b[A\u001b[A\u001b[A\u001b[A"
     ]
    },
    {
     "name": "stdout",
     "output_type": "stream",
     "text": [
      "Epoch : 91  ,   Train Accuracy : 55.10  , Validation Accuracy : 52.60 , Training Loss : 0.022181\n"
     ]
    },
    {
     "name": "stderr",
     "output_type": "stream",
     "text": [
      "\n",
      "\n",
      "\n",
      "\n",
      " 46%|████▋     | 93/200 [00:56<00:59,  1.79it/s]\u001b[A\u001b[A\u001b[A\u001b[A"
     ]
    },
    {
     "name": "stdout",
     "output_type": "stream",
     "text": [
      "Epoch : 92  ,   Train Accuracy : 55.10  , Validation Accuracy : 52.60 , Training Loss : 0.022181\n"
     ]
    },
    {
     "name": "stderr",
     "output_type": "stream",
     "text": [
      "\n",
      "\n",
      "\n",
      "\n",
      " 47%|████▋     | 94/200 [00:56<00:59,  1.79it/s]\u001b[A\u001b[A\u001b[A\u001b[A"
     ]
    },
    {
     "name": "stdout",
     "output_type": "stream",
     "text": [
      "Epoch : 93  ,   Train Accuracy : 55.10  , Validation Accuracy : 52.60 , Training Loss : 0.022181\n"
     ]
    },
    {
     "name": "stderr",
     "output_type": "stream",
     "text": [
      "\n",
      "\n",
      "\n",
      "\n",
      " 48%|████▊     | 95/200 [00:57<00:58,  1.80it/s]\u001b[A\u001b[A\u001b[A\u001b[A"
     ]
    },
    {
     "name": "stdout",
     "output_type": "stream",
     "text": [
      "Epoch : 94  ,   Train Accuracy : 55.10  , Validation Accuracy : 52.60 , Training Loss : 0.022181\n"
     ]
    },
    {
     "name": "stderr",
     "output_type": "stream",
     "text": [
      "\n",
      "\n",
      "\n",
      "\n",
      " 48%|████▊     | 96/200 [00:57<00:58,  1.78it/s]\u001b[A\u001b[A\u001b[A\u001b[A"
     ]
    },
    {
     "name": "stdout",
     "output_type": "stream",
     "text": [
      "Epoch : 95  ,   Train Accuracy : 55.10  , Validation Accuracy : 52.60 , Training Loss : 0.022181\n"
     ]
    },
    {
     "name": "stderr",
     "output_type": "stream",
     "text": [
      "\n",
      "\n",
      "\n",
      "\n",
      " 48%|████▊     | 97/200 [00:58<00:57,  1.79it/s]\u001b[A\u001b[A\u001b[A\u001b[A"
     ]
    },
    {
     "name": "stdout",
     "output_type": "stream",
     "text": [
      "Epoch : 96  ,   Train Accuracy : 55.10  , Validation Accuracy : 52.60 , Training Loss : 0.022181\n"
     ]
    },
    {
     "name": "stderr",
     "output_type": "stream",
     "text": [
      "\n",
      "\n",
      "\n",
      "\n",
      " 49%|████▉     | 98/200 [00:58<00:56,  1.81it/s]\u001b[A\u001b[A\u001b[A\u001b[A"
     ]
    },
    {
     "name": "stdout",
     "output_type": "stream",
     "text": [
      "Epoch : 97  ,   Train Accuracy : 55.10  , Validation Accuracy : 52.60 , Training Loss : 0.022181\n"
     ]
    },
    {
     "name": "stderr",
     "output_type": "stream",
     "text": [
      "\n",
      "\n",
      "\n",
      "\n",
      " 50%|████▉     | 99/200 [00:59<00:56,  1.80it/s]\u001b[A\u001b[A\u001b[A\u001b[A"
     ]
    },
    {
     "name": "stdout",
     "output_type": "stream",
     "text": [
      "Epoch : 98  ,   Train Accuracy : 55.10  , Validation Accuracy : 52.60 , Training Loss : 0.022181\n"
     ]
    },
    {
     "name": "stderr",
     "output_type": "stream",
     "text": [
      "\n",
      "\n",
      "\n",
      "\n",
      " 50%|█████     | 100/200 [00:59<00:58,  1.72it/s]\u001b[A\u001b[A\u001b[A\u001b[A"
     ]
    },
    {
     "name": "stdout",
     "output_type": "stream",
     "text": [
      "Epoch : 99  ,   Train Accuracy : 55.10  , Validation Accuracy : 52.60 , Training Loss : 0.022181\n"
     ]
    },
    {
     "name": "stderr",
     "output_type": "stream",
     "text": [
      "\n",
      "\n",
      "\n",
      "\n",
      " 50%|█████     | 101/200 [01:00<01:00,  1.63it/s]\u001b[A\u001b[A\u001b[A\u001b[A"
     ]
    },
    {
     "name": "stdout",
     "output_type": "stream",
     "text": [
      "Epoch : 100  ,   Train Accuracy : 55.10  , Validation Accuracy : 52.60 , Training Loss : 0.022181\n"
     ]
    },
    {
     "name": "stderr",
     "output_type": "stream",
     "text": [
      "\n",
      "\n",
      "\n",
      "\n",
      " 51%|█████     | 102/200 [01:01<00:58,  1.68it/s]\u001b[A\u001b[A\u001b[A\u001b[A"
     ]
    },
    {
     "name": "stdout",
     "output_type": "stream",
     "text": [
      "Epoch : 101  ,   Train Accuracy : 55.10  , Validation Accuracy : 52.60 , Training Loss : 0.022181\n"
     ]
    },
    {
     "name": "stderr",
     "output_type": "stream",
     "text": [
      "\n",
      "\n",
      "\n",
      "\n",
      " 52%|█████▏    | 103/200 [01:01<00:57,  1.68it/s]\u001b[A\u001b[A\u001b[A\u001b[A"
     ]
    },
    {
     "name": "stdout",
     "output_type": "stream",
     "text": [
      "Epoch : 102  ,   Train Accuracy : 55.10  , Validation Accuracy : 52.60 , Training Loss : 0.022181\n"
     ]
    },
    {
     "name": "stderr",
     "output_type": "stream",
     "text": [
      "\n",
      "\n",
      "\n",
      "\n",
      " 52%|█████▏    | 104/200 [01:02<00:55,  1.73it/s]\u001b[A\u001b[A\u001b[A\u001b[A"
     ]
    },
    {
     "name": "stdout",
     "output_type": "stream",
     "text": [
      "Epoch : 103  ,   Train Accuracy : 55.10  , Validation Accuracy : 52.60 , Training Loss : 0.022181\n"
     ]
    },
    {
     "name": "stderr",
     "output_type": "stream",
     "text": [
      "\n",
      "\n",
      "\n",
      "\n",
      " 52%|█████▎    | 105/200 [01:02<00:54,  1.75it/s]\u001b[A\u001b[A\u001b[A\u001b[A"
     ]
    },
    {
     "name": "stdout",
     "output_type": "stream",
     "text": [
      "Epoch : 104  ,   Train Accuracy : 55.10  , Validation Accuracy : 52.60 , Training Loss : 0.022181\n"
     ]
    },
    {
     "name": "stderr",
     "output_type": "stream",
     "text": [
      "\n",
      "\n",
      "\n",
      "\n",
      " 53%|█████▎    | 106/200 [01:03<00:54,  1.73it/s]\u001b[A\u001b[A\u001b[A\u001b[A"
     ]
    },
    {
     "name": "stdout",
     "output_type": "stream",
     "text": [
      "Epoch : 105  ,   Train Accuracy : 55.10  , Validation Accuracy : 52.60 , Training Loss : 0.022181\n"
     ]
    },
    {
     "name": "stderr",
     "output_type": "stream",
     "text": [
      "\n",
      "\n",
      "\n",
      "\n",
      " 54%|█████▎    | 107/200 [01:04<01:06,  1.40it/s]\u001b[A\u001b[A\u001b[A\u001b[A"
     ]
    },
    {
     "name": "stdout",
     "output_type": "stream",
     "text": [
      "Epoch : 106  ,   Train Accuracy : 55.10  , Validation Accuracy : 52.60 , Training Loss : 0.022181\n"
     ]
    },
    {
     "name": "stderr",
     "output_type": "stream",
     "text": [
      "\n",
      "\n",
      "\n",
      "\n",
      " 54%|█████▍    | 108/200 [01:05<01:08,  1.34it/s]\u001b[A\u001b[A\u001b[A\u001b[A"
     ]
    },
    {
     "name": "stdout",
     "output_type": "stream",
     "text": [
      "Epoch : 107  ,   Train Accuracy : 55.10  , Validation Accuracy : 52.60 , Training Loss : 0.022181\n"
     ]
    },
    {
     "name": "stderr",
     "output_type": "stream",
     "text": [
      "\n",
      "\n",
      "\n",
      "\n",
      " 55%|█████▍    | 109/200 [01:05<01:03,  1.43it/s]\u001b[A\u001b[A\u001b[A\u001b[A"
     ]
    },
    {
     "name": "stdout",
     "output_type": "stream",
     "text": [
      "Epoch : 108  ,   Train Accuracy : 55.10  , Validation Accuracy : 52.60 , Training Loss : 0.022181\n"
     ]
    },
    {
     "name": "stderr",
     "output_type": "stream",
     "text": [
      "\n",
      "\n",
      "\n",
      "\n",
      " 55%|█████▌    | 110/200 [01:07<01:14,  1.22it/s]\u001b[A\u001b[A\u001b[A\u001b[A"
     ]
    },
    {
     "name": "stdout",
     "output_type": "stream",
     "text": [
      "Epoch : 109  ,   Train Accuracy : 55.10  , Validation Accuracy : 52.60 , Training Loss : 0.022181\n"
     ]
    },
    {
     "name": "stderr",
     "output_type": "stream",
     "text": [
      "\n",
      "\n",
      "\n",
      "\n",
      " 56%|█████▌    | 111/200 [01:07<01:08,  1.30it/s]\u001b[A\u001b[A\u001b[A\u001b[A"
     ]
    },
    {
     "name": "stdout",
     "output_type": "stream",
     "text": [
      "Epoch : 110  ,   Train Accuracy : 55.10  , Validation Accuracy : 52.60 , Training Loss : 0.022181\n"
     ]
    },
    {
     "name": "stderr",
     "output_type": "stream",
     "text": [
      "\n",
      "\n",
      "\n",
      "\n",
      " 56%|█████▌    | 112/200 [01:08<01:05,  1.35it/s]\u001b[A\u001b[A\u001b[A\u001b[A"
     ]
    },
    {
     "name": "stdout",
     "output_type": "stream",
     "text": [
      "Epoch : 111  ,   Train Accuracy : 55.10  , Validation Accuracy : 52.60 , Training Loss : 0.022181\n"
     ]
    },
    {
     "name": "stderr",
     "output_type": "stream",
     "text": [
      "\n",
      "\n",
      "\n",
      "\n",
      " 56%|█████▋    | 113/200 [01:08<01:00,  1.44it/s]\u001b[A\u001b[A\u001b[A\u001b[A"
     ]
    },
    {
     "name": "stdout",
     "output_type": "stream",
     "text": [
      "Epoch : 112  ,   Train Accuracy : 55.10  , Validation Accuracy : 52.60 , Training Loss : 0.022181\n"
     ]
    },
    {
     "name": "stderr",
     "output_type": "stream",
     "text": [
      "\n",
      "\n",
      "\n",
      "\n",
      " 57%|█████▋    | 114/200 [01:09<00:57,  1.49it/s]\u001b[A\u001b[A\u001b[A\u001b[A"
     ]
    },
    {
     "name": "stdout",
     "output_type": "stream",
     "text": [
      "Epoch : 113  ,   Train Accuracy : 55.10  , Validation Accuracy : 52.60 , Training Loss : 0.022181\n"
     ]
    },
    {
     "name": "stderr",
     "output_type": "stream",
     "text": [
      "\n",
      "\n",
      "\n",
      "\n",
      " 57%|█████▊    | 115/200 [01:10<01:02,  1.36it/s]\u001b[A\u001b[A\u001b[A\u001b[A"
     ]
    },
    {
     "name": "stdout",
     "output_type": "stream",
     "text": [
      "Epoch : 114  ,   Train Accuracy : 55.10  , Validation Accuracy : 52.60 , Training Loss : 0.022181\n"
     ]
    },
    {
     "name": "stderr",
     "output_type": "stream",
     "text": [
      "\n",
      "\n",
      "\n",
      "\n",
      " 58%|█████▊    | 116/200 [01:11<01:03,  1.33it/s]\u001b[A\u001b[A\u001b[A\u001b[A"
     ]
    },
    {
     "name": "stdout",
     "output_type": "stream",
     "text": [
      "Epoch : 115  ,   Train Accuracy : 55.10  , Validation Accuracy : 52.60 , Training Loss : 0.022181\n"
     ]
    },
    {
     "name": "stderr",
     "output_type": "stream",
     "text": [
      "\n",
      "\n",
      "\n",
      "\n",
      " 58%|█████▊    | 117/200 [01:11<00:58,  1.43it/s]\u001b[A\u001b[A\u001b[A\u001b[A"
     ]
    },
    {
     "name": "stdout",
     "output_type": "stream",
     "text": [
      "Epoch : 116  ,   Train Accuracy : 55.10  , Validation Accuracy : 52.60 , Training Loss : 0.022181\n"
     ]
    },
    {
     "name": "stderr",
     "output_type": "stream",
     "text": [
      "\n",
      "\n",
      "\n",
      "\n",
      " 59%|█████▉    | 118/200 [01:12<00:54,  1.51it/s]\u001b[A\u001b[A\u001b[A\u001b[A"
     ]
    },
    {
     "name": "stdout",
     "output_type": "stream",
     "text": [
      "Epoch : 117  ,   Train Accuracy : 55.10  , Validation Accuracy : 52.60 , Training Loss : 0.022181\n"
     ]
    },
    {
     "name": "stderr",
     "output_type": "stream",
     "text": [
      "\n",
      "\n",
      "\n",
      "\n",
      " 60%|█████▉    | 119/200 [01:13<00:53,  1.50it/s]\u001b[A\u001b[A\u001b[A\u001b[A"
     ]
    },
    {
     "name": "stdout",
     "output_type": "stream",
     "text": [
      "Epoch : 118  ,   Train Accuracy : 55.10  , Validation Accuracy : 52.60 , Training Loss : 0.022181\n"
     ]
    },
    {
     "name": "stderr",
     "output_type": "stream",
     "text": [
      "\n",
      "\n",
      "\n",
      "\n",
      " 60%|██████    | 120/200 [01:13<00:52,  1.54it/s]\u001b[A\u001b[A\u001b[A\u001b[A"
     ]
    },
    {
     "name": "stdout",
     "output_type": "stream",
     "text": [
      "Epoch : 119  ,   Train Accuracy : 55.10  , Validation Accuracy : 52.60 , Training Loss : 0.022181\n"
     ]
    },
    {
     "name": "stderr",
     "output_type": "stream",
     "text": [
      "\n",
      "\n",
      "\n",
      "\n",
      " 60%|██████    | 121/200 [01:14<00:50,  1.57it/s]\u001b[A\u001b[A\u001b[A\u001b[A"
     ]
    },
    {
     "name": "stdout",
     "output_type": "stream",
     "text": [
      "Epoch : 120  ,   Train Accuracy : 55.10  , Validation Accuracy : 52.60 , Training Loss : 0.022181\n"
     ]
    },
    {
     "name": "stderr",
     "output_type": "stream",
     "text": [
      "\n",
      "\n",
      "\n",
      "\n",
      " 61%|██████    | 122/200 [01:14<00:48,  1.61it/s]\u001b[A\u001b[A\u001b[A\u001b[A"
     ]
    },
    {
     "name": "stdout",
     "output_type": "stream",
     "text": [
      "Epoch : 121  ,   Train Accuracy : 55.10  , Validation Accuracy : 52.60 , Training Loss : 0.022181\n"
     ]
    },
    {
     "name": "stderr",
     "output_type": "stream",
     "text": [
      "\n",
      "\n",
      "\n",
      "\n",
      " 62%|██████▏   | 123/200 [01:15<00:45,  1.68it/s]\u001b[A\u001b[A\u001b[A\u001b[A"
     ]
    },
    {
     "name": "stdout",
     "output_type": "stream",
     "text": [
      "Epoch : 122  ,   Train Accuracy : 55.10  , Validation Accuracy : 52.60 , Training Loss : 0.022181\n"
     ]
    },
    {
     "name": "stderr",
     "output_type": "stream",
     "text": [
      "\n",
      "\n",
      "\n",
      "\n",
      " 62%|██████▏   | 124/200 [01:15<00:44,  1.70it/s]\u001b[A\u001b[A\u001b[A\u001b[A"
     ]
    },
    {
     "name": "stdout",
     "output_type": "stream",
     "text": [
      "Epoch : 123  ,   Train Accuracy : 55.10  , Validation Accuracy : 52.60 , Training Loss : 0.022181\n"
     ]
    },
    {
     "name": "stderr",
     "output_type": "stream",
     "text": [
      "\n",
      "\n",
      "\n",
      "\n",
      " 62%|██████▎   | 125/200 [01:16<00:44,  1.70it/s]\u001b[A\u001b[A\u001b[A\u001b[A"
     ]
    },
    {
     "name": "stdout",
     "output_type": "stream",
     "text": [
      "Epoch : 124  ,   Train Accuracy : 55.10  , Validation Accuracy : 52.60 , Training Loss : 0.022181\n"
     ]
    },
    {
     "name": "stderr",
     "output_type": "stream",
     "text": [
      "\n",
      "\n",
      "\n",
      "\n",
      " 63%|██████▎   | 126/200 [01:17<00:42,  1.74it/s]\u001b[A\u001b[A\u001b[A\u001b[A"
     ]
    },
    {
     "name": "stdout",
     "output_type": "stream",
     "text": [
      "Epoch : 125  ,   Train Accuracy : 55.10  , Validation Accuracy : 52.60 , Training Loss : 0.022181\n"
     ]
    },
    {
     "name": "stderr",
     "output_type": "stream",
     "text": [
      "\n",
      "\n",
      "\n",
      "\n",
      " 64%|██████▎   | 127/200 [01:17<00:40,  1.81it/s]\u001b[A\u001b[A\u001b[A\u001b[A"
     ]
    },
    {
     "name": "stdout",
     "output_type": "stream",
     "text": [
      "Epoch : 126  ,   Train Accuracy : 55.10  , Validation Accuracy : 52.60 , Training Loss : 0.022181\n"
     ]
    },
    {
     "name": "stderr",
     "output_type": "stream",
     "text": [
      "\n",
      "\n",
      "\n",
      "\n",
      " 64%|██████▍   | 128/200 [01:18<00:39,  1.84it/s]\u001b[A\u001b[A\u001b[A\u001b[A"
     ]
    },
    {
     "name": "stdout",
     "output_type": "stream",
     "text": [
      "Epoch : 127  ,   Train Accuracy : 55.10  , Validation Accuracy : 52.60 , Training Loss : 0.022181\n"
     ]
    },
    {
     "name": "stderr",
     "output_type": "stream",
     "text": [
      "\n",
      "\n",
      "\n",
      "\n",
      " 64%|██████▍   | 129/200 [01:18<00:38,  1.85it/s]\u001b[A\u001b[A\u001b[A\u001b[A"
     ]
    },
    {
     "name": "stdout",
     "output_type": "stream",
     "text": [
      "Epoch : 128  ,   Train Accuracy : 55.10  , Validation Accuracy : 52.60 , Training Loss : 0.022181\n"
     ]
    },
    {
     "name": "stderr",
     "output_type": "stream",
     "text": [
      "\n",
      "\n",
      "\n",
      "\n",
      " 65%|██████▌   | 130/200 [01:19<00:37,  1.87it/s]\u001b[A\u001b[A\u001b[A\u001b[A"
     ]
    },
    {
     "name": "stdout",
     "output_type": "stream",
     "text": [
      "Epoch : 129  ,   Train Accuracy : 55.10  , Validation Accuracy : 52.60 , Training Loss : 0.022181\n"
     ]
    },
    {
     "name": "stderr",
     "output_type": "stream",
     "text": [
      "\n",
      "\n",
      "\n",
      "\n",
      " 66%|██████▌   | 131/200 [01:19<00:36,  1.89it/s]\u001b[A\u001b[A\u001b[A\u001b[A"
     ]
    },
    {
     "name": "stdout",
     "output_type": "stream",
     "text": [
      "Epoch : 130  ,   Train Accuracy : 55.10  , Validation Accuracy : 52.60 , Training Loss : 0.022181\n"
     ]
    },
    {
     "name": "stderr",
     "output_type": "stream",
     "text": [
      "\n",
      "\n",
      "\n",
      "\n",
      " 66%|██████▌   | 132/200 [01:20<00:36,  1.85it/s]\u001b[A\u001b[A\u001b[A\u001b[A"
     ]
    },
    {
     "name": "stdout",
     "output_type": "stream",
     "text": [
      "Epoch : 131  ,   Train Accuracy : 55.10  , Validation Accuracy : 52.60 , Training Loss : 0.022181\n"
     ]
    },
    {
     "name": "stderr",
     "output_type": "stream",
     "text": [
      "\n",
      "\n",
      "\n",
      "\n",
      " 66%|██████▋   | 133/200 [01:20<00:39,  1.70it/s]\u001b[A\u001b[A\u001b[A\u001b[A"
     ]
    },
    {
     "name": "stdout",
     "output_type": "stream",
     "text": [
      "Epoch : 132  ,   Train Accuracy : 55.10  , Validation Accuracy : 52.60 , Training Loss : 0.022181\n"
     ]
    },
    {
     "name": "stderr",
     "output_type": "stream",
     "text": [
      "\n",
      "\n",
      "\n",
      "\n",
      " 67%|██████▋   | 134/200 [01:21<00:42,  1.57it/s]\u001b[A\u001b[A\u001b[A\u001b[A"
     ]
    },
    {
     "name": "stdout",
     "output_type": "stream",
     "text": [
      "Epoch : 133  ,   Train Accuracy : 55.10  , Validation Accuracy : 52.60 , Training Loss : 0.022181\n"
     ]
    },
    {
     "name": "stderr",
     "output_type": "stream",
     "text": [
      "\n",
      "\n",
      "\n",
      "\n",
      " 68%|██████▊   | 135/200 [01:22<00:39,  1.65it/s]\u001b[A\u001b[A\u001b[A\u001b[A"
     ]
    },
    {
     "name": "stdout",
     "output_type": "stream",
     "text": [
      "Epoch : 134  ,   Train Accuracy : 55.10  , Validation Accuracy : 52.60 , Training Loss : 0.022181\n"
     ]
    },
    {
     "name": "stderr",
     "output_type": "stream",
     "text": [
      "\n",
      "\n",
      "\n",
      "\n",
      " 68%|██████▊   | 136/200 [01:22<00:39,  1.64it/s]\u001b[A\u001b[A\u001b[A\u001b[A"
     ]
    },
    {
     "name": "stdout",
     "output_type": "stream",
     "text": [
      "Epoch : 135  ,   Train Accuracy : 55.10  , Validation Accuracy : 52.60 , Training Loss : 0.022181\n"
     ]
    },
    {
     "name": "stderr",
     "output_type": "stream",
     "text": [
      "\n",
      "\n",
      "\n",
      "\n",
      " 68%|██████▊   | 137/200 [01:23<00:37,  1.70it/s]\u001b[A\u001b[A\u001b[A\u001b[A"
     ]
    },
    {
     "name": "stdout",
     "output_type": "stream",
     "text": [
      "Epoch : 136  ,   Train Accuracy : 55.10  , Validation Accuracy : 52.60 , Training Loss : 0.022181\n"
     ]
    },
    {
     "name": "stderr",
     "output_type": "stream",
     "text": [
      "\n",
      "\n",
      "\n",
      "\n",
      " 69%|██████▉   | 138/200 [01:24<00:36,  1.70it/s]\u001b[A\u001b[A\u001b[A\u001b[A"
     ]
    },
    {
     "name": "stdout",
     "output_type": "stream",
     "text": [
      "Epoch : 137  ,   Train Accuracy : 55.10  , Validation Accuracy : 52.60 , Training Loss : 0.022181\n"
     ]
    },
    {
     "name": "stderr",
     "output_type": "stream",
     "text": [
      "\n",
      "\n",
      "\n",
      "\n",
      " 70%|██████▉   | 139/200 [01:24<00:34,  1.76it/s]\u001b[A\u001b[A\u001b[A\u001b[A"
     ]
    },
    {
     "name": "stdout",
     "output_type": "stream",
     "text": [
      "Epoch : 138  ,   Train Accuracy : 55.10  , Validation Accuracy : 52.60 , Training Loss : 0.022181\n"
     ]
    },
    {
     "name": "stderr",
     "output_type": "stream",
     "text": [
      "\n",
      "\n",
      "\n",
      "\n",
      " 70%|███████   | 140/200 [01:25<00:34,  1.72it/s]\u001b[A\u001b[A\u001b[A\u001b[A"
     ]
    },
    {
     "name": "stdout",
     "output_type": "stream",
     "text": [
      "Epoch : 139  ,   Train Accuracy : 55.10  , Validation Accuracy : 52.60 , Training Loss : 0.022181\n"
     ]
    },
    {
     "name": "stderr",
     "output_type": "stream",
     "text": [
      "\n",
      "\n",
      "\n",
      "\n",
      " 70%|███████   | 141/200 [01:25<00:33,  1.77it/s]\u001b[A\u001b[A\u001b[A\u001b[A"
     ]
    },
    {
     "name": "stdout",
     "output_type": "stream",
     "text": [
      "Epoch : 140  ,   Train Accuracy : 55.10  , Validation Accuracy : 52.60 , Training Loss : 0.022181\n"
     ]
    },
    {
     "name": "stderr",
     "output_type": "stream",
     "text": [
      "\n",
      "\n",
      "\n",
      "\n",
      " 71%|███████   | 142/200 [01:26<00:32,  1.77it/s]\u001b[A\u001b[A\u001b[A\u001b[A"
     ]
    },
    {
     "name": "stdout",
     "output_type": "stream",
     "text": [
      "Epoch : 141  ,   Train Accuracy : 55.10  , Validation Accuracy : 52.60 , Training Loss : 0.022181\n"
     ]
    },
    {
     "name": "stderr",
     "output_type": "stream",
     "text": [
      "\n",
      "\n",
      "\n",
      "\n",
      " 72%|███████▏  | 143/200 [01:26<00:35,  1.63it/s]\u001b[A\u001b[A\u001b[A\u001b[A"
     ]
    },
    {
     "name": "stdout",
     "output_type": "stream",
     "text": [
      "Epoch : 142  ,   Train Accuracy : 55.10  , Validation Accuracy : 52.60 , Training Loss : 0.022181\n"
     ]
    },
    {
     "name": "stderr",
     "output_type": "stream",
     "text": [
      "\n",
      "\n",
      "\n",
      "\n",
      " 72%|███████▏  | 144/200 [01:27<00:40,  1.39it/s]\u001b[A\u001b[A\u001b[A\u001b[A"
     ]
    },
    {
     "name": "stdout",
     "output_type": "stream",
     "text": [
      "Epoch : 143  ,   Train Accuracy : 55.10  , Validation Accuracy : 52.60 , Training Loss : 0.022181\n"
     ]
    },
    {
     "name": "stderr",
     "output_type": "stream",
     "text": [
      "Exception ignored in: <function _MultiProcessingDataLoaderIter.__del__ at 0x7f45ed6782f0>\n",
      "Traceback (most recent call last):\n",
      "  File \"/home/harshv834/anaconda3/envs/ada/lib/python3.7/site-packages/torch/utils/data/dataloader.py\", line 962, in __del__\n",
      "    self._shutdown_workers()\n",
      "  File \"/home/harshv834/anaconda3/envs/ada/lib/python3.7/site-packages/torch/utils/data/dataloader.py\", line 917, in _shutdown_workers\n",
      "    if not self._shutdown:\n",
      "AttributeError: '_MultiProcessingDataLoaderIter' object has no attribute '_shutdown'\n",
      "Exception ignored in: <function _MultiProcessingDataLoaderIter.__del__ at 0x7f45ed6782f0>\n",
      "Traceback (most recent call last):\n",
      "  File \"/home/harshv834/anaconda3/envs/ada/lib/python3.7/site-packages/torch/utils/data/dataloader.py\", line 962, in __del__\n",
      "    self._shutdown_workers()\n",
      "  File \"/home/harshv834/anaconda3/envs/ada/lib/python3.7/site-packages/torch/utils/data/dataloader.py\", line 917, in _shutdown_workers\n",
      "    if not self._shutdown:\n",
      "AttributeError: '_MultiProcessingDataLoaderIter' object has no attribute '_shutdown'\n",
      "Exception ignored in: <function _MultiProcessingDataLoaderIter.__del__ at 0x7f45ed6782f0>\n",
      "Traceback (most recent call last):\n",
      "  File \"/home/harshv834/anaconda3/envs/ada/lib/python3.7/site-packages/torch/utils/data/dataloader.py\", line 962, in __del__\n",
      "    self._shutdown_workers()\n",
      "  File \"/home/harshv834/anaconda3/envs/ada/lib/python3.7/site-packages/torch/utils/data/dataloader.py\", line 917, in _shutdown_workers\n",
      "    if not self._shutdown:\n",
      "AttributeError: '_MultiProcessingDataLoaderIter' object has no attribute '_shutdown'\n",
      "\n",
      "\n",
      "\n",
      "\n",
      " 72%|███████▎  | 145/200 [01:28<00:41,  1.34it/s]\u001b[A\u001b[A\u001b[A\u001b[A"
     ]
    },
    {
     "name": "stdout",
     "output_type": "stream",
     "text": [
      "Epoch : 144  ,   Train Accuracy : 55.10  , Validation Accuracy : 52.60 , Training Loss : 0.022181\n"
     ]
    },
    {
     "name": "stderr",
     "output_type": "stream",
     "text": [
      "Exception ignored in: <function _MultiProcessingDataLoaderIter.__del__ at 0x7f45ed6782f0>\n",
      "Traceback (most recent call last):\n",
      "  File \"/home/harshv834/anaconda3/envs/ada/lib/python3.7/site-packages/torch/utils/data/dataloader.py\", line 962, in __del__\n",
      "    self._shutdown_workers()\n",
      "  File \"/home/harshv834/anaconda3/envs/ada/lib/python3.7/site-packages/torch/utils/data/dataloader.py\", line 917, in _shutdown_workers\n",
      "    if not self._shutdown:\n",
      "AttributeError: '_MultiProcessingDataLoaderIter' object has no attribute '_shutdown'\n",
      "Exception ignored in: <function _MultiProcessingDataLoaderIter.__del__ at 0x7f45ed6782f0>\n",
      "Traceback (most recent call last):\n",
      "  File \"/home/harshv834/anaconda3/envs/ada/lib/python3.7/site-packages/torch/utils/data/dataloader.py\", line 962, in __del__\n",
      "    self._shutdown_workers()\n",
      "  File \"/home/harshv834/anaconda3/envs/ada/lib/python3.7/site-packages/torch/utils/data/dataloader.py\", line 917, in _shutdown_workers\n",
      "    if not self._shutdown:\n",
      "AttributeError: '_MultiProcessingDataLoaderIter' object has no attribute '_shutdown'\n",
      "Exception ignored in: <function _MultiProcessingDataLoaderIter.__del__ at 0x7f45ed6782f0>\n",
      "Traceback (most recent call last):\n",
      "  File \"/home/harshv834/anaconda3/envs/ada/lib/python3.7/site-packages/torch/utils/data/dataloader.py\", line 962, in __del__\n",
      "    self._shutdown_workers()\n",
      "  File \"/home/harshv834/anaconda3/envs/ada/lib/python3.7/site-packages/torch/utils/data/dataloader.py\", line 917, in _shutdown_workers\n",
      "    if not self._shutdown:\n",
      "AttributeError: '_MultiProcessingDataLoaderIter' object has no attribute '_shutdown'\n",
      "\n",
      "\n",
      "\n",
      "\n",
      " 73%|███████▎  | 146/200 [01:29<00:38,  1.40it/s]\u001b[A\u001b[A\u001b[A\u001b[A"
     ]
    },
    {
     "name": "stdout",
     "output_type": "stream",
     "text": [
      "Epoch : 145  ,   Train Accuracy : 55.10  , Validation Accuracy : 52.60 , Training Loss : 0.022181\n"
     ]
    },
    {
     "name": "stderr",
     "output_type": "stream",
     "text": [
      "Exception ignored in: <function _MultiProcessingDataLoaderIter.__del__ at 0x7f45ed6782f0>\n",
      "Traceback (most recent call last):\n",
      "  File \"/home/harshv834/anaconda3/envs/ada/lib/python3.7/site-packages/torch/utils/data/dataloader.py\", line 962, in __del__\n",
      "    self._shutdown_workers()\n",
      "  File \"/home/harshv834/anaconda3/envs/ada/lib/python3.7/site-packages/torch/utils/data/dataloader.py\", line 917, in _shutdown_workers\n",
      "    if not self._shutdown:\n",
      "AttributeError: '_MultiProcessingDataLoaderIter' object has no attribute '_shutdown'\n",
      "Exception ignored in: <function _MultiProcessingDataLoaderIter.__del__ at 0x7f45ed6782f0>\n",
      "Traceback (most recent call last):\n",
      "  File \"/home/harshv834/anaconda3/envs/ada/lib/python3.7/site-packages/torch/utils/data/dataloader.py\", line 962, in __del__\n",
      "    self._shutdown_workers()\n",
      "  File \"/home/harshv834/anaconda3/envs/ada/lib/python3.7/site-packages/torch/utils/data/dataloader.py\", line 917, in _shutdown_workers\n",
      "    if not self._shutdown:\n",
      "AttributeError: '_MultiProcessingDataLoaderIter' object has no attribute '_shutdown'\n",
      "Exception ignored in: <function _MultiProcessingDataLoaderIter.__del__ at 0x7f45ed6782f0>\n",
      "Traceback (most recent call last):\n",
      "  File \"/home/harshv834/anaconda3/envs/ada/lib/python3.7/site-packages/torch/utils/data/dataloader.py\", line 962, in __del__\n",
      "    self._shutdown_workers()\n",
      "  File \"/home/harshv834/anaconda3/envs/ada/lib/python3.7/site-packages/torch/utils/data/dataloader.py\", line 917, in _shutdown_workers\n",
      "    if not self._shutdown:\n",
      "AttributeError: '_MultiProcessingDataLoaderIter' object has no attribute '_shutdown'\n",
      "\n",
      "\n",
      "\n",
      "\n",
      " 74%|███████▎  | 147/200 [01:30<00:38,  1.36it/s]\u001b[A\u001b[A\u001b[A\u001b[A"
     ]
    },
    {
     "name": "stdout",
     "output_type": "stream",
     "text": [
      "Epoch : 146  ,   Train Accuracy : 55.10  , Validation Accuracy : 52.60 , Training Loss : 0.022181\n"
     ]
    },
    {
     "name": "stderr",
     "output_type": "stream",
     "text": [
      "Exception ignored in: <function _MultiProcessingDataLoaderIter.__del__ at 0x7f45ed6782f0>\n",
      "Traceback (most recent call last):\n",
      "  File \"/home/harshv834/anaconda3/envs/ada/lib/python3.7/site-packages/torch/utils/data/dataloader.py\", line 962, in __del__\n",
      "    self._shutdown_workers()\n",
      "Exception ignored in: <function _MultiProcessingDataLoaderIter.__del__ at 0x7f45ed6782f0>\n",
      "Traceback (most recent call last):\n",
      "  File \"/home/harshv834/anaconda3/envs/ada/lib/python3.7/site-packages/torch/utils/data/dataloader.py\", line 917, in _shutdown_workers\n",
      "  File \"/home/harshv834/anaconda3/envs/ada/lib/python3.7/site-packages/torch/utils/data/dataloader.py\", line 962, in __del__\n",
      "    if not self._shutdown:\n",
      "    self._shutdown_workers()\n",
      "AttributeError: '_MultiProcessingDataLoaderIter' object has no attribute '_shutdown'\n",
      "  File \"/home/harshv834/anaconda3/envs/ada/lib/python3.7/site-packages/torch/utils/data/dataloader.py\", line 917, in _shutdown_workers\n",
      "    if not self._shutdown:\n",
      "AttributeError: '_MultiProcessingDataLoaderIter' object has no attribute '_shutdown'\n",
      "Exception ignored in: <function _MultiProcessingDataLoaderIter.__del__ at 0x7f45ed6782f0>\n",
      "Traceback (most recent call last):\n",
      "  File \"/home/harshv834/anaconda3/envs/ada/lib/python3.7/site-packages/torch/utils/data/dataloader.py\", line 962, in __del__\n",
      "    self._shutdown_workers()\n",
      "  File \"/home/harshv834/anaconda3/envs/ada/lib/python3.7/site-packages/torch/utils/data/dataloader.py\", line 917, in _shutdown_workers\n",
      "    if not self._shutdown:\n",
      "AttributeError: '_MultiProcessingDataLoaderIter' object has no attribute '_shutdown'\n",
      "Exception ignored in: <function _MultiProcessingDataLoaderIter.__del__ at 0x7f45ed6782f0>\n",
      "Traceback (most recent call last):\n",
      "  File \"/home/harshv834/anaconda3/envs/ada/lib/python3.7/site-packages/torch/utils/data/dataloader.py\", line 962, in __del__\n",
      "    self._shutdown_workers()\n",
      "  File \"/home/harshv834/anaconda3/envs/ada/lib/python3.7/site-packages/torch/utils/data/dataloader.py\", line 917, in _shutdown_workers\n",
      "    if not self._shutdown:\n",
      "AttributeError: '_MultiProcessingDataLoaderIter' object has no attribute '_shutdown'\n",
      "\n",
      "\n",
      "\n",
      "\n",
      " 74%|███████▍  | 148/200 [01:30<00:36,  1.41it/s]\u001b[A\u001b[A\u001b[A\u001b[A"
     ]
    },
    {
     "name": "stdout",
     "output_type": "stream",
     "text": [
      "Epoch : 147  ,   Train Accuracy : 55.10  , Validation Accuracy : 52.60 , Training Loss : 0.022181\n"
     ]
    },
    {
     "name": "stderr",
     "output_type": "stream",
     "text": [
      "Exception ignored in: <function _MultiProcessingDataLoaderIter.__del__ at 0x7f45ed6782f0>\n",
      "Traceback (most recent call last):\n",
      "  File \"/home/harshv834/anaconda3/envs/ada/lib/python3.7/site-packages/torch/utils/data/dataloader.py\", line 962, in __del__\n",
      "    self._shutdown_workers()\n",
      "  File \"/home/harshv834/anaconda3/envs/ada/lib/python3.7/site-packages/torch/utils/data/dataloader.py\", line 917, in _shutdown_workers\n",
      "    if not self._shutdown:\n",
      "AttributeError: '_MultiProcessingDataLoaderIter' object has no attribute '_shutdown'\n",
      "Exception ignored in: <function _MultiProcessingDataLoaderIter.__del__ at 0x7f45ed6782f0>\n",
      "Traceback (most recent call last):\n",
      "  File \"/home/harshv834/anaconda3/envs/ada/lib/python3.7/site-packages/torch/utils/data/dataloader.py\", line 962, in __del__\n",
      "    self._shutdown_workers()\n",
      "  File \"/home/harshv834/anaconda3/envs/ada/lib/python3.7/site-packages/torch/utils/data/dataloader.py\", line 917, in _shutdown_workers\n",
      "    if not self._shutdown:\n",
      "AttributeError: '_MultiProcessingDataLoaderIter' object has no attribute '_shutdown'\n",
      "Exception ignored in: <function _MultiProcessingDataLoaderIter.__del__ at 0x7f45ed6782f0>\n",
      "Traceback (most recent call last):\n",
      "  File \"/home/harshv834/anaconda3/envs/ada/lib/python3.7/site-packages/torch/utils/data/dataloader.py\", line 962, in __del__\n",
      "    self._shutdown_workers()\n",
      "  File \"/home/harshv834/anaconda3/envs/ada/lib/python3.7/site-packages/torch/utils/data/dataloader.py\", line 917, in _shutdown_workers\n",
      "    if not self._shutdown:\n",
      "AttributeError: '_MultiProcessingDataLoaderIter' object has no attribute '_shutdown'\n",
      "Exception ignored in: <function _MultiProcessingDataLoaderIter.__del__ at 0x7f45ed6782f0>\n",
      "Traceback (most recent call last):\n",
      "  File \"/home/harshv834/anaconda3/envs/ada/lib/python3.7/site-packages/torch/utils/data/dataloader.py\", line 962, in __del__\n",
      "    self._shutdown_workers()\n",
      "  File \"/home/harshv834/anaconda3/envs/ada/lib/python3.7/site-packages/torch/utils/data/dataloader.py\", line 917, in _shutdown_workers\n",
      "    if not self._shutdown:\n",
      "AttributeError: '_MultiProcessingDataLoaderIter' object has no attribute '_shutdown'\n",
      "\n",
      "\n",
      "\n",
      "\n",
      " 74%|███████▍  | 149/200 [01:31<00:36,  1.39it/s]\u001b[A\u001b[A\u001b[A\u001b[A"
     ]
    },
    {
     "name": "stdout",
     "output_type": "stream",
     "text": [
      "Epoch : 148  ,   Train Accuracy : 55.10  , Validation Accuracy : 52.60 , Training Loss : 0.022181\n"
     ]
    },
    {
     "name": "stderr",
     "output_type": "stream",
     "text": [
      "Exception ignored in: <function _MultiProcessingDataLoaderIter.__del__ at 0x7f45ed6782f0>\n",
      "Traceback (most recent call last):\n",
      "  File \"/home/harshv834/anaconda3/envs/ada/lib/python3.7/site-packages/torch/utils/data/dataloader.py\", line 962, in __del__\n",
      "    self._shutdown_workers()\n",
      "  File \"/home/harshv834/anaconda3/envs/ada/lib/python3.7/site-packages/torch/utils/data/dataloader.py\", line 917, in _shutdown_workers\n",
      "    if not self._shutdown:\n",
      "AttributeError: '_MultiProcessingDataLoaderIter' object has no attribute '_shutdown'\n",
      "Exception ignored in: <function _MultiProcessingDataLoaderIter.__del__ at 0x7f45ed6782f0>\n",
      "Traceback (most recent call last):\n",
      "  File \"/home/harshv834/anaconda3/envs/ada/lib/python3.7/site-packages/torch/utils/data/dataloader.py\", line 962, in __del__\n",
      "    self._shutdown_workers()\n",
      "  File \"/home/harshv834/anaconda3/envs/ada/lib/python3.7/site-packages/torch/utils/data/dataloader.py\", line 917, in _shutdown_workers\n",
      "    if not self._shutdown:\n",
      "AttributeError: '_MultiProcessingDataLoaderIter' object has no attribute '_shutdown'\n",
      "Exception ignored in: <function _MultiProcessingDataLoaderIter.__del__ at 0x7f45ed6782f0>\n",
      "Traceback (most recent call last):\n",
      "  File \"/home/harshv834/anaconda3/envs/ada/lib/python3.7/site-packages/torch/utils/data/dataloader.py\", line 962, in __del__\n",
      "Exception ignored in: <function _MultiProcessingDataLoaderIter.__del__ at 0x7f45ed6782f0>\n",
      "Traceback (most recent call last):\n",
      "    self._shutdown_workers()\n",
      "  File \"/home/harshv834/anaconda3/envs/ada/lib/python3.7/site-packages/torch/utils/data/dataloader.py\", line 962, in __del__\n",
      "  File \"/home/harshv834/anaconda3/envs/ada/lib/python3.7/site-packages/torch/utils/data/dataloader.py\", line 917, in _shutdown_workers\n",
      "    if not self._shutdown:\n",
      "    self._shutdown_workers()\n",
      "AttributeError: '_MultiProcessingDataLoaderIter' object has no attribute '_shutdown'\n",
      "  File \"/home/harshv834/anaconda3/envs/ada/lib/python3.7/site-packages/torch/utils/data/dataloader.py\", line 917, in _shutdown_workers\n",
      "    if not self._shutdown:\n",
      "AttributeError: '_MultiProcessingDataLoaderIter' object has no attribute '_shutdown'\n",
      "Exception ignored in: <function _MultiProcessingDataLoaderIter.__del__ at 0x7f45ed6782f0>\n",
      "Traceback (most recent call last):\n",
      "  File \"/home/harshv834/anaconda3/envs/ada/lib/python3.7/site-packages/torch/utils/data/dataloader.py\", line 962, in __del__\n",
      "    self._shutdown_workers()\n",
      "  File \"/home/harshv834/anaconda3/envs/ada/lib/python3.7/site-packages/torch/utils/data/dataloader.py\", line 917, in _shutdown_workers\n",
      "Exception ignored in: <function _MultiProcessingDataLoaderIter.__del__ at 0x7f45ed6782f0>\n",
      "    if not self._shutdown:\n",
      "Traceback (most recent call last):\n",
      "AttributeError: '_MultiProcessingDataLoaderIter' object has no attribute '_shutdown'\n",
      "  File \"/home/harshv834/anaconda3/envs/ada/lib/python3.7/site-packages/torch/utils/data/dataloader.py\", line 962, in __del__\n",
      "    self._shutdown_workers()\n",
      "  File \"/home/harshv834/anaconda3/envs/ada/lib/python3.7/site-packages/torch/utils/data/dataloader.py\", line 917, in _shutdown_workers\n",
      "    if not self._shutdown:\n",
      "AttributeError: '_MultiProcessingDataLoaderIter' object has no attribute '_shutdown'\n",
      "\n",
      "\n",
      "\n",
      "\n",
      " 75%|███████▌  | 150/200 [01:32<00:39,  1.25it/s]\u001b[A\u001b[A\u001b[A\u001b[A"
     ]
    },
    {
     "name": "stdout",
     "output_type": "stream",
     "text": [
      "Epoch : 149  ,   Train Accuracy : 55.10  , Validation Accuracy : 52.60 , Training Loss : 0.022181\n"
     ]
    },
    {
     "name": "stderr",
     "output_type": "stream",
     "text": [
      "Exception ignored in: <function _MultiProcessingDataLoaderIter.__del__ at 0x7f45ed6782f0>\n",
      "Traceback (most recent call last):\n",
      "  File \"/home/harshv834/anaconda3/envs/ada/lib/python3.7/site-packages/torch/utils/data/dataloader.py\", line 962, in __del__\n",
      "    self._shutdown_workers()\n",
      "  File \"/home/harshv834/anaconda3/envs/ada/lib/python3.7/site-packages/torch/utils/data/dataloader.py\", line 917, in _shutdown_workers\n",
      "    if not self._shutdown:\n",
      "AttributeError: '_MultiProcessingDataLoaderIter' object has no attribute '_shutdown'\n",
      "Exception ignored in: <function _MultiProcessingDataLoaderIter.__del__ at 0x7f45ed6782f0>\n",
      "Traceback (most recent call last):\n",
      "  File \"/home/harshv834/anaconda3/envs/ada/lib/python3.7/site-packages/torch/utils/data/dataloader.py\", line 962, in __del__\n",
      "    self._shutdown_workers()\n",
      "  File \"/home/harshv834/anaconda3/envs/ada/lib/python3.7/site-packages/torch/utils/data/dataloader.py\", line 917, in _shutdown_workers\n",
      "    if not self._shutdown:\n",
      "AttributeError: '_MultiProcessingDataLoaderIter' object has no attribute '_shutdown'\n",
      "Exception ignored in: <function _MultiProcessingDataLoaderIter.__del__ at 0x7f45ed6782f0>\n",
      "Traceback (most recent call last):\n",
      "  File \"/home/harshv834/anaconda3/envs/ada/lib/python3.7/site-packages/torch/utils/data/dataloader.py\", line 962, in __del__\n",
      "    self._shutdown_workers()\n",
      "  File \"/home/harshv834/anaconda3/envs/ada/lib/python3.7/site-packages/torch/utils/data/dataloader.py\", line 917, in _shutdown_workers\n",
      "    if not self._shutdown:\n",
      "AttributeError: '_MultiProcessingDataLoaderIter' object has no attribute '_shutdown'\n",
      "Exception ignored in: <function _MultiProcessingDataLoaderIter.__del__ at 0x7f45ed6782f0>\n",
      "Traceback (most recent call last):\n",
      "  File \"/home/harshv834/anaconda3/envs/ada/lib/python3.7/site-packages/torch/utils/data/dataloader.py\", line 962, in __del__\n",
      "    self._shutdown_workers()\n",
      "  File \"/home/harshv834/anaconda3/envs/ada/lib/python3.7/site-packages/torch/utils/data/dataloader.py\", line 917, in _shutdown_workers\n",
      "    if not self._shutdown:\n",
      "AttributeError: '_MultiProcessingDataLoaderIter' object has no attribute '_shutdown'\n",
      "Exception ignored in: <function _MultiProcessingDataLoaderIter.__del__ at 0x7f45ed6782f0>\n",
      "Traceback (most recent call last):\n",
      "  File \"/home/harshv834/anaconda3/envs/ada/lib/python3.7/site-packages/torch/utils/data/dataloader.py\", line 962, in __del__\n",
      "    self._shutdown_workers()\n",
      "  File \"/home/harshv834/anaconda3/envs/ada/lib/python3.7/site-packages/torch/utils/data/dataloader.py\", line 917, in _shutdown_workers\n",
      "Exception ignored in: <function _MultiProcessingDataLoaderIter.__del__ at 0x7f45ed6782f0>\n",
      "    if not self._shutdown:\n",
      "AttributeError: '_MultiProcessingDataLoaderIter' object has no attribute '_shutdown'\n",
      "Traceback (most recent call last):\n",
      "  File \"/home/harshv834/anaconda3/envs/ada/lib/python3.7/site-packages/torch/utils/data/dataloader.py\", line 962, in __del__\n",
      "    self._shutdown_workers()\n",
      "  File \"/home/harshv834/anaconda3/envs/ada/lib/python3.7/site-packages/torch/utils/data/dataloader.py\", line 917, in _shutdown_workers\n",
      "    if not self._shutdown:\n",
      "AttributeError: '_MultiProcessingDataLoaderIter' object has no attribute '_shutdown'\n",
      "\n",
      "\n",
      "\n",
      "\n",
      " 76%|███████▌  | 151/200 [01:33<00:43,  1.13it/s]\u001b[A\u001b[A\u001b[A\u001b[A"
     ]
    },
    {
     "name": "stdout",
     "output_type": "stream",
     "text": [
      "Epoch : 150  ,   Train Accuracy : 55.10  , Validation Accuracy : 52.60 , Training Loss : 0.022181\n"
     ]
    },
    {
     "name": "stderr",
     "output_type": "stream",
     "text": [
      "Exception ignored in: <function _MultiProcessingDataLoaderIter.__del__ at 0x7f45ed6782f0>\n",
      "Traceback (most recent call last):\n",
      "  File \"/home/harshv834/anaconda3/envs/ada/lib/python3.7/site-packages/torch/utils/data/dataloader.py\", line 962, in __del__\n",
      "    self._shutdown_workers()\n",
      "  File \"/home/harshv834/anaconda3/envs/ada/lib/python3.7/site-packages/torch/utils/data/dataloader.py\", line 917, in _shutdown_workers\n",
      "    if not self._shutdown:\n",
      "AttributeError: '_MultiProcessingDataLoaderIter' object has no attribute '_shutdown'\n",
      "Exception ignored in: <function _MultiProcessingDataLoaderIter.__del__ at 0x7f45ed6782f0>\n",
      "Traceback (most recent call last):\n",
      "  File \"/home/harshv834/anaconda3/envs/ada/lib/python3.7/site-packages/torch/utils/data/dataloader.py\", line 962, in __del__\n",
      "    self._shutdown_workers()\n",
      "  File \"/home/harshv834/anaconda3/envs/ada/lib/python3.7/site-packages/torch/utils/data/dataloader.py\", line 917, in _shutdown_workers\n",
      "    if not self._shutdown:\n",
      "AttributeError: '_MultiProcessingDataLoaderIter' object has no attribute '_shutdown'\n",
      "Exception ignored in: <function _MultiProcessingDataLoaderIter.__del__ at 0x7f45ed6782f0>\n",
      "Traceback (most recent call last):\n",
      "  File \"/home/harshv834/anaconda3/envs/ada/lib/python3.7/site-packages/torch/utils/data/dataloader.py\", line 962, in __del__\n",
      "    self._shutdown_workers()\n",
      "Exception ignored in: <function _MultiProcessingDataLoaderIter.__del__ at 0x7f45ed6782f0>\n",
      "  File \"/home/harshv834/anaconda3/envs/ada/lib/python3.7/site-packages/torch/utils/data/dataloader.py\", line 917, in _shutdown_workers\n",
      "Traceback (most recent call last):\n",
      "    if not self._shutdown:\n",
      "AttributeError: '_MultiProcessingDataLoaderIter' object has no attribute '_shutdown'\n",
      "  File \"/home/harshv834/anaconda3/envs/ada/lib/python3.7/site-packages/torch/utils/data/dataloader.py\", line 962, in __del__\n",
      "    self._shutdown_workers()\n",
      "  File \"/home/harshv834/anaconda3/envs/ada/lib/python3.7/site-packages/torch/utils/data/dataloader.py\", line 917, in _shutdown_workers\n",
      "    if not self._shutdown:\n",
      "AttributeError: '_MultiProcessingDataLoaderIter' object has no attribute '_shutdown'\n",
      "Exception ignored in: <function _MultiProcessingDataLoaderIter.__del__ at 0x7f45ed6782f0>\n",
      "Traceback (most recent call last):\n",
      "  File \"/home/harshv834/anaconda3/envs/ada/lib/python3.7/site-packages/torch/utils/data/dataloader.py\", line 962, in __del__\n",
      "Exception ignored in: <function _MultiProcessingDataLoaderIter.__del__ at 0x7f45ed6782f0>\n",
      "Traceback (most recent call last):\n",
      "    self._shutdown_workers()\n",
      "  File \"/home/harshv834/anaconda3/envs/ada/lib/python3.7/site-packages/torch/utils/data/dataloader.py\", line 917, in _shutdown_workers\n",
      "    if not self._shutdown:\n",
      "AttributeError: '_MultiProcessingDataLoaderIter' object has no attribute '_shutdown'\n",
      "  File \"/home/harshv834/anaconda3/envs/ada/lib/python3.7/site-packages/torch/utils/data/dataloader.py\", line 962, in __del__\n",
      "    self._shutdown_workers()\n",
      "  File \"/home/harshv834/anaconda3/envs/ada/lib/python3.7/site-packages/torch/utils/data/dataloader.py\", line 917, in _shutdown_workers\n",
      "    if not self._shutdown:\n",
      "AttributeError: '_MultiProcessingDataLoaderIter' object has no attribute '_shutdown'\n",
      "\n",
      "\n",
      "\n",
      "\n",
      " 76%|███████▌  | 152/200 [01:34<00:43,  1.10it/s]\u001b[A\u001b[A\u001b[A\u001b[A"
     ]
    },
    {
     "name": "stdout",
     "output_type": "stream",
     "text": [
      "Epoch : 151  ,   Train Accuracy : 55.10  , Validation Accuracy : 52.60 , Training Loss : 0.022181\n"
     ]
    },
    {
     "name": "stderr",
     "output_type": "stream",
     "text": [
      "Exception ignored in: <function _MultiProcessingDataLoaderIter.__del__ at 0x7f45ed6782f0>\n",
      "Traceback (most recent call last):\n",
      "  File \"/home/harshv834/anaconda3/envs/ada/lib/python3.7/site-packages/torch/utils/data/dataloader.py\", line 962, in __del__\n",
      "    self._shutdown_workers()\n",
      "  File \"/home/harshv834/anaconda3/envs/ada/lib/python3.7/site-packages/torch/utils/data/dataloader.py\", line 917, in _shutdown_workers\n",
      "    if not self._shutdown:\n",
      "AttributeError: '_MultiProcessingDataLoaderIter' object has no attribute '_shutdown'\n",
      "Exception ignored in: <function _MultiProcessingDataLoaderIter.__del__ at 0x7f45ed6782f0>\n",
      "Traceback (most recent call last):\n",
      "  File \"/home/harshv834/anaconda3/envs/ada/lib/python3.7/site-packages/torch/utils/data/dataloader.py\", line 962, in __del__\n",
      "    self._shutdown_workers()\n",
      "  File \"/home/harshv834/anaconda3/envs/ada/lib/python3.7/site-packages/torch/utils/data/dataloader.py\", line 917, in _shutdown_workers\n",
      "    if not self._shutdown:\n",
      "AttributeError: '_MultiProcessingDataLoaderIter' object has no attribute '_shutdown'\n",
      "Exception ignored in: <function _MultiProcessingDataLoaderIter.__del__ at 0x7f45ed6782f0>\n",
      "Traceback (most recent call last):\n",
      "  File \"/home/harshv834/anaconda3/envs/ada/lib/python3.7/site-packages/torch/utils/data/dataloader.py\", line 962, in __del__\n",
      "    self._shutdown_workers()\n",
      "  File \"/home/harshv834/anaconda3/envs/ada/lib/python3.7/site-packages/torch/utils/data/dataloader.py\", line 917, in _shutdown_workers\n",
      "    if not self._shutdown:\n",
      "AttributeError: '_MultiProcessingDataLoaderIter' object has no attribute '_shutdown'\n",
      "Exception ignored in: <function _MultiProcessingDataLoaderIter.__del__ at 0x7f45ed6782f0>\n",
      "Traceback (most recent call last):\n",
      "  File \"/home/harshv834/anaconda3/envs/ada/lib/python3.7/site-packages/torch/utils/data/dataloader.py\", line 962, in __del__\n",
      "    self._shutdown_workers()\n",
      "  File \"/home/harshv834/anaconda3/envs/ada/lib/python3.7/site-packages/torch/utils/data/dataloader.py\", line 917, in _shutdown_workers\n",
      "    if not self._shutdown:\n",
      "AttributeError: '_MultiProcessingDataLoaderIter' object has no attribute '_shutdown'\n",
      "Exception ignored in: <function _MultiProcessingDataLoaderIter.__del__ at 0x7f45ed6782f0>\n",
      "Traceback (most recent call last):\n",
      "  File \"/home/harshv834/anaconda3/envs/ada/lib/python3.7/site-packages/torch/utils/data/dataloader.py\", line 962, in __del__\n",
      "Exception ignored in: <function _MultiProcessingDataLoaderIter.__del__ at 0x7f45ed6782f0>\n",
      "Traceback (most recent call last):\n",
      "    self._shutdown_workers()\n",
      "  File \"/home/harshv834/anaconda3/envs/ada/lib/python3.7/site-packages/torch/utils/data/dataloader.py\", line 917, in _shutdown_workers\n",
      "  File \"/home/harshv834/anaconda3/envs/ada/lib/python3.7/site-packages/torch/utils/data/dataloader.py\", line 962, in __del__\n",
      "    self._shutdown_workers()\n",
      "  File \"/home/harshv834/anaconda3/envs/ada/lib/python3.7/site-packages/torch/utils/data/dataloader.py\", line 917, in _shutdown_workers\n",
      "    if not self._shutdown:\n",
      "AttributeError: '_MultiProcessingDataLoaderIter' object has no attribute '_shutdown'\n",
      "    if not self._shutdown:\n",
      "AttributeError: '_MultiProcessingDataLoaderIter' object has no attribute '_shutdown'\n",
      "\n",
      "\n",
      "\n",
      "\n",
      " 76%|███████▋  | 153/200 [01:35<00:40,  1.16it/s]\u001b[A\u001b[A\u001b[A\u001b[A"
     ]
    },
    {
     "name": "stdout",
     "output_type": "stream",
     "text": [
      "Epoch : 152  ,   Train Accuracy : 55.10  , Validation Accuracy : 52.60 , Training Loss : 0.022181\n"
     ]
    },
    {
     "name": "stderr",
     "output_type": "stream",
     "text": [
      "Exception ignored in: <function _MultiProcessingDataLoaderIter.__del__ at 0x7f45ed6782f0>\n",
      "Traceback (most recent call last):\n",
      "  File \"/home/harshv834/anaconda3/envs/ada/lib/python3.7/site-packages/torch/utils/data/dataloader.py\", line 962, in __del__\n",
      "    self._shutdown_workers()\n",
      "  File \"/home/harshv834/anaconda3/envs/ada/lib/python3.7/site-packages/torch/utils/data/dataloader.py\", line 917, in _shutdown_workers\n",
      "    if not self._shutdown:\n",
      "Exception ignored in: <function _MultiProcessingDataLoaderIter.__del__ at 0x7f45ed6782f0>\n",
      "Traceback (most recent call last):\n",
      "AttributeError: '_MultiProcessingDataLoaderIter' object has no attribute '_shutdown'\n",
      "  File \"/home/harshv834/anaconda3/envs/ada/lib/python3.7/site-packages/torch/utils/data/dataloader.py\", line 962, in __del__\n",
      "    self._shutdown_workers()\n",
      "  File \"/home/harshv834/anaconda3/envs/ada/lib/python3.7/site-packages/torch/utils/data/dataloader.py\", line 917, in _shutdown_workers\n",
      "    if not self._shutdown:\n",
      "AttributeError: '_MultiProcessingDataLoaderIter' object has no attribute '_shutdown'\n",
      "Exception ignored in: <function _MultiProcessingDataLoaderIter.__del__ at 0x7f45ed6782f0>\n",
      "Traceback (most recent call last):\n",
      "  File \"/home/harshv834/anaconda3/envs/ada/lib/python3.7/site-packages/torch/utils/data/dataloader.py\", line 962, in __del__\n",
      "    self._shutdown_workers()\n",
      "  File \"/home/harshv834/anaconda3/envs/ada/lib/python3.7/site-packages/torch/utils/data/dataloader.py\", line 917, in _shutdown_workers\n",
      "Exception ignored in: <function _MultiProcessingDataLoaderIter.__del__ at 0x7f45ed6782f0>\n",
      "Traceback (most recent call last):\n",
      "  File \"/home/harshv834/anaconda3/envs/ada/lib/python3.7/site-packages/torch/utils/data/dataloader.py\", line 962, in __del__\n",
      "    if not self._shutdown:\n",
      "    self._shutdown_workers()\n",
      "AttributeError: '_MultiProcessingDataLoaderIter' object has no attribute '_shutdown'\n",
      "  File \"/home/harshv834/anaconda3/envs/ada/lib/python3.7/site-packages/torch/utils/data/dataloader.py\", line 917, in _shutdown_workers\n",
      "    if not self._shutdown:\n",
      "AttributeError: '_MultiProcessingDataLoaderIter' object has no attribute '_shutdown'\n",
      "Exception ignored in: <function _MultiProcessingDataLoaderIter.__del__ at 0x7f45ed6782f0>\n",
      "Exception ignored in: <function _MultiProcessingDataLoaderIter.__del__ at 0x7f45ed6782f0>\n",
      "Traceback (most recent call last):\n",
      "Traceback (most recent call last):\n",
      "  File \"/home/harshv834/anaconda3/envs/ada/lib/python3.7/site-packages/torch/utils/data/dataloader.py\", line 962, in __del__\n",
      "  File \"/home/harshv834/anaconda3/envs/ada/lib/python3.7/site-packages/torch/utils/data/dataloader.py\", line 962, in __del__\n",
      "    self._shutdown_workers()\n",
      "  File \"/home/harshv834/anaconda3/envs/ada/lib/python3.7/site-packages/torch/utils/data/dataloader.py\", line 917, in _shutdown_workers\n",
      "    if not self._shutdown:\n",
      "AttributeError: '_MultiProcessingDataLoaderIter' object has no attribute '_shutdown'\n",
      "    self._shutdown_workers()\n",
      "  File \"/home/harshv834/anaconda3/envs/ada/lib/python3.7/site-packages/torch/utils/data/dataloader.py\", line 917, in _shutdown_workers\n",
      "    if not self._shutdown:\n",
      "AttributeError: '_MultiProcessingDataLoaderIter' object has no attribute '_shutdown'\n",
      "\n",
      "\n",
      "\n",
      "\n",
      " 77%|███████▋  | 154/200 [01:36<00:38,  1.21it/s]\u001b[A\u001b[A\u001b[A\u001b[A"
     ]
    },
    {
     "name": "stdout",
     "output_type": "stream",
     "text": [
      "Epoch : 153  ,   Train Accuracy : 55.10  , Validation Accuracy : 52.60 , Training Loss : 0.022181\n"
     ]
    },
    {
     "name": "stderr",
     "output_type": "stream",
     "text": [
      "Exception ignored in: <function _MultiProcessingDataLoaderIter.__del__ at 0x7f45ed6782f0>\n",
      "Exception ignored in: <function _MultiProcessingDataLoaderIter.__del__ at 0x7f45ed6782f0>\n",
      "Traceback (most recent call last):\n",
      "  File \"/home/harshv834/anaconda3/envs/ada/lib/python3.7/site-packages/torch/utils/data/dataloader.py\", line 962, in __del__\n",
      "Traceback (most recent call last):\n",
      "    self._shutdown_workers()\n",
      "  File \"/home/harshv834/anaconda3/envs/ada/lib/python3.7/site-packages/torch/utils/data/dataloader.py\", line 962, in __del__\n",
      "    self._shutdown_workers()\n",
      "  File \"/home/harshv834/anaconda3/envs/ada/lib/python3.7/site-packages/torch/utils/data/dataloader.py\", line 917, in _shutdown_workers\n",
      "  File \"/home/harshv834/anaconda3/envs/ada/lib/python3.7/site-packages/torch/utils/data/dataloader.py\", line 917, in _shutdown_workers\n",
      "    if not self._shutdown:\n",
      "    if not self._shutdown:\n",
      "AttributeError: '_MultiProcessingDataLoaderIter' object has no attribute '_shutdown'\n",
      "AttributeError: '_MultiProcessingDataLoaderIter' object has no attribute '_shutdown'\n",
      "Exception ignored in: <function _MultiProcessingDataLoaderIter.__del__ at 0x7f45ed6782f0>\n",
      "Traceback (most recent call last):\n",
      "  File \"/home/harshv834/anaconda3/envs/ada/lib/python3.7/site-packages/torch/utils/data/dataloader.py\", line 962, in __del__\n",
      "    self._shutdown_workers()\n",
      "  File \"/home/harshv834/anaconda3/envs/ada/lib/python3.7/site-packages/torch/utils/data/dataloader.py\", line 917, in _shutdown_workers\n",
      "    if not self._shutdown:\n",
      "AttributeError: '_MultiProcessingDataLoaderIter' object has no attribute '_shutdown'\n",
      "Exception ignored in: <function _MultiProcessingDataLoaderIter.__del__ at 0x7f45ed6782f0>\n",
      "Traceback (most recent call last):\n",
      "  File \"/home/harshv834/anaconda3/envs/ada/lib/python3.7/site-packages/torch/utils/data/dataloader.py\", line 962, in __del__\n",
      "    self._shutdown_workers()\n",
      "  File \"/home/harshv834/anaconda3/envs/ada/lib/python3.7/site-packages/torch/utils/data/dataloader.py\", line 917, in _shutdown_workers\n",
      "    if not self._shutdown:\n",
      "AttributeError: '_MultiProcessingDataLoaderIter' object has no attribute '_shutdown'\n",
      "Exception ignored in: <function _MultiProcessingDataLoaderIter.__del__ at 0x7f45ed6782f0>\n",
      "Traceback (most recent call last):\n",
      "  File \"/home/harshv834/anaconda3/envs/ada/lib/python3.7/site-packages/torch/utils/data/dataloader.py\", line 962, in __del__\n",
      "    self._shutdown_workers()\n",
      "  File \"/home/harshv834/anaconda3/envs/ada/lib/python3.7/site-packages/torch/utils/data/dataloader.py\", line 917, in _shutdown_workers\n",
      "    if not self._shutdown:\n",
      "AttributeError: '_MultiProcessingDataLoaderIter' object has no attribute '_shutdown'\n",
      "Exception ignored in: <function _MultiProcessingDataLoaderIter.__del__ at 0x7f45ed6782f0>\n",
      "Traceback (most recent call last):\n",
      "  File \"/home/harshv834/anaconda3/envs/ada/lib/python3.7/site-packages/torch/utils/data/dataloader.py\", line 962, in __del__\n",
      "    self._shutdown_workers()\n",
      "  File \"/home/harshv834/anaconda3/envs/ada/lib/python3.7/site-packages/torch/utils/data/dataloader.py\", line 917, in _shutdown_workers\n",
      "    if not self._shutdown:\n",
      "AttributeError: '_MultiProcessingDataLoaderIter' object has no attribute '_shutdown'\n",
      "\n",
      "\n",
      "\n",
      "\n",
      " 78%|███████▊  | 155/200 [01:36<00:35,  1.26it/s]\u001b[A\u001b[A\u001b[A\u001b[A"
     ]
    },
    {
     "name": "stdout",
     "output_type": "stream",
     "text": [
      "Epoch : 154  ,   Train Accuracy : 55.10  , Validation Accuracy : 52.60 , Training Loss : 0.022181\n"
     ]
    },
    {
     "name": "stderr",
     "output_type": "stream",
     "text": [
      "Exception ignored in: <function _MultiProcessingDataLoaderIter.__del__ at 0x7f45ed6782f0>\n",
      "Traceback (most recent call last):\n",
      "Exception ignored in: <function _MultiProcessingDataLoaderIter.__del__ at 0x7f45ed6782f0>\n",
      "  File \"/home/harshv834/anaconda3/envs/ada/lib/python3.7/site-packages/torch/utils/data/dataloader.py\", line 962, in __del__\n",
      "    self._shutdown_workers()\n",
      "Traceback (most recent call last):\n",
      "  File \"/home/harshv834/anaconda3/envs/ada/lib/python3.7/site-packages/torch/utils/data/dataloader.py\", line 917, in _shutdown_workers\n",
      "    if not self._shutdown:\n",
      "  File \"/home/harshv834/anaconda3/envs/ada/lib/python3.7/site-packages/torch/utils/data/dataloader.py\", line 962, in __del__\n",
      "    self._shutdown_workers()\n",
      "  File \"/home/harshv834/anaconda3/envs/ada/lib/python3.7/site-packages/torch/utils/data/dataloader.py\", line 917, in _shutdown_workers\n",
      "    if not self._shutdown:\n",
      "AttributeError: '_MultiProcessingDataLoaderIter' object has no attribute '_shutdown'\n",
      "AttributeError: '_MultiProcessingDataLoaderIter' object has no attribute '_shutdown'\n",
      "Exception ignored in: <function _MultiProcessingDataLoaderIter.__del__ at 0x7f45ed6782f0>\n",
      "Traceback (most recent call last):\n",
      "  File \"/home/harshv834/anaconda3/envs/ada/lib/python3.7/site-packages/torch/utils/data/dataloader.py\", line 962, in __del__\n",
      "    self._shutdown_workers()\n",
      "  File \"/home/harshv834/anaconda3/envs/ada/lib/python3.7/site-packages/torch/utils/data/dataloader.py\", line 917, in _shutdown_workers\n",
      "    if not self._shutdown:\n",
      "Exception ignored in: <function _MultiProcessingDataLoaderIter.__del__ at 0x7f45ed6782f0>\n",
      "Traceback (most recent call last):\n",
      "AttributeError: '_MultiProcessingDataLoaderIter' object has no attribute '_shutdown'\n",
      "  File \"/home/harshv834/anaconda3/envs/ada/lib/python3.7/site-packages/torch/utils/data/dataloader.py\", line 962, in __del__\n",
      "    self._shutdown_workers()\n",
      "  File \"/home/harshv834/anaconda3/envs/ada/lib/python3.7/site-packages/torch/utils/data/dataloader.py\", line 917, in _shutdown_workers\n",
      "    if not self._shutdown:\n",
      "AttributeError: '_MultiProcessingDataLoaderIter' object has no attribute '_shutdown'\n",
      "Exception ignored in: <function _MultiProcessingDataLoaderIter.__del__ at 0x7f45ed6782f0>\n",
      "Traceback (most recent call last):\n",
      "  File \"/home/harshv834/anaconda3/envs/ada/lib/python3.7/site-packages/torch/utils/data/dataloader.py\", line 962, in __del__\n",
      "    self._shutdown_workers()\n",
      "  File \"/home/harshv834/anaconda3/envs/ada/lib/python3.7/site-packages/torch/utils/data/dataloader.py\", line 917, in _shutdown_workers\n",
      "Exception ignored in: <function _MultiProcessingDataLoaderIter.__del__ at 0x7f45ed6782f0>\n",
      "    if not self._shutdown:\n",
      "Traceback (most recent call last):\n",
      "AttributeError: '_MultiProcessingDataLoaderIter' object has no attribute '_shutdown'\n",
      "  File \"/home/harshv834/anaconda3/envs/ada/lib/python3.7/site-packages/torch/utils/data/dataloader.py\", line 962, in __del__\n",
      "    self._shutdown_workers()\n",
      "  File \"/home/harshv834/anaconda3/envs/ada/lib/python3.7/site-packages/torch/utils/data/dataloader.py\", line 917, in _shutdown_workers\n",
      "    if not self._shutdown:\n",
      "AttributeError: '_MultiProcessingDataLoaderIter' object has no attribute '_shutdown'\n",
      "\n",
      "\n",
      "\n",
      "\n",
      " 78%|███████▊  | 156/200 [01:37<00:33,  1.30it/s]\u001b[A\u001b[A\u001b[A\u001b[A"
     ]
    },
    {
     "name": "stdout",
     "output_type": "stream",
     "text": [
      "Epoch : 155  ,   Train Accuracy : 55.10  , Validation Accuracy : 52.60 , Training Loss : 0.022181\n"
     ]
    },
    {
     "name": "stderr",
     "output_type": "stream",
     "text": [
      "Exception ignored in: <function _MultiProcessingDataLoaderIter.__del__ at 0x7f45ed6782f0>\n",
      "Traceback (most recent call last):\n",
      "  File \"/home/harshv834/anaconda3/envs/ada/lib/python3.7/site-packages/torch/utils/data/dataloader.py\", line 962, in __del__\n",
      "    self._shutdown_workers()\n",
      "  File \"/home/harshv834/anaconda3/envs/ada/lib/python3.7/site-packages/torch/utils/data/dataloader.py\", line 917, in _shutdown_workers\n",
      "    if not self._shutdown:\n",
      "AttributeError: '_MultiProcessingDataLoaderIter' object has no attribute '_shutdown'\n",
      "Exception ignored in: <function _MultiProcessingDataLoaderIter.__del__ at 0x7f45ed6782f0>\n",
      "Traceback (most recent call last):\n",
      "  File \"/home/harshv834/anaconda3/envs/ada/lib/python3.7/site-packages/torch/utils/data/dataloader.py\", line 962, in __del__\n",
      "    self._shutdown_workers()\n",
      "  File \"/home/harshv834/anaconda3/envs/ada/lib/python3.7/site-packages/torch/utils/data/dataloader.py\", line 917, in _shutdown_workers\n",
      "    if not self._shutdown:\n",
      "AttributeError: '_MultiProcessingDataLoaderIter' object has no attribute '_shutdown'\n",
      "Exception ignored in: <function _MultiProcessingDataLoaderIter.__del__ at 0x7f45ed6782f0>\n",
      "Traceback (most recent call last):\n",
      "Exception ignored in: <function _MultiProcessingDataLoaderIter.__del__ at 0x7f45ed6782f0>\n",
      "  File \"/home/harshv834/anaconda3/envs/ada/lib/python3.7/site-packages/torch/utils/data/dataloader.py\", line 962, in __del__\n",
      "    self._shutdown_workers()\n",
      "Traceback (most recent call last):\n",
      "  File \"/home/harshv834/anaconda3/envs/ada/lib/python3.7/site-packages/torch/utils/data/dataloader.py\", line 962, in __del__\n",
      "  File \"/home/harshv834/anaconda3/envs/ada/lib/python3.7/site-packages/torch/utils/data/dataloader.py\", line 917, in _shutdown_workers\n",
      "    if not self._shutdown:\n",
      "    self._shutdown_workers()\n",
      "  File \"/home/harshv834/anaconda3/envs/ada/lib/python3.7/site-packages/torch/utils/data/dataloader.py\", line 917, in _shutdown_workers\n",
      "    if not self._shutdown:\n",
      "AttributeError: '_MultiProcessingDataLoaderIter' object has no attribute '_shutdown'\n",
      "AttributeError: '_MultiProcessingDataLoaderIter' object has no attribute '_shutdown'\n",
      "Exception ignored in: <function _MultiProcessingDataLoaderIter.__del__ at 0x7f45ed6782f0>\n",
      "Traceback (most recent call last):\n",
      "  File \"/home/harshv834/anaconda3/envs/ada/lib/python3.7/site-packages/torch/utils/data/dataloader.py\", line 962, in __del__\n",
      "    self._shutdown_workers()\n",
      "  File \"/home/harshv834/anaconda3/envs/ada/lib/python3.7/site-packages/torch/utils/data/dataloader.py\", line 917, in _shutdown_workers\n",
      "    if not self._shutdown:\n",
      "AttributeError: '_MultiProcessingDataLoaderIter' object has no attribute '_shutdown'\n",
      "Exception ignored in: <function _MultiProcessingDataLoaderIter.__del__ at 0x7f45ed6782f0>\n",
      "Traceback (most recent call last):\n",
      "  File \"/home/harshv834/anaconda3/envs/ada/lib/python3.7/site-packages/torch/utils/data/dataloader.py\", line 962, in __del__\n",
      "    self._shutdown_workers()\n",
      "  File \"/home/harshv834/anaconda3/envs/ada/lib/python3.7/site-packages/torch/utils/data/dataloader.py\", line 917, in _shutdown_workers\n",
      "    if not self._shutdown:\n",
      "AttributeError: '_MultiProcessingDataLoaderIter' object has no attribute '_shutdown'\n",
      "\n",
      "\n",
      "\n",
      "\n",
      " 78%|███████▊  | 157/200 [01:38<00:32,  1.32it/s]\u001b[A\u001b[A\u001b[A\u001b[A"
     ]
    },
    {
     "name": "stdout",
     "output_type": "stream",
     "text": [
      "Epoch : 156  ,   Train Accuracy : 55.10  , Validation Accuracy : 52.60 , Training Loss : 0.022181\n"
     ]
    },
    {
     "name": "stderr",
     "output_type": "stream",
     "text": [
      "Exception ignored in: <function _MultiProcessingDataLoaderIter.__del__ at 0x7f45ed6782f0>\n",
      "Traceback (most recent call last):\n",
      "  File \"/home/harshv834/anaconda3/envs/ada/lib/python3.7/site-packages/torch/utils/data/dataloader.py\", line 962, in __del__\n",
      "    self._shutdown_workers()\n",
      "  File \"/home/harshv834/anaconda3/envs/ada/lib/python3.7/site-packages/torch/utils/data/dataloader.py\", line 917, in _shutdown_workers\n",
      "    if not self._shutdown:\n",
      "AttributeError: '_MultiProcessingDataLoaderIter' object has no attribute '_shutdown'\n",
      "Exception ignored in: <function _MultiProcessingDataLoaderIter.__del__ at 0x7f45ed6782f0>\n",
      "Traceback (most recent call last):\n",
      "  File \"/home/harshv834/anaconda3/envs/ada/lib/python3.7/site-packages/torch/utils/data/dataloader.py\", line 962, in __del__\n",
      "    self._shutdown_workers()\n",
      "  File \"/home/harshv834/anaconda3/envs/ada/lib/python3.7/site-packages/torch/utils/data/dataloader.py\", line 917, in _shutdown_workers\n",
      "    if not self._shutdown:\n",
      "AttributeError: '_MultiProcessingDataLoaderIter' object has no attribute '_shutdown'\n",
      "Exception ignored in: <function _MultiProcessingDataLoaderIter.__del__ at 0x7f45ed6782f0>\n",
      "Traceback (most recent call last):\n",
      "  File \"/home/harshv834/anaconda3/envs/ada/lib/python3.7/site-packages/torch/utils/data/dataloader.py\", line 962, in __del__\n",
      "    self._shutdown_workers()\n",
      "  File \"/home/harshv834/anaconda3/envs/ada/lib/python3.7/site-packages/torch/utils/data/dataloader.py\", line 917, in _shutdown_workers\n",
      "    if not self._shutdown:\n",
      "AttributeError: '_MultiProcessingDataLoaderIter' object has no attribute '_shutdown'\n",
      "Exception ignored in: <function _MultiProcessingDataLoaderIter.__del__ at 0x7f45ed6782f0>\n",
      "Traceback (most recent call last):\n",
      "  File \"/home/harshv834/anaconda3/envs/ada/lib/python3.7/site-packages/torch/utils/data/dataloader.py\", line 962, in __del__\n",
      "    self._shutdown_workers()\n",
      "  File \"/home/harshv834/anaconda3/envs/ada/lib/python3.7/site-packages/torch/utils/data/dataloader.py\", line 917, in _shutdown_workers\n",
      "    if not self._shutdown:\n",
      "AttributeError: '_MultiProcessingDataLoaderIter' object has no attribute '_shutdown'\n",
      "Exception ignored in: <function _MultiProcessingDataLoaderIter.__del__ at 0x7f45ed6782f0>\n",
      "Traceback (most recent call last):\n",
      "Exception ignored in: <function _MultiProcessingDataLoaderIter.__del__ at 0x7f45ed6782f0>\n",
      "Traceback (most recent call last):\n",
      "  File \"/home/harshv834/anaconda3/envs/ada/lib/python3.7/site-packages/torch/utils/data/dataloader.py\", line 962, in __del__\n",
      "    self._shutdown_workers()\n",
      "  File \"/home/harshv834/anaconda3/envs/ada/lib/python3.7/site-packages/torch/utils/data/dataloader.py\", line 962, in __del__\n",
      "  File \"/home/harshv834/anaconda3/envs/ada/lib/python3.7/site-packages/torch/utils/data/dataloader.py\", line 917, in _shutdown_workers\n",
      "    self._shutdown_workers()\n",
      "  File \"/home/harshv834/anaconda3/envs/ada/lib/python3.7/site-packages/torch/utils/data/dataloader.py\", line 917, in _shutdown_workers\n",
      "    if not self._shutdown:\n",
      "    if not self._shutdown:\n",
      "AttributeError: '_MultiProcessingDataLoaderIter' object has no attribute '_shutdown'\n",
      "AttributeError: '_MultiProcessingDataLoaderIter' object has no attribute '_shutdown'\n",
      "\n",
      "\n",
      "\n",
      "\n",
      " 79%|███████▉  | 158/200 [01:39<00:35,  1.18it/s]\u001b[A\u001b[A\u001b[A\u001b[A"
     ]
    },
    {
     "name": "stdout",
     "output_type": "stream",
     "text": [
      "Epoch : 157  ,   Train Accuracy : 55.10  , Validation Accuracy : 52.60 , Training Loss : 0.022181\n"
     ]
    },
    {
     "name": "stderr",
     "output_type": "stream",
     "text": [
      "Exception ignored in: <function _MultiProcessingDataLoaderIter.__del__ at 0x7f45ed6782f0>\n",
      "Traceback (most recent call last):\n",
      "  File \"/home/harshv834/anaconda3/envs/ada/lib/python3.7/site-packages/torch/utils/data/dataloader.py\", line 962, in __del__\n",
      "    self._shutdown_workers()\n",
      "  File \"/home/harshv834/anaconda3/envs/ada/lib/python3.7/site-packages/torch/utils/data/dataloader.py\", line 917, in _shutdown_workers\n",
      "    if not self._shutdown:\n",
      "AttributeError: '_MultiProcessingDataLoaderIter' object has no attribute '_shutdown'\n",
      "Exception ignored in: <function _MultiProcessingDataLoaderIter.__del__ at 0x7f45ed6782f0>\n",
      "Traceback (most recent call last):\n",
      "  File \"/home/harshv834/anaconda3/envs/ada/lib/python3.7/site-packages/torch/utils/data/dataloader.py\", line 962, in __del__\n",
      "Exception ignored in: <function _MultiProcessingDataLoaderIter.__del__ at 0x7f45ed6782f0>\n",
      "Traceback (most recent call last):\n",
      "  File \"/home/harshv834/anaconda3/envs/ada/lib/python3.7/site-packages/torch/utils/data/dataloader.py\", line 962, in __del__\n",
      "  File \"/home/harshv834/anaconda3/envs/ada/lib/python3.7/site-packages/torch/utils/data/dataloader.py\", line 917, in _shutdown_workers\n",
      "    self._shutdown_workers()\n",
      "    if not self._shutdown:\n",
      "    self._shutdown_workers()\n",
      "AttributeError: '_MultiProcessingDataLoaderIter' object has no attribute '_shutdown'\n",
      "  File \"/home/harshv834/anaconda3/envs/ada/lib/python3.7/site-packages/torch/utils/data/dataloader.py\", line 917, in _shutdown_workers\n",
      "    if not self._shutdown:\n",
      "AttributeError: '_MultiProcessingDataLoaderIter' object has no attribute '_shutdown'\n",
      "Exception ignored in: <function _MultiProcessingDataLoaderIter.__del__ at 0x7f45ed6782f0>\n",
      "Traceback (most recent call last):\n",
      "  File \"/home/harshv834/anaconda3/envs/ada/lib/python3.7/site-packages/torch/utils/data/dataloader.py\", line 962, in __del__\n",
      "    self._shutdown_workers()\n",
      "  File \"/home/harshv834/anaconda3/envs/ada/lib/python3.7/site-packages/torch/utils/data/dataloader.py\", line 917, in _shutdown_workers\n",
      "    if not self._shutdown:\n",
      "AttributeError: '_MultiProcessingDataLoaderIter' object has no attribute '_shutdown'\n",
      "Exception ignored in: <function _MultiProcessingDataLoaderIter.__del__ at 0x7f45ed6782f0>\n",
      "Traceback (most recent call last):\n",
      "  File \"/home/harshv834/anaconda3/envs/ada/lib/python3.7/site-packages/torch/utils/data/dataloader.py\", line 962, in __del__\n",
      "    self._shutdown_workers()\n",
      "  File \"/home/harshv834/anaconda3/envs/ada/lib/python3.7/site-packages/torch/utils/data/dataloader.py\", line 917, in _shutdown_workers\n",
      "    if not self._shutdown:\n",
      "AttributeError: '_MultiProcessingDataLoaderIter' object has no attribute '_shutdown'\n",
      "Exception ignored in: <function _MultiProcessingDataLoaderIter.__del__ at 0x7f45ed6782f0>\n",
      "Exception ignored in: <function _MultiProcessingDataLoaderIter.__del__ at 0x7f45ed6782f0>\n",
      "Traceback (most recent call last):\n",
      "Traceback (most recent call last):\n",
      "  File \"/home/harshv834/anaconda3/envs/ada/lib/python3.7/site-packages/torch/utils/data/dataloader.py\", line 962, in __del__\n",
      "  File \"/home/harshv834/anaconda3/envs/ada/lib/python3.7/site-packages/torch/utils/data/dataloader.py\", line 962, in __del__\n",
      "    self._shutdown_workers()\n",
      "    self._shutdown_workers()\n",
      "  File \"/home/harshv834/anaconda3/envs/ada/lib/python3.7/site-packages/torch/utils/data/dataloader.py\", line 917, in _shutdown_workers\n",
      "    if not self._shutdown:\n",
      "  File \"/home/harshv834/anaconda3/envs/ada/lib/python3.7/site-packages/torch/utils/data/dataloader.py\", line 917, in _shutdown_workers\n",
      "    if not self._shutdown:\n",
      "AttributeError: '_MultiProcessingDataLoaderIter' object has no attribute '_shutdown'\n",
      "AttributeError: '_MultiProcessingDataLoaderIter' object has no attribute '_shutdown'\n",
      "\n",
      "\n",
      "\n",
      "\n",
      " 80%|███████▉  | 159/200 [01:40<00:34,  1.19it/s]\u001b[A\u001b[A\u001b[A\u001b[A"
     ]
    },
    {
     "name": "stdout",
     "output_type": "stream",
     "text": [
      "Epoch : 158  ,   Train Accuracy : 55.10  , Validation Accuracy : 52.60 , Training Loss : 0.022181\n"
     ]
    },
    {
     "name": "stderr",
     "output_type": "stream",
     "text": [
      "Exception ignored in: <function _MultiProcessingDataLoaderIter.__del__ at 0x7f45ed6782f0>\n",
      "Traceback (most recent call last):\n",
      "  File \"/home/harshv834/anaconda3/envs/ada/lib/python3.7/site-packages/torch/utils/data/dataloader.py\", line 962, in __del__\n",
      "    self._shutdown_workers()\n",
      "  File \"/home/harshv834/anaconda3/envs/ada/lib/python3.7/site-packages/torch/utils/data/dataloader.py\", line 917, in _shutdown_workers\n",
      "    if not self._shutdown:\n",
      "AttributeError: '_MultiProcessingDataLoaderIter' object has no attribute '_shutdown'\n",
      "Exception ignored in: <function _MultiProcessingDataLoaderIter.__del__ at 0x7f45ed6782f0>\n",
      "Traceback (most recent call last):\n",
      "  File \"/home/harshv834/anaconda3/envs/ada/lib/python3.7/site-packages/torch/utils/data/dataloader.py\", line 962, in __del__\n",
      "    self._shutdown_workers()\n",
      "  File \"/home/harshv834/anaconda3/envs/ada/lib/python3.7/site-packages/torch/utils/data/dataloader.py\", line 917, in _shutdown_workers\n",
      "    if not self._shutdown:\n",
      "AttributeError: '_MultiProcessingDataLoaderIter' object has no attribute '_shutdown'\n",
      "Exception ignored in: <function _MultiProcessingDataLoaderIter.__del__ at 0x7f45ed6782f0>\n",
      "Traceback (most recent call last):\n",
      "  File \"/home/harshv834/anaconda3/envs/ada/lib/python3.7/site-packages/torch/utils/data/dataloader.py\", line 962, in __del__\n",
      "    self._shutdown_workers()\n",
      "  File \"/home/harshv834/anaconda3/envs/ada/lib/python3.7/site-packages/torch/utils/data/dataloader.py\", line 917, in _shutdown_workers\n",
      "    if not self._shutdown:\n",
      "AttributeError: '_MultiProcessingDataLoaderIter' object has no attribute '_shutdown'\n",
      "Exception ignored in: <function _MultiProcessingDataLoaderIter.__del__ at 0x7f45ed6782f0>\n",
      "Traceback (most recent call last):\n",
      "    self._shutdown_workers()\n",
      "  File \"/home/harshv834/anaconda3/envs/ada/lib/python3.7/site-packages/torch/utils/data/dataloader.py\", line 962, in __del__\n",
      "  File \"/home/harshv834/anaconda3/envs/ada/lib/python3.7/site-packages/torch/utils/data/dataloader.py\", line 917, in _shutdown_workers\n",
      "    if not self._shutdown:\n",
      "AttributeError: '_MultiProcessingDataLoaderIter' object has no attribute '_shutdown'\n",
      "Exception ignored in: <function _MultiProcessingDataLoaderIter.__del__ at 0x7f45ed6782f0>\n",
      "Traceback (most recent call last):\n",
      "  File \"/home/harshv834/anaconda3/envs/ada/lib/python3.7/site-packages/torch/utils/data/dataloader.py\", line 962, in __del__\n",
      "    self._shutdown_workers()\n",
      "  File \"/home/harshv834/anaconda3/envs/ada/lib/python3.7/site-packages/torch/utils/data/dataloader.py\", line 917, in _shutdown_workers\n",
      "    if not self._shutdown:\n",
      "AttributeError: '_MultiProcessingDataLoaderIter' object has no attribute '_shutdown'\n",
      "Exception ignored in: <function _MultiProcessingDataLoaderIter.__del__ at 0x7f45ed6782f0>\n",
      "Traceback (most recent call last):\n",
      "  File \"/home/harshv834/anaconda3/envs/ada/lib/python3.7/site-packages/torch/utils/data/dataloader.py\", line 962, in __del__\n",
      "    self._shutdown_workers()\n",
      "  File \"/home/harshv834/anaconda3/envs/ada/lib/python3.7/site-packages/torch/utils/data/dataloader.py\", line 917, in _shutdown_workers\n",
      "    if not self._shutdown:\n",
      "Exception ignored in: <function _MultiProcessingDataLoaderIter.__del__ at 0x7f45ed6782f0>\n",
      "AttributeError: '_MultiProcessingDataLoaderIter' object has no attribute '_shutdown'\n",
      "Traceback (most recent call last):\n",
      "  File \"/home/harshv834/anaconda3/envs/ada/lib/python3.7/site-packages/torch/utils/data/dataloader.py\", line 962, in __del__\n",
      "    self._shutdown_workers()\n",
      "  File \"/home/harshv834/anaconda3/envs/ada/lib/python3.7/site-packages/torch/utils/data/dataloader.py\", line 917, in _shutdown_workers\n",
      "    if not self._shutdown:\n",
      "AttributeError: '_MultiProcessingDataLoaderIter' object has no attribute '_shutdown'\n",
      "\n",
      "\n",
      "\n",
      "\n",
      " 80%|████████  | 160/200 [01:40<00:32,  1.23it/s]\u001b[A\u001b[A\u001b[A\u001b[A"
     ]
    },
    {
     "name": "stdout",
     "output_type": "stream",
     "text": [
      "Epoch : 159  ,   Train Accuracy : 55.10  , Validation Accuracy : 52.60 , Training Loss : 0.022181\n"
     ]
    },
    {
     "name": "stderr",
     "output_type": "stream",
     "text": [
      "Exception ignored in: <function _MultiProcessingDataLoaderIter.__del__ at 0x7f45ed6782f0>\n",
      "Exception ignored in: <function _MultiProcessingDataLoaderIter.__del__ at 0x7f45ed6782f0>\n",
      "Traceback (most recent call last):\n",
      "Traceback (most recent call last):\n",
      "  File \"/home/harshv834/anaconda3/envs/ada/lib/python3.7/site-packages/torch/utils/data/dataloader.py\", line 962, in __del__\n",
      "    self._shutdown_workers()\n",
      "  File \"/home/harshv834/anaconda3/envs/ada/lib/python3.7/site-packages/torch/utils/data/dataloader.py\", line 917, in _shutdown_workers\n",
      "  File \"/home/harshv834/anaconda3/envs/ada/lib/python3.7/site-packages/torch/utils/data/dataloader.py\", line 962, in __del__\n",
      "    if not self._shutdown:\n",
      "AttributeError: '_MultiProcessingDataLoaderIter' object has no attribute '_shutdown'\n",
      "    self._shutdown_workers()\n",
      "Exception ignored in: <function _MultiProcessingDataLoaderIter.__del__ at 0x7f45ed6782f0>\n",
      "  File \"/home/harshv834/anaconda3/envs/ada/lib/python3.7/site-packages/torch/utils/data/dataloader.py\", line 917, in _shutdown_workers\n",
      "Traceback (most recent call last):\n",
      "  File \"/home/harshv834/anaconda3/envs/ada/lib/python3.7/site-packages/torch/utils/data/dataloader.py\", line 962, in __del__\n",
      "    self._shutdown_workers()\n",
      "  File \"/home/harshv834/anaconda3/envs/ada/lib/python3.7/site-packages/torch/utils/data/dataloader.py\", line 917, in _shutdown_workers\n",
      "    if not self._shutdown:\n",
      "AttributeError: '_MultiProcessingDataLoaderIter' object has no attribute '_shutdown'\n",
      "    if not self._shutdown:\n",
      "AttributeError: '_MultiProcessingDataLoaderIter' object has no attribute '_shutdown'\n",
      "Exception ignored in: <function _MultiProcessingDataLoaderIter.__del__ at 0x7f45ed6782f0>\n",
      "Exception ignored in: <function _MultiProcessingDataLoaderIter.__del__ at 0x7f45ed6782f0>\n",
      "Traceback (most recent call last):\n",
      "Traceback (most recent call last):\n",
      "  File \"/home/harshv834/anaconda3/envs/ada/lib/python3.7/site-packages/torch/utils/data/dataloader.py\", line 962, in __del__\n",
      "  File \"/home/harshv834/anaconda3/envs/ada/lib/python3.7/site-packages/torch/utils/data/dataloader.py\", line 962, in __del__\n",
      "    self._shutdown_workers()\n",
      "    self._shutdown_workers()\n",
      "  File \"/home/harshv834/anaconda3/envs/ada/lib/python3.7/site-packages/torch/utils/data/dataloader.py\", line 917, in _shutdown_workers\n",
      "    if not self._shutdown:\n",
      "  File \"/home/harshv834/anaconda3/envs/ada/lib/python3.7/site-packages/torch/utils/data/dataloader.py\", line 917, in _shutdown_workers\n",
      "    if not self._shutdown:\n",
      "AttributeError: '_MultiProcessingDataLoaderIter' object has no attribute '_shutdown'\n",
      "AttributeError: '_MultiProcessingDataLoaderIter' object has no attribute '_shutdown'\n",
      "Exception ignored in: <function _MultiProcessingDataLoaderIter.__del__ at 0x7f45ed6782f0>\n",
      "Traceback (most recent call last):\n",
      "  File \"/home/harshv834/anaconda3/envs/ada/lib/python3.7/site-packages/torch/utils/data/dataloader.py\", line 962, in __del__\n",
      "    self._shutdown_workers()\n",
      "  File \"/home/harshv834/anaconda3/envs/ada/lib/python3.7/site-packages/torch/utils/data/dataloader.py\", line 917, in _shutdown_workers\n",
      "    if not self._shutdown:\n",
      "AttributeError: '_MultiProcessingDataLoaderIter' object has no attribute '_shutdown'\n",
      "Exception ignored in: <function _MultiProcessingDataLoaderIter.__del__ at 0x7f45ed6782f0>\n",
      "Traceback (most recent call last):\n",
      "    self._shutdown_workers()\n",
      "  File \"/home/harshv834/anaconda3/envs/ada/lib/python3.7/site-packages/torch/utils/data/dataloader.py\", line 962, in __del__\n",
      "  File \"/home/harshv834/anaconda3/envs/ada/lib/python3.7/site-packages/torch/utils/data/dataloader.py\", line 917, in _shutdown_workers\n",
      "    if not self._shutdown:\n",
      "AttributeError: '_MultiProcessingDataLoaderIter' object has no attribute '_shutdown'\n",
      "Exception ignored in: <function _MultiProcessingDataLoaderIter.__del__ at 0x7f45ed6782f0>\n",
      "Traceback (most recent call last):\n",
      "  File \"/home/harshv834/anaconda3/envs/ada/lib/python3.7/site-packages/torch/utils/data/dataloader.py\", line 962, in __del__\n",
      "    self._shutdown_workers()\n",
      "  File \"/home/harshv834/anaconda3/envs/ada/lib/python3.7/site-packages/torch/utils/data/dataloader.py\", line 917, in _shutdown_workers\n",
      "    if not self._shutdown:\n",
      "AttributeError: '_MultiProcessingDataLoaderIter' object has no attribute '_shutdown'\n",
      "\n",
      "\n",
      "\n",
      "\n",
      " 80%|████████  | 161/200 [01:41<00:31,  1.23it/s]\u001b[A\u001b[A\u001b[A\u001b[A"
     ]
    },
    {
     "name": "stdout",
     "output_type": "stream",
     "text": [
      "Epoch : 160  ,   Train Accuracy : 55.10  , Validation Accuracy : 52.60 , Training Loss : 0.022181\n"
     ]
    },
    {
     "name": "stderr",
     "output_type": "stream",
     "text": [
      "Exception ignored in: <function _MultiProcessingDataLoaderIter.__del__ at 0x7f45ed6782f0>\n",
      "Traceback (most recent call last):\n",
      "  File \"/home/harshv834/anaconda3/envs/ada/lib/python3.7/site-packages/torch/utils/data/dataloader.py\", line 962, in __del__\n",
      "Exception ignored in: <function _MultiProcessingDataLoaderIter.__del__ at 0x7f45ed6782f0>\n",
      "    self._shutdown_workers()\n",
      "  File \"/home/harshv834/anaconda3/envs/ada/lib/python3.7/site-packages/torch/utils/data/dataloader.py\", line 917, in _shutdown_workers\n",
      "Traceback (most recent call last):\n",
      "    if not self._shutdown:\n",
      "AttributeError: '_MultiProcessingDataLoaderIter' object has no attribute '_shutdown'\n",
      "  File \"/home/harshv834/anaconda3/envs/ada/lib/python3.7/site-packages/torch/utils/data/dataloader.py\", line 962, in __del__\n",
      "    self._shutdown_workers()\n",
      "Exception ignored in: <function _MultiProcessingDataLoaderIter.__del__ at 0x7f45ed6782f0>\n",
      "  File \"/home/harshv834/anaconda3/envs/ada/lib/python3.7/site-packages/torch/utils/data/dataloader.py\", line 917, in _shutdown_workers\n",
      "Traceback (most recent call last):\n",
      "    if not self._shutdown:\n",
      "AttributeError: '_MultiProcessingDataLoaderIter' object has no attribute '_shutdown'\n",
      "  File \"/home/harshv834/anaconda3/envs/ada/lib/python3.7/site-packages/torch/utils/data/dataloader.py\", line 962, in __del__\n",
      "    self._shutdown_workers()\n",
      "  File \"/home/harshv834/anaconda3/envs/ada/lib/python3.7/site-packages/torch/utils/data/dataloader.py\", line 917, in _shutdown_workers\n",
      "    if not self._shutdown:\n",
      "AttributeError: '_MultiProcessingDataLoaderIter' object has no attribute '_shutdown'\n",
      "Exception ignored in: <function _MultiProcessingDataLoaderIter.__del__ at 0x7f45ed6782f0>\n",
      "Exception ignored in: <function _MultiProcessingDataLoaderIter.__del__ at 0x7f45ed6782f0>\n",
      "Traceback (most recent call last):\n",
      "Traceback (most recent call last):\n",
      "  File \"/home/harshv834/anaconda3/envs/ada/lib/python3.7/site-packages/torch/utils/data/dataloader.py\", line 962, in __del__\n",
      "Exception ignored in: <function _MultiProcessingDataLoaderIter.__del__ at 0x7f45ed6782f0>\n",
      "  File \"/home/harshv834/anaconda3/envs/ada/lib/python3.7/site-packages/torch/utils/data/dataloader.py\", line 962, in __del__\n",
      "Traceback (most recent call last):\n",
      "    self._shutdown_workers()\n",
      "    self._shutdown_workers()\n",
      "  File \"/home/harshv834/anaconda3/envs/ada/lib/python3.7/site-packages/torch/utils/data/dataloader.py\", line 917, in _shutdown_workers\n",
      "  File \"/home/harshv834/anaconda3/envs/ada/lib/python3.7/site-packages/torch/utils/data/dataloader.py\", line 917, in _shutdown_workers\n",
      "  File \"/home/harshv834/anaconda3/envs/ada/lib/python3.7/site-packages/torch/utils/data/dataloader.py\", line 962, in __del__\n",
      "    if not self._shutdown:\n",
      "    self._shutdown_workers()\n",
      "    if not self._shutdown:\n",
      "AttributeError: '_MultiProcessingDataLoaderIter' object has no attribute '_shutdown'\n",
      "  File \"/home/harshv834/anaconda3/envs/ada/lib/python3.7/site-packages/torch/utils/data/dataloader.py\", line 917, in _shutdown_workers\n",
      "AttributeError: '_MultiProcessingDataLoaderIter' object has no attribute '_shutdown'\n",
      "    if not self._shutdown:\n",
      "AttributeError: '_MultiProcessingDataLoaderIter' object has no attribute '_shutdown'\n",
      "Exception ignored in: <function _MultiProcessingDataLoaderIter.__del__ at 0x7f45ed6782f0>\n",
      "Exception ignored in: <function _MultiProcessingDataLoaderIter.__del__ at 0x7f45ed6782f0>\n",
      "Traceback (most recent call last):\n",
      "  File \"/home/harshv834/anaconda3/envs/ada/lib/python3.7/site-packages/torch/utils/data/dataloader.py\", line 962, in __del__\n",
      "Traceback (most recent call last):\n",
      "    self._shutdown_workers()\n",
      "  File \"/home/harshv834/anaconda3/envs/ada/lib/python3.7/site-packages/torch/utils/data/dataloader.py\", line 917, in _shutdown_workers\n",
      "  File \"/home/harshv834/anaconda3/envs/ada/lib/python3.7/site-packages/torch/utils/data/dataloader.py\", line 962, in __del__\n",
      "    self._shutdown_workers()\n",
      "    if not self._shutdown:\n",
      "Exception ignored in: <function _MultiProcessingDataLoaderIter.__del__ at 0x7f45ed6782f0>\n",
      "AttributeError: '_MultiProcessingDataLoaderIter' object has no attribute '_shutdown'\n",
      "  File \"/home/harshv834/anaconda3/envs/ada/lib/python3.7/site-packages/torch/utils/data/dataloader.py\", line 917, in _shutdown_workers\n",
      "    if not self._shutdown:\n",
      "Traceback (most recent call last):\n",
      "AttributeError: '_MultiProcessingDataLoaderIter' object has no attribute '_shutdown'\n",
      "  File \"/home/harshv834/anaconda3/envs/ada/lib/python3.7/site-packages/torch/utils/data/dataloader.py\", line 962, in __del__\n",
      "    self._shutdown_workers()\n",
      "  File \"/home/harshv834/anaconda3/envs/ada/lib/python3.7/site-packages/torch/utils/data/dataloader.py\", line 917, in _shutdown_workers\n",
      "    if not self._shutdown:\n",
      "AttributeError: '_MultiProcessingDataLoaderIter' object has no attribute '_shutdown'\n",
      "\n",
      "\n",
      "\n",
      "\n",
      " 81%|████████  | 162/200 [01:42<00:33,  1.12it/s]\u001b[A\u001b[A\u001b[A\u001b[A"
     ]
    },
    {
     "name": "stdout",
     "output_type": "stream",
     "text": [
      "Epoch : 161  ,   Train Accuracy : 55.10  , Validation Accuracy : 52.60 , Training Loss : 0.022181\n"
     ]
    },
    {
     "name": "stderr",
     "output_type": "stream",
     "text": [
      "Exception ignored in: <function _MultiProcessingDataLoaderIter.__del__ at 0x7f45ed6782f0>\n",
      "Exception ignored in: <function _MultiProcessingDataLoaderIter.__del__ at 0x7f45ed6782f0>\n",
      "Traceback (most recent call last):\n",
      "Traceback (most recent call last):\n",
      "  File \"/home/harshv834/anaconda3/envs/ada/lib/python3.7/site-packages/torch/utils/data/dataloader.py\", line 962, in __del__\n",
      "    self._shutdown_workers()\n",
      "  File \"/home/harshv834/anaconda3/envs/ada/lib/python3.7/site-packages/torch/utils/data/dataloader.py\", line 917, in _shutdown_workers\n",
      "  File \"/home/harshv834/anaconda3/envs/ada/lib/python3.7/site-packages/torch/utils/data/dataloader.py\", line 962, in __del__\n",
      "    self._shutdown_workers()\n",
      "  File \"/home/harshv834/anaconda3/envs/ada/lib/python3.7/site-packages/torch/utils/data/dataloader.py\", line 917, in _shutdown_workers\n",
      "    if not self._shutdown:\n",
      "Exception ignored in: <function _MultiProcessingDataLoaderIter.__del__ at 0x7f45ed6782f0>\n",
      "    if not self._shutdown:\n",
      "Traceback (most recent call last):\n",
      "AttributeError: '_MultiProcessingDataLoaderIter' object has no attribute '_shutdown'\n",
      "  File \"/home/harshv834/anaconda3/envs/ada/lib/python3.7/site-packages/torch/utils/data/dataloader.py\", line 962, in __del__\n",
      "AttributeError: '_MultiProcessingDataLoaderIter' object has no attribute '_shutdown'\n",
      "    self._shutdown_workers()\n",
      "  File \"/home/harshv834/anaconda3/envs/ada/lib/python3.7/site-packages/torch/utils/data/dataloader.py\", line 917, in _shutdown_workers\n",
      "    if not self._shutdown:\n",
      "AttributeError: '_MultiProcessingDataLoaderIter' object has no attribute '_shutdown'\n",
      "Exception ignored in: <function _MultiProcessingDataLoaderIter.__del__ at 0x7f45ed6782f0>\n",
      "Traceback (most recent call last):\n",
      "Exception ignored in: <function _MultiProcessingDataLoaderIter.__del__ at 0x7f45ed6782f0>\n",
      "  File \"/home/harshv834/anaconda3/envs/ada/lib/python3.7/site-packages/torch/utils/data/dataloader.py\", line 962, in __del__\n",
      "Traceback (most recent call last):\n",
      "    self._shutdown_workers()\n",
      "  File \"/home/harshv834/anaconda3/envs/ada/lib/python3.7/site-packages/torch/utils/data/dataloader.py\", line 962, in __del__\n",
      "  File \"/home/harshv834/anaconda3/envs/ada/lib/python3.7/site-packages/torch/utils/data/dataloader.py\", line 917, in _shutdown_workers\n",
      "    self._shutdown_workers()\n",
      "  File \"/home/harshv834/anaconda3/envs/ada/lib/python3.7/site-packages/torch/utils/data/dataloader.py\", line 917, in _shutdown_workers\n",
      "    if not self._shutdown:\n",
      "    if not self._shutdown:\n",
      "AttributeError: '_MultiProcessingDataLoaderIter' object has no attribute '_shutdown'\n",
      "AttributeError: '_MultiProcessingDataLoaderIter' object has no attribute '_shutdown'\n",
      "Exception ignored in: <function _MultiProcessingDataLoaderIter.__del__ at 0x7f45ed6782f0>\n",
      "Traceback (most recent call last):\n",
      "  File \"/home/harshv834/anaconda3/envs/ada/lib/python3.7/site-packages/torch/utils/data/dataloader.py\", line 962, in __del__\n",
      "    self._shutdown_workers()\n",
      "  File \"/home/harshv834/anaconda3/envs/ada/lib/python3.7/site-packages/torch/utils/data/dataloader.py\", line 917, in _shutdown_workers\n",
      "    if not self._shutdown:\n",
      "AttributeError: '_MultiProcessingDataLoaderIter' object has no attribute '_shutdown'\n",
      "Exception ignored in: <function _MultiProcessingDataLoaderIter.__del__ at 0x7f45ed6782f0>\n",
      "Traceback (most recent call last):\n",
      "Exception ignored in: <function _MultiProcessingDataLoaderIter.__del__ at 0x7f45ed6782f0>\n",
      "  File \"/home/harshv834/anaconda3/envs/ada/lib/python3.7/site-packages/torch/utils/data/dataloader.py\", line 962, in __del__\n",
      "Traceback (most recent call last):\n",
      "    self._shutdown_workers()\n",
      "Exception ignored in: <function _MultiProcessingDataLoaderIter.__del__ at 0x7f45ed6782f0>\n",
      "  File \"/home/harshv834/anaconda3/envs/ada/lib/python3.7/site-packages/torch/utils/data/dataloader.py\", line 962, in __del__\n",
      "Traceback (most recent call last):\n",
      "  File \"/home/harshv834/anaconda3/envs/ada/lib/python3.7/site-packages/torch/utils/data/dataloader.py\", line 917, in _shutdown_workers\n",
      "    if not self._shutdown:\n",
      "  File \"/home/harshv834/anaconda3/envs/ada/lib/python3.7/site-packages/torch/utils/data/dataloader.py\", line 962, in __del__\n",
      "AttributeError: '_MultiProcessingDataLoaderIter' object has no attribute '_shutdown'\n",
      "    self._shutdown_workers()\n",
      "    self._shutdown_workers()\n",
      "  File \"/home/harshv834/anaconda3/envs/ada/lib/python3.7/site-packages/torch/utils/data/dataloader.py\", line 917, in _shutdown_workers\n",
      "  File \"/home/harshv834/anaconda3/envs/ada/lib/python3.7/site-packages/torch/utils/data/dataloader.py\", line 917, in _shutdown_workers\n",
      "    if not self._shutdown:\n",
      "AttributeError: '_MultiProcessingDataLoaderIter' object has no attribute '_shutdown'\n",
      "    if not self._shutdown:\n",
      "AttributeError: '_MultiProcessingDataLoaderIter' object has no attribute '_shutdown'\n",
      "\n",
      "\n",
      "\n",
      "\n",
      " 82%|████████▏ | 163/200 [01:43<00:32,  1.13it/s]\u001b[A\u001b[A\u001b[A\u001b[A"
     ]
    },
    {
     "name": "stdout",
     "output_type": "stream",
     "text": [
      "Epoch : 162  ,   Train Accuracy : 55.10  , Validation Accuracy : 52.60 , Training Loss : 0.022181\n"
     ]
    },
    {
     "name": "stderr",
     "output_type": "stream",
     "text": [
      "Exception ignored in: <function _MultiProcessingDataLoaderIter.__del__ at 0x7f45ed6782f0>\n",
      "Exception ignored in: <function _MultiProcessingDataLoaderIter.__del__ at 0x7f45ed6782f0>\n",
      "Traceback (most recent call last):\n",
      "  File \"/home/harshv834/anaconda3/envs/ada/lib/python3.7/site-packages/torch/utils/data/dataloader.py\", line 962, in __del__\n",
      "    self._shutdown_workers()\n",
      "Exception ignored in: <function _MultiProcessingDataLoaderIter.__del__ at 0x7f45ed6782f0>\n",
      "Traceback (most recent call last):\n",
      "Traceback (most recent call last):\n",
      "  File \"/home/harshv834/anaconda3/envs/ada/lib/python3.7/site-packages/torch/utils/data/dataloader.py\", line 917, in _shutdown_workers\n",
      "  File \"/home/harshv834/anaconda3/envs/ada/lib/python3.7/site-packages/torch/utils/data/dataloader.py\", line 962, in __del__\n",
      "  File \"/home/harshv834/anaconda3/envs/ada/lib/python3.7/site-packages/torch/utils/data/dataloader.py\", line 962, in __del__\n",
      "    self._shutdown_workers()\n",
      "Exception ignored in: <function _MultiProcessingDataLoaderIter.__del__ at 0x7f45ed6782f0>\n",
      "    self._shutdown_workers()\n",
      "    if not self._shutdown:\n",
      "AttributeError: '_MultiProcessingDataLoaderIter' object has no attribute '_shutdown'\n",
      "  File \"/home/harshv834/anaconda3/envs/ada/lib/python3.7/site-packages/torch/utils/data/dataloader.py\", line 917, in _shutdown_workers\n",
      "  File \"/home/harshv834/anaconda3/envs/ada/lib/python3.7/site-packages/torch/utils/data/dataloader.py\", line 917, in _shutdown_workers\n",
      "Traceback (most recent call last):\n",
      "    if not self._shutdown:\n",
      "  File \"/home/harshv834/anaconda3/envs/ada/lib/python3.7/site-packages/torch/utils/data/dataloader.py\", line 962, in __del__\n",
      "AttributeError: '_MultiProcessingDataLoaderIter' object has no attribute '_shutdown'\n",
      "    if not self._shutdown:\n",
      "AttributeError: '_MultiProcessingDataLoaderIter' object has no attribute '_shutdown'\n",
      "    self._shutdown_workers()\n",
      "  File \"/home/harshv834/anaconda3/envs/ada/lib/python3.7/site-packages/torch/utils/data/dataloader.py\", line 917, in _shutdown_workers\n",
      "    if not self._shutdown:\n",
      "AttributeError: '_MultiProcessingDataLoaderIter' object has no attribute '_shutdown'\n",
      "Exception ignored in: <function _MultiProcessingDataLoaderIter.__del__ at 0x7f45ed6782f0>\n",
      "Exception ignored in: <function _MultiProcessingDataLoaderIter.__del__ at 0x7f45ed6782f0>\n",
      "Traceback (most recent call last):\n",
      "Traceback (most recent call last):\n",
      "  File \"/home/harshv834/anaconda3/envs/ada/lib/python3.7/site-packages/torch/utils/data/dataloader.py\", line 962, in __del__\n",
      "    self._shutdown_workers()\n",
      "  File \"/home/harshv834/anaconda3/envs/ada/lib/python3.7/site-packages/torch/utils/data/dataloader.py\", line 917, in _shutdown_workers\n",
      "  File \"/home/harshv834/anaconda3/envs/ada/lib/python3.7/site-packages/torch/utils/data/dataloader.py\", line 962, in __del__\n",
      "Exception ignored in: <function _MultiProcessingDataLoaderIter.__del__ at 0x7f45ed6782f0>\n",
      "Traceback (most recent call last):\n",
      "    if not self._shutdown:\n",
      "  File \"/home/harshv834/anaconda3/envs/ada/lib/python3.7/site-packages/torch/utils/data/dataloader.py\", line 962, in __del__\n",
      "AttributeError: '_MultiProcessingDataLoaderIter' object has no attribute '_shutdown'\n",
      "    self._shutdown_workers()\n",
      "  File \"/home/harshv834/anaconda3/envs/ada/lib/python3.7/site-packages/torch/utils/data/dataloader.py\", line 917, in _shutdown_workers\n",
      "    if not self._shutdown:\n",
      "    self._shutdown_workers()\n",
      "  File \"/home/harshv834/anaconda3/envs/ada/lib/python3.7/site-packages/torch/utils/data/dataloader.py\", line 917, in _shutdown_workers\n",
      "    if not self._shutdown:\n",
      "AttributeError: '_MultiProcessingDataLoaderIter' object has no attribute '_shutdown'\n",
      "AttributeError: '_MultiProcessingDataLoaderIter' object has no attribute '_shutdown'\n",
      "\n",
      "\n",
      "\n",
      "\n",
      " 82%|████████▏ | 164/200 [01:44<00:36,  1.01s/it]\u001b[A\u001b[A\u001b[A\u001b[A"
     ]
    },
    {
     "name": "stdout",
     "output_type": "stream",
     "text": [
      "Epoch : 163  ,   Train Accuracy : 55.10  , Validation Accuracy : 52.60 , Training Loss : 0.022181\n"
     ]
    },
    {
     "name": "stderr",
     "output_type": "stream",
     "text": [
      "\n",
      "\n",
      "\n",
      "\n",
      " 82%|████████▎ | 165/200 [01:45<00:33,  1.06it/s]\u001b[A\u001b[A\u001b[A\u001b[A"
     ]
    },
    {
     "name": "stdout",
     "output_type": "stream",
     "text": [
      "Epoch : 164  ,   Train Accuracy : 55.10  , Validation Accuracy : 52.60 , Training Loss : 0.022181\n"
     ]
    },
    {
     "name": "stderr",
     "output_type": "stream",
     "text": [
      "\n",
      "\n",
      "\n",
      "\n",
      " 83%|████████▎ | 166/200 [01:46<00:32,  1.05it/s]\u001b[A\u001b[A\u001b[A\u001b[A"
     ]
    },
    {
     "name": "stdout",
     "output_type": "stream",
     "text": [
      "Epoch : 165  ,   Train Accuracy : 55.10  , Validation Accuracy : 52.60 , Training Loss : 0.022181\n"
     ]
    },
    {
     "name": "stderr",
     "output_type": "stream",
     "text": [
      "\n",
      "\n",
      "\n",
      "\n",
      " 84%|████████▎ | 167/200 [01:47<00:31,  1.06it/s]\u001b[A\u001b[A\u001b[A\u001b[A"
     ]
    },
    {
     "name": "stdout",
     "output_type": "stream",
     "text": [
      "Epoch : 166  ,   Train Accuracy : 55.10  , Validation Accuracy : 52.60 , Training Loss : 0.022181\n"
     ]
    },
    {
     "name": "stderr",
     "output_type": "stream",
     "text": [
      "\n",
      "\n",
      "\n",
      "\n",
      " 84%|████████▍ | 168/200 [01:48<00:29,  1.10it/s]\u001b[A\u001b[A\u001b[A\u001b[A"
     ]
    },
    {
     "name": "stdout",
     "output_type": "stream",
     "text": [
      "Epoch : 167  ,   Train Accuracy : 55.10  , Validation Accuracy : 52.60 , Training Loss : 0.022181\n"
     ]
    },
    {
     "name": "stderr",
     "output_type": "stream",
     "text": [
      "\n",
      "\n",
      "\n",
      "\n",
      " 84%|████████▍ | 169/200 [01:49<00:24,  1.24it/s]\u001b[A\u001b[A\u001b[A\u001b[A"
     ]
    },
    {
     "name": "stdout",
     "output_type": "stream",
     "text": [
      "Epoch : 168  ,   Train Accuracy : 55.10  , Validation Accuracy : 52.60 , Training Loss : 0.022181\n"
     ]
    },
    {
     "name": "stderr",
     "output_type": "stream",
     "text": [
      "\n",
      "\n",
      "\n",
      "\n",
      " 85%|████████▌ | 170/200 [01:49<00:21,  1.37it/s]\u001b[A\u001b[A\u001b[A\u001b[A"
     ]
    },
    {
     "name": "stdout",
     "output_type": "stream",
     "text": [
      "Epoch : 169  ,   Train Accuracy : 55.10  , Validation Accuracy : 52.60 , Training Loss : 0.022181\n"
     ]
    },
    {
     "name": "stderr",
     "output_type": "stream",
     "text": [
      "Exception ignored in: <function _MultiProcessingDataLoaderIter.__del__ at 0x7f45ed6782f0>\n",
      "Traceback (most recent call last):\n",
      "  File \"/home/harshv834/anaconda3/envs/ada/lib/python3.7/site-packages/torch/utils/data/dataloader.py\", line 962, in __del__\n",
      "    self._shutdown_workers()\n",
      "  File \"/home/harshv834/anaconda3/envs/ada/lib/python3.7/site-packages/torch/utils/data/dataloader.py\", line 917, in _shutdown_workers\n",
      "    if not self._shutdown:\n",
      "AttributeError: '_MultiProcessingDataLoaderIter' object has no attribute '_shutdown'\n",
      "\n",
      "\n",
      "\n",
      "\n",
      " 86%|████████▌ | 171/200 [01:50<00:20,  1.43it/s]\u001b[A\u001b[A\u001b[A\u001b[A"
     ]
    },
    {
     "name": "stdout",
     "output_type": "stream",
     "text": [
      "Epoch : 170  ,   Train Accuracy : 55.10  , Validation Accuracy : 52.60 , Training Loss : 0.022181\n"
     ]
    },
    {
     "name": "stderr",
     "output_type": "stream",
     "text": [
      "Exception ignored in: <function _MultiProcessingDataLoaderIter.__del__ at 0x7f45ed6782f0>\n",
      "Traceback (most recent call last):\n",
      "  File \"/home/harshv834/anaconda3/envs/ada/lib/python3.7/site-packages/torch/utils/data/dataloader.py\", line 962, in __del__\n",
      "    self._shutdown_workers()\n",
      "  File \"/home/harshv834/anaconda3/envs/ada/lib/python3.7/site-packages/torch/utils/data/dataloader.py\", line 917, in _shutdown_workers\n",
      "    if not self._shutdown:\n",
      "AttributeError: '_MultiProcessingDataLoaderIter' object has no attribute '_shutdown'\n",
      "\n",
      "\n",
      "\n",
      "\n",
      " 86%|████████▌ | 172/200 [01:51<00:20,  1.35it/s]\u001b[A\u001b[A\u001b[A\u001b[A"
     ]
    },
    {
     "name": "stdout",
     "output_type": "stream",
     "text": [
      "Epoch : 171  ,   Train Accuracy : 55.10  , Validation Accuracy : 52.60 , Training Loss : 0.022181\n"
     ]
    },
    {
     "name": "stderr",
     "output_type": "stream",
     "text": [
      "Exception ignored in: <function _MultiProcessingDataLoaderIter.__del__ at 0x7f45ed6782f0>\n",
      "Traceback (most recent call last):\n",
      "  File \"/home/harshv834/anaconda3/envs/ada/lib/python3.7/site-packages/torch/utils/data/dataloader.py\", line 962, in __del__\n",
      "    self._shutdown_workers()\n",
      "  File \"/home/harshv834/anaconda3/envs/ada/lib/python3.7/site-packages/torch/utils/data/dataloader.py\", line 917, in _shutdown_workers\n",
      "    if not self._shutdown:\n",
      "AttributeError: '_MultiProcessingDataLoaderIter' object has no attribute '_shutdown'\n",
      "\n",
      "\n",
      "\n",
      "\n",
      " 86%|████████▋ | 173/200 [01:51<00:20,  1.30it/s]\u001b[A\u001b[A\u001b[A\u001b[A"
     ]
    },
    {
     "name": "stdout",
     "output_type": "stream",
     "text": [
      "Epoch : 172  ,   Train Accuracy : 55.10  , Validation Accuracy : 52.60 , Training Loss : 0.022181\n"
     ]
    },
    {
     "name": "stderr",
     "output_type": "stream",
     "text": [
      "Exception ignored in: <function _MultiProcessingDataLoaderIter.__del__ at 0x7f45ed6782f0>\n",
      "Traceback (most recent call last):\n",
      "  File \"/home/harshv834/anaconda3/envs/ada/lib/python3.7/site-packages/torch/utils/data/dataloader.py\", line 962, in __del__\n",
      "    self._shutdown_workers()\n",
      "  File \"/home/harshv834/anaconda3/envs/ada/lib/python3.7/site-packages/torch/utils/data/dataloader.py\", line 917, in _shutdown_workers\n",
      "    if not self._shutdown:\n",
      "AttributeError: '_MultiProcessingDataLoaderIter' object has no attribute '_shutdown'\n",
      "Exception ignored in: <function _MultiProcessingDataLoaderIter.__del__ at 0x7f45ed6782f0>\n",
      "Traceback (most recent call last):\n",
      "  File \"/home/harshv834/anaconda3/envs/ada/lib/python3.7/site-packages/torch/utils/data/dataloader.py\", line 962, in __del__\n",
      "    self._shutdown_workers()\n",
      "  File \"/home/harshv834/anaconda3/envs/ada/lib/python3.7/site-packages/torch/utils/data/dataloader.py\", line 917, in _shutdown_workers\n",
      "    if not self._shutdown:\n",
      "AttributeError: '_MultiProcessingDataLoaderIter' object has no attribute '_shutdown'\n",
      "\n",
      "\n",
      "\n",
      "\n",
      " 87%|████████▋ | 174/200 [01:52<00:20,  1.27it/s]\u001b[A\u001b[A\u001b[A\u001b[A"
     ]
    },
    {
     "name": "stdout",
     "output_type": "stream",
     "text": [
      "Epoch : 173  ,   Train Accuracy : 55.10  , Validation Accuracy : 52.60 , Training Loss : 0.022181\n"
     ]
    },
    {
     "name": "stderr",
     "output_type": "stream",
     "text": [
      "Exception ignored in: <function _MultiProcessingDataLoaderIter.__del__ at 0x7f45ed6782f0>\n",
      "Traceback (most recent call last):\n",
      "  File \"/home/harshv834/anaconda3/envs/ada/lib/python3.7/site-packages/torch/utils/data/dataloader.py\", line 962, in __del__\n",
      "    self._shutdown_workers()\n",
      "  File \"/home/harshv834/anaconda3/envs/ada/lib/python3.7/site-packages/torch/utils/data/dataloader.py\", line 917, in _shutdown_workers\n",
      "    if not self._shutdown:\n",
      "AttributeError: '_MultiProcessingDataLoaderIter' object has no attribute '_shutdown'\n",
      "Exception ignored in: <function _MultiProcessingDataLoaderIter.__del__ at 0x7f45ed6782f0>\n",
      "Traceback (most recent call last):\n",
      "  File \"/home/harshv834/anaconda3/envs/ada/lib/python3.7/site-packages/torch/utils/data/dataloader.py\", line 962, in __del__\n",
      "    self._shutdown_workers()\n",
      "  File \"/home/harshv834/anaconda3/envs/ada/lib/python3.7/site-packages/torch/utils/data/dataloader.py\", line 917, in _shutdown_workers\n",
      "    if not self._shutdown:\n",
      "AttributeError: '_MultiProcessingDataLoaderIter' object has no attribute '_shutdown'\n",
      "Exception ignored in: <function _MultiProcessingDataLoaderIter.__del__ at 0x7f45ed6782f0>\n",
      "Traceback (most recent call last):\n",
      "  File \"/home/harshv834/anaconda3/envs/ada/lib/python3.7/site-packages/torch/utils/data/dataloader.py\", line 962, in __del__\n",
      "    self._shutdown_workers()\n",
      "  File \"/home/harshv834/anaconda3/envs/ada/lib/python3.7/site-packages/torch/utils/data/dataloader.py\", line 917, in _shutdown_workers\n",
      "    if not self._shutdown:\n",
      "AttributeError: '_MultiProcessingDataLoaderIter' object has no attribute '_shutdown'\n",
      "\n",
      "\n",
      "\n",
      "\n",
      " 88%|████████▊ | 175/200 [01:53<00:19,  1.26it/s]\u001b[A\u001b[A\u001b[A\u001b[A"
     ]
    },
    {
     "name": "stdout",
     "output_type": "stream",
     "text": [
      "Epoch : 174  ,   Train Accuracy : 55.10  , Validation Accuracy : 52.60 , Training Loss : 0.022181\n"
     ]
    },
    {
     "name": "stderr",
     "output_type": "stream",
     "text": [
      "Exception ignored in: <function _MultiProcessingDataLoaderIter.__del__ at 0x7f45ed6782f0>\n",
      "Traceback (most recent call last):\n",
      "  File \"/home/harshv834/anaconda3/envs/ada/lib/python3.7/site-packages/torch/utils/data/dataloader.py\", line 962, in __del__\n",
      "    self._shutdown_workers()\n",
      "  File \"/home/harshv834/anaconda3/envs/ada/lib/python3.7/site-packages/torch/utils/data/dataloader.py\", line 917, in _shutdown_workers\n",
      "    if not self._shutdown:\n",
      "AttributeError: '_MultiProcessingDataLoaderIter' object has no attribute '_shutdown'\n",
      "Exception ignored in: <function _MultiProcessingDataLoaderIter.__del__ at 0x7f45ed6782f0>\n",
      "Traceback (most recent call last):\n",
      "  File \"/home/harshv834/anaconda3/envs/ada/lib/python3.7/site-packages/torch/utils/data/dataloader.py\", line 962, in __del__\n",
      "    self._shutdown_workers()\n",
      "  File \"/home/harshv834/anaconda3/envs/ada/lib/python3.7/site-packages/torch/utils/data/dataloader.py\", line 917, in _shutdown_workers\n",
      "    if not self._shutdown:\n",
      "AttributeError: '_MultiProcessingDataLoaderIter' object has no attribute '_shutdown'\n",
      "Exception ignored in: <function _MultiProcessingDataLoaderIter.__del__ at 0x7f45ed6782f0>\n",
      "Traceback (most recent call last):\n",
      "  File \"/home/harshv834/anaconda3/envs/ada/lib/python3.7/site-packages/torch/utils/data/dataloader.py\", line 962, in __del__\n",
      "    self._shutdown_workers()\n",
      "  File \"/home/harshv834/anaconda3/envs/ada/lib/python3.7/site-packages/torch/utils/data/dataloader.py\", line 917, in _shutdown_workers\n",
      "    if not self._shutdown:\n",
      "AttributeError: '_MultiProcessingDataLoaderIter' object has no attribute '_shutdown'\n",
      "\n",
      "\n",
      "\n",
      "\n",
      " 88%|████████▊ | 176/200 [01:54<00:18,  1.27it/s]\u001b[A\u001b[A\u001b[A\u001b[A"
     ]
    },
    {
     "name": "stdout",
     "output_type": "stream",
     "text": [
      "Epoch : 175  ,   Train Accuracy : 55.10  , Validation Accuracy : 52.60 , Training Loss : 0.022181\n"
     ]
    },
    {
     "name": "stderr",
     "output_type": "stream",
     "text": [
      "Exception ignored in: <function _MultiProcessingDataLoaderIter.__del__ at 0x7f45ed6782f0>\n",
      "Traceback (most recent call last):\n",
      "  File \"/home/harshv834/anaconda3/envs/ada/lib/python3.7/site-packages/torch/utils/data/dataloader.py\", line 962, in __del__\n",
      "    self._shutdown_workers()\n",
      "  File \"/home/harshv834/anaconda3/envs/ada/lib/python3.7/site-packages/torch/utils/data/dataloader.py\", line 917, in _shutdown_workers\n",
      "    if not self._shutdown:\n",
      "AttributeError: '_MultiProcessingDataLoaderIter' object has no attribute '_shutdown'\n",
      "Exception ignored in: <function _MultiProcessingDataLoaderIter.__del__ at 0x7f45ed6782f0>\n",
      "Traceback (most recent call last):\n",
      "  File \"/home/harshv834/anaconda3/envs/ada/lib/python3.7/site-packages/torch/utils/data/dataloader.py\", line 962, in __del__\n",
      "    self._shutdown_workers()\n",
      "  File \"/home/harshv834/anaconda3/envs/ada/lib/python3.7/site-packages/torch/utils/data/dataloader.py\", line 917, in _shutdown_workers\n",
      "    if not self._shutdown:\n",
      "AttributeError: '_MultiProcessingDataLoaderIter' object has no attribute '_shutdown'\n",
      "Exception ignored in: <function _MultiProcessingDataLoaderIter.__del__ at 0x7f45ed6782f0>\n",
      "Traceback (most recent call last):\n",
      "  File \"/home/harshv834/anaconda3/envs/ada/lib/python3.7/site-packages/torch/utils/data/dataloader.py\", line 962, in __del__\n",
      "    self._shutdown_workers()\n",
      "  File \"/home/harshv834/anaconda3/envs/ada/lib/python3.7/site-packages/torch/utils/data/dataloader.py\", line 917, in _shutdown_workers\n",
      "    if not self._shutdown:\n",
      "AttributeError: '_MultiProcessingDataLoaderIter' object has no attribute '_shutdown'\n",
      "\n",
      "\n",
      "\n",
      "\n",
      " 88%|████████▊ | 177/200 [01:55<00:18,  1.27it/s]\u001b[A\u001b[A\u001b[A\u001b[A"
     ]
    },
    {
     "name": "stdout",
     "output_type": "stream",
     "text": [
      "Epoch : 176  ,   Train Accuracy : 55.10  , Validation Accuracy : 52.60 , Training Loss : 0.022181\n"
     ]
    },
    {
     "name": "stderr",
     "output_type": "stream",
     "text": [
      "Exception ignored in: <function _MultiProcessingDataLoaderIter.__del__ at 0x7f45ed6782f0>\n",
      "Traceback (most recent call last):\n",
      "  File \"/home/harshv834/anaconda3/envs/ada/lib/python3.7/site-packages/torch/utils/data/dataloader.py\", line 962, in __del__\n",
      "    self._shutdown_workers()\n",
      "  File \"/home/harshv834/anaconda3/envs/ada/lib/python3.7/site-packages/torch/utils/data/dataloader.py\", line 917, in _shutdown_workers\n",
      "    if not self._shutdown:\n",
      "AttributeError: '_MultiProcessingDataLoaderIter' object has no attribute '_shutdown'\n",
      "Exception ignored in: <function _MultiProcessingDataLoaderIter.__del__ at 0x7f45ed6782f0>\n",
      "Traceback (most recent call last):\n",
      "  File \"/home/harshv834/anaconda3/envs/ada/lib/python3.7/site-packages/torch/utils/data/dataloader.py\", line 962, in __del__\n",
      "    self._shutdown_workers()\n",
      "  File \"/home/harshv834/anaconda3/envs/ada/lib/python3.7/site-packages/torch/utils/data/dataloader.py\", line 917, in _shutdown_workers\n",
      "    if not self._shutdown:\n",
      "AttributeError: '_MultiProcessingDataLoaderIter' object has no attribute '_shutdown'\n",
      "Exception ignored in: <function _MultiProcessingDataLoaderIter.__del__ at 0x7f45ed6782f0>\n",
      "Traceback (most recent call last):\n",
      "  File \"/home/harshv834/anaconda3/envs/ada/lib/python3.7/site-packages/torch/utils/data/dataloader.py\", line 962, in __del__\n",
      "    self._shutdown_workers()\n",
      "  File \"/home/harshv834/anaconda3/envs/ada/lib/python3.7/site-packages/torch/utils/data/dataloader.py\", line 917, in _shutdown_workers\n",
      "    if not self._shutdown:\n",
      "AttributeError: '_MultiProcessingDataLoaderIter' object has no attribute '_shutdown'\n",
      "\n",
      "\n",
      "\n",
      "\n",
      " 89%|████████▉ | 178/200 [01:55<00:16,  1.32it/s]\u001b[A\u001b[A\u001b[A\u001b[A"
     ]
    },
    {
     "name": "stdout",
     "output_type": "stream",
     "text": [
      "Epoch : 177  ,   Train Accuracy : 55.10  , Validation Accuracy : 52.60 , Training Loss : 0.022181\n"
     ]
    },
    {
     "name": "stderr",
     "output_type": "stream",
     "text": [
      "Exception ignored in: <function _MultiProcessingDataLoaderIter.__del__ at 0x7f45ed6782f0>\n",
      "Traceback (most recent call last):\n",
      "  File \"/home/harshv834/anaconda3/envs/ada/lib/python3.7/site-packages/torch/utils/data/dataloader.py\", line 962, in __del__\n",
      "    self._shutdown_workers()\n",
      "  File \"/home/harshv834/anaconda3/envs/ada/lib/python3.7/site-packages/torch/utils/data/dataloader.py\", line 917, in _shutdown_workers\n",
      "    if not self._shutdown:\n",
      "AttributeError: '_MultiProcessingDataLoaderIter' object has no attribute '_shutdown'\n",
      "Exception ignored in: <function _MultiProcessingDataLoaderIter.__del__ at 0x7f45ed6782f0>\n",
      "Traceback (most recent call last):\n",
      "  File \"/home/harshv834/anaconda3/envs/ada/lib/python3.7/site-packages/torch/utils/data/dataloader.py\", line 962, in __del__\n",
      "    self._shutdown_workers()\n",
      "  File \"/home/harshv834/anaconda3/envs/ada/lib/python3.7/site-packages/torch/utils/data/dataloader.py\", line 917, in _shutdown_workers\n",
      "    if not self._shutdown:\n",
      "AttributeError: '_MultiProcessingDataLoaderIter' object has no attribute '_shutdown'\n",
      "Exception ignored in: <function _MultiProcessingDataLoaderIter.__del__ at 0x7f45ed6782f0>\n",
      "Traceback (most recent call last):\n",
      "  File \"/home/harshv834/anaconda3/envs/ada/lib/python3.7/site-packages/torch/utils/data/dataloader.py\", line 962, in __del__\n",
      "    self._shutdown_workers()\n",
      "  File \"/home/harshv834/anaconda3/envs/ada/lib/python3.7/site-packages/torch/utils/data/dataloader.py\", line 917, in _shutdown_workers\n",
      "    if not self._shutdown:\n",
      "AttributeError: '_MultiProcessingDataLoaderIter' object has no attribute '_shutdown'\n",
      "\n",
      "\n",
      "\n",
      "\n",
      " 90%|████████▉ | 179/200 [01:56<00:15,  1.35it/s]\u001b[A\u001b[A\u001b[A\u001b[A"
     ]
    },
    {
     "name": "stdout",
     "output_type": "stream",
     "text": [
      "Epoch : 178  ,   Train Accuracy : 55.10  , Validation Accuracy : 52.60 , Training Loss : 0.022181\n"
     ]
    },
    {
     "name": "stderr",
     "output_type": "stream",
     "text": [
      "Exception ignored in: <function _MultiProcessingDataLoaderIter.__del__ at 0x7f45ed6782f0>\n",
      "Traceback (most recent call last):\n",
      "  File \"/home/harshv834/anaconda3/envs/ada/lib/python3.7/site-packages/torch/utils/data/dataloader.py\", line 962, in __del__\n",
      "    self._shutdown_workers()\n",
      "  File \"/home/harshv834/anaconda3/envs/ada/lib/python3.7/site-packages/torch/utils/data/dataloader.py\", line 917, in _shutdown_workers\n",
      "    if not self._shutdown:\n",
      "AttributeError: '_MultiProcessingDataLoaderIter' object has no attribute '_shutdown'\n",
      "Exception ignored in: <function _MultiProcessingDataLoaderIter.__del__ at 0x7f45ed6782f0>\n",
      "Traceback (most recent call last):\n",
      "  File \"/home/harshv834/anaconda3/envs/ada/lib/python3.7/site-packages/torch/utils/data/dataloader.py\", line 962, in __del__\n",
      "    self._shutdown_workers()\n",
      "  File \"/home/harshv834/anaconda3/envs/ada/lib/python3.7/site-packages/torch/utils/data/dataloader.py\", line 917, in _shutdown_workers\n",
      "    if not self._shutdown:\n",
      "AttributeError: '_MultiProcessingDataLoaderIter' object has no attribute '_shutdown'\n",
      "Exception ignored in: <function _MultiProcessingDataLoaderIter.__del__ at 0x7f45ed6782f0>\n",
      "Traceback (most recent call last):\n",
      "  File \"/home/harshv834/anaconda3/envs/ada/lib/python3.7/site-packages/torch/utils/data/dataloader.py\", line 962, in __del__\n",
      "    self._shutdown_workers()\n",
      "  File \"/home/harshv834/anaconda3/envs/ada/lib/python3.7/site-packages/torch/utils/data/dataloader.py\", line 917, in _shutdown_workers\n",
      "    if not self._shutdown:\n",
      "AttributeError: '_MultiProcessingDataLoaderIter' object has no attribute '_shutdown'\n",
      "\n",
      "\n",
      "\n",
      "\n",
      " 90%|█████████ | 180/200 [01:57<00:15,  1.28it/s]\u001b[A\u001b[A\u001b[A\u001b[A"
     ]
    },
    {
     "name": "stdout",
     "output_type": "stream",
     "text": [
      "Epoch : 179  ,   Train Accuracy : 55.10  , Validation Accuracy : 52.60 , Training Loss : 0.022181\n"
     ]
    },
    {
     "name": "stderr",
     "output_type": "stream",
     "text": [
      "Exception ignored in: <function _MultiProcessingDataLoaderIter.__del__ at 0x7f45ed6782f0>\n",
      "Traceback (most recent call last):\n",
      "  File \"/home/harshv834/anaconda3/envs/ada/lib/python3.7/site-packages/torch/utils/data/dataloader.py\", line 962, in __del__\n",
      "    self._shutdown_workers()\n",
      "  File \"/home/harshv834/anaconda3/envs/ada/lib/python3.7/site-packages/torch/utils/data/dataloader.py\", line 917, in _shutdown_workers\n",
      "    if not self._shutdown:\n",
      "AttributeError: '_MultiProcessingDataLoaderIter' object has no attribute '_shutdown'\n",
      "Exception ignored in: <function _MultiProcessingDataLoaderIter.__del__ at 0x7f45ed6782f0>\n",
      "Traceback (most recent call last):\n",
      "  File \"/home/harshv834/anaconda3/envs/ada/lib/python3.7/site-packages/torch/utils/data/dataloader.py\", line 962, in __del__\n",
      "    self._shutdown_workers()\n",
      "  File \"/home/harshv834/anaconda3/envs/ada/lib/python3.7/site-packages/torch/utils/data/dataloader.py\", line 917, in _shutdown_workers\n",
      "    if not self._shutdown:\n",
      "AttributeError: '_MultiProcessingDataLoaderIter' object has no attribute '_shutdown'\n",
      "Exception ignored in: <function _MultiProcessingDataLoaderIter.__del__ at 0x7f45ed6782f0>\n",
      "Traceback (most recent call last):\n",
      "  File \"/home/harshv834/anaconda3/envs/ada/lib/python3.7/site-packages/torch/utils/data/dataloader.py\", line 962, in __del__\n",
      "    self._shutdown_workers()\n",
      "  File \"/home/harshv834/anaconda3/envs/ada/lib/python3.7/site-packages/torch/utils/data/dataloader.py\", line 917, in _shutdown_workers\n",
      "    if not self._shutdown:\n",
      "AttributeError: '_MultiProcessingDataLoaderIter' object has no attribute '_shutdown'\n",
      "\n",
      "\n",
      "\n",
      "\n",
      " 90%|█████████ | 181/200 [01:57<00:13,  1.37it/s]\u001b[A\u001b[A\u001b[A\u001b[A"
     ]
    },
    {
     "name": "stdout",
     "output_type": "stream",
     "text": [
      "Epoch : 180  ,   Train Accuracy : 55.10  , Validation Accuracy : 52.60 , Training Loss : 0.022181\n"
     ]
    },
    {
     "name": "stderr",
     "output_type": "stream",
     "text": [
      "Exception ignored in: <function _MultiProcessingDataLoaderIter.__del__ at 0x7f45ed6782f0>\n",
      "Traceback (most recent call last):\n",
      "  File \"/home/harshv834/anaconda3/envs/ada/lib/python3.7/site-packages/torch/utils/data/dataloader.py\", line 962, in __del__\n",
      "    self._shutdown_workers()\n",
      "  File \"/home/harshv834/anaconda3/envs/ada/lib/python3.7/site-packages/torch/utils/data/dataloader.py\", line 917, in _shutdown_workers\n",
      "    if not self._shutdown:\n",
      "AttributeError: '_MultiProcessingDataLoaderIter' object has no attribute '_shutdown'\n",
      "Exception ignored in: <function _MultiProcessingDataLoaderIter.__del__ at 0x7f45ed6782f0>\n",
      "Traceback (most recent call last):\n",
      "  File \"/home/harshv834/anaconda3/envs/ada/lib/python3.7/site-packages/torch/utils/data/dataloader.py\", line 962, in __del__\n",
      "    self._shutdown_workers()\n",
      "  File \"/home/harshv834/anaconda3/envs/ada/lib/python3.7/site-packages/torch/utils/data/dataloader.py\", line 917, in _shutdown_workers\n",
      "    if not self._shutdown:\n",
      "AttributeError: '_MultiProcessingDataLoaderIter' object has no attribute '_shutdown'\n",
      "Exception ignored in: <function _MultiProcessingDataLoaderIter.__del__ at 0x7f45ed6782f0>\n",
      "Traceback (most recent call last):\n",
      "  File \"/home/harshv834/anaconda3/envs/ada/lib/python3.7/site-packages/torch/utils/data/dataloader.py\", line 962, in __del__\n",
      "    self._shutdown_workers()\n",
      "  File \"/home/harshv834/anaconda3/envs/ada/lib/python3.7/site-packages/torch/utils/data/dataloader.py\", line 917, in _shutdown_workers\n",
      "    if not self._shutdown:\n",
      "AttributeError: '_MultiProcessingDataLoaderIter' object has no attribute '_shutdown'\n",
      "\n",
      "\n",
      "\n",
      "\n",
      " 91%|█████████ | 182/200 [01:58<00:12,  1.40it/s]\u001b[A\u001b[A\u001b[A\u001b[A"
     ]
    },
    {
     "name": "stdout",
     "output_type": "stream",
     "text": [
      "Epoch : 181  ,   Train Accuracy : 55.10  , Validation Accuracy : 52.60 , Training Loss : 0.022181\n"
     ]
    },
    {
     "name": "stderr",
     "output_type": "stream",
     "text": [
      "Exception ignored in: <function _MultiProcessingDataLoaderIter.__del__ at 0x7f45ed6782f0>\n",
      "Traceback (most recent call last):\n",
      "  File \"/home/harshv834/anaconda3/envs/ada/lib/python3.7/site-packages/torch/utils/data/dataloader.py\", line 962, in __del__\n",
      "    self._shutdown_workers()\n",
      "  File \"/home/harshv834/anaconda3/envs/ada/lib/python3.7/site-packages/torch/utils/data/dataloader.py\", line 917, in _shutdown_workers\n",
      "    if not self._shutdown:\n",
      "Exception ignored in: <function _MultiProcessingDataLoaderIter.__del__ at 0x7f45ed6782f0>\n",
      "AttributeError: '_MultiProcessingDataLoaderIter' object has no attribute '_shutdown'\n",
      "Traceback (most recent call last):\n",
      "  File \"/home/harshv834/anaconda3/envs/ada/lib/python3.7/site-packages/torch/utils/data/dataloader.py\", line 962, in __del__\n",
      "    self._shutdown_workers()\n",
      "  File \"/home/harshv834/anaconda3/envs/ada/lib/python3.7/site-packages/torch/utils/data/dataloader.py\", line 917, in _shutdown_workers\n",
      "    if not self._shutdown:\n",
      "AttributeError: '_MultiProcessingDataLoaderIter' object has no attribute '_shutdown'\n",
      "Exception ignored in: <function _MultiProcessingDataLoaderIter.__del__ at 0x7f45ed6782f0>\n",
      "Traceback (most recent call last):\n",
      "  File \"/home/harshv834/anaconda3/envs/ada/lib/python3.7/site-packages/torch/utils/data/dataloader.py\", line 962, in __del__\n",
      "    self._shutdown_workers()\n",
      "  File \"/home/harshv834/anaconda3/envs/ada/lib/python3.7/site-packages/torch/utils/data/dataloader.py\", line 917, in _shutdown_workers\n",
      "    if not self._shutdown:\n",
      "AttributeError: '_MultiProcessingDataLoaderIter' object has no attribute '_shutdown'\n",
      "Exception ignored in: <function _MultiProcessingDataLoaderIter.__del__ at 0x7f45ed6782f0>\n",
      "Traceback (most recent call last):\n",
      "  File \"/home/harshv834/anaconda3/envs/ada/lib/python3.7/site-packages/torch/utils/data/dataloader.py\", line 962, in __del__\n",
      "    self._shutdown_workers()\n",
      "  File \"/home/harshv834/anaconda3/envs/ada/lib/python3.7/site-packages/torch/utils/data/dataloader.py\", line 917, in _shutdown_workers\n",
      "    if not self._shutdown:\n",
      "AttributeError: '_MultiProcessingDataLoaderIter' object has no attribute '_shutdown'\n",
      "\n",
      "\n",
      "\n",
      "\n",
      " 92%|█████████▏| 183/200 [01:59<00:12,  1.41it/s]\u001b[A\u001b[A\u001b[A\u001b[A"
     ]
    },
    {
     "name": "stdout",
     "output_type": "stream",
     "text": [
      "Epoch : 182  ,   Train Accuracy : 55.10  , Validation Accuracy : 52.60 , Training Loss : 0.022181\n"
     ]
    },
    {
     "name": "stderr",
     "output_type": "stream",
     "text": [
      "Exception ignored in: <function _MultiProcessingDataLoaderIter.__del__ at 0x7f45ed6782f0>\n",
      "Traceback (most recent call last):\n",
      "  File \"/home/harshv834/anaconda3/envs/ada/lib/python3.7/site-packages/torch/utils/data/dataloader.py\", line 962, in __del__\n",
      "    self._shutdown_workers()\n",
      "  File \"/home/harshv834/anaconda3/envs/ada/lib/python3.7/site-packages/torch/utils/data/dataloader.py\", line 917, in _shutdown_workers\n",
      "    if not self._shutdown:\n",
      "Exception ignored in: <function _MultiProcessingDataLoaderIter.__del__ at 0x7f45ed6782f0>\n",
      "AttributeError: '_MultiProcessingDataLoaderIter' object has no attribute '_shutdown'\n",
      "Traceback (most recent call last):\n",
      "  File \"/home/harshv834/anaconda3/envs/ada/lib/python3.7/site-packages/torch/utils/data/dataloader.py\", line 962, in __del__\n",
      "    self._shutdown_workers()\n",
      "  File \"/home/harshv834/anaconda3/envs/ada/lib/python3.7/site-packages/torch/utils/data/dataloader.py\", line 917, in _shutdown_workers\n",
      "    if not self._shutdown:\n",
      "AttributeError: '_MultiProcessingDataLoaderIter' object has no attribute '_shutdown'\n",
      "Exception ignored in: <function _MultiProcessingDataLoaderIter.__del__ at 0x7f45ed6782f0>\n",
      "Traceback (most recent call last):\n",
      "  File \"/home/harshv834/anaconda3/envs/ada/lib/python3.7/site-packages/torch/utils/data/dataloader.py\", line 962, in __del__\n",
      "    self._shutdown_workers()\n",
      "  File \"/home/harshv834/anaconda3/envs/ada/lib/python3.7/site-packages/torch/utils/data/dataloader.py\", line 917, in _shutdown_workers\n",
      "    if not self._shutdown:\n",
      "AttributeError: '_MultiProcessingDataLoaderIter' object has no attribute '_shutdown'\n",
      "Exception ignored in: <function _MultiProcessingDataLoaderIter.__del__ at 0x7f45ed6782f0>\n",
      "Traceback (most recent call last):\n",
      "  File \"/home/harshv834/anaconda3/envs/ada/lib/python3.7/site-packages/torch/utils/data/dataloader.py\", line 962, in __del__\n",
      "    self._shutdown_workers()\n",
      "  File \"/home/harshv834/anaconda3/envs/ada/lib/python3.7/site-packages/torch/utils/data/dataloader.py\", line 917, in _shutdown_workers\n",
      "    if not self._shutdown:\n",
      "AttributeError: '_MultiProcessingDataLoaderIter' object has no attribute '_shutdown'\n",
      "\n",
      "\n",
      "\n",
      "\n",
      " 92%|█████████▏| 184/200 [01:59<00:11,  1.44it/s]\u001b[A\u001b[A\u001b[A\u001b[A"
     ]
    },
    {
     "name": "stdout",
     "output_type": "stream",
     "text": [
      "Epoch : 183  ,   Train Accuracy : 55.10  , Validation Accuracy : 52.60 , Training Loss : 0.022181\n"
     ]
    },
    {
     "name": "stderr",
     "output_type": "stream",
     "text": [
      "Exception ignored in: <function _MultiProcessingDataLoaderIter.__del__ at 0x7f45ed6782f0>\n",
      "Traceback (most recent call last):\n",
      "  File \"/home/harshv834/anaconda3/envs/ada/lib/python3.7/site-packages/torch/utils/data/dataloader.py\", line 962, in __del__\n",
      "    self._shutdown_workers()\n",
      "  File \"/home/harshv834/anaconda3/envs/ada/lib/python3.7/site-packages/torch/utils/data/dataloader.py\", line 917, in _shutdown_workers\n",
      "    if not self._shutdown:\n",
      "AttributeError: '_MultiProcessingDataLoaderIter' object has no attribute '_shutdown'\n",
      "Exception ignored in: <function _MultiProcessingDataLoaderIter.__del__ at 0x7f45ed6782f0>\n",
      "Traceback (most recent call last):\n",
      "  File \"/home/harshv834/anaconda3/envs/ada/lib/python3.7/site-packages/torch/utils/data/dataloader.py\", line 962, in __del__\n",
      "    self._shutdown_workers()\n",
      "  File \"/home/harshv834/anaconda3/envs/ada/lib/python3.7/site-packages/torch/utils/data/dataloader.py\", line 917, in _shutdown_workers\n",
      "    if not self._shutdown:\n",
      "AttributeError: '_MultiProcessingDataLoaderIter' object has no attribute '_shutdown'\n",
      "Exception ignored in: <function _MultiProcessingDataLoaderIter.__del__ at 0x7f45ed6782f0>\n",
      "Traceback (most recent call last):\n",
      "  File \"/home/harshv834/anaconda3/envs/ada/lib/python3.7/site-packages/torch/utils/data/dataloader.py\", line 962, in __del__\n",
      "    self._shutdown_workers()\n",
      "  File \"/home/harshv834/anaconda3/envs/ada/lib/python3.7/site-packages/torch/utils/data/dataloader.py\", line 917, in _shutdown_workers\n",
      "    if not self._shutdown:\n",
      "AttributeError: '_MultiProcessingDataLoaderIter' object has no attribute '_shutdown'\n",
      "Exception ignored in: <function _MultiProcessingDataLoaderIter.__del__ at 0x7f45ed6782f0>\n",
      "Traceback (most recent call last):\n",
      "  File \"/home/harshv834/anaconda3/envs/ada/lib/python3.7/site-packages/torch/utils/data/dataloader.py\", line 962, in __del__\n",
      "    self._shutdown_workers()\n",
      "  File \"/home/harshv834/anaconda3/envs/ada/lib/python3.7/site-packages/torch/utils/data/dataloader.py\", line 917, in _shutdown_workers\n",
      "    if not self._shutdown:\n",
      "AttributeError: '_MultiProcessingDataLoaderIter' object has no attribute '_shutdown'\n",
      "\n",
      "\n",
      "\n",
      "\n",
      " 92%|█████████▎| 185/200 [02:00<00:10,  1.44it/s]\u001b[A\u001b[A\u001b[A\u001b[A"
     ]
    },
    {
     "name": "stdout",
     "output_type": "stream",
     "text": [
      "Epoch : 184  ,   Train Accuracy : 55.10  , Validation Accuracy : 52.60 , Training Loss : 0.022181\n"
     ]
    },
    {
     "name": "stderr",
     "output_type": "stream",
     "text": [
      "Exception ignored in: <function _MultiProcessingDataLoaderIter.__del__ at 0x7f45ed6782f0>\n",
      "Traceback (most recent call last):\n",
      "  File \"/home/harshv834/anaconda3/envs/ada/lib/python3.7/site-packages/torch/utils/data/dataloader.py\", line 962, in __del__\n",
      "    self._shutdown_workers()\n",
      "  File \"/home/harshv834/anaconda3/envs/ada/lib/python3.7/site-packages/torch/utils/data/dataloader.py\", line 917, in _shutdown_workers\n",
      "    if not self._shutdown:\n",
      "AttributeError: '_MultiProcessingDataLoaderIter' object has no attribute '_shutdown'\n",
      "Exception ignored in: <function _MultiProcessingDataLoaderIter.__del__ at 0x7f45ed6782f0>\n",
      "Traceback (most recent call last):\n",
      "  File \"/home/harshv834/anaconda3/envs/ada/lib/python3.7/site-packages/torch/utils/data/dataloader.py\", line 962, in __del__\n",
      "    self._shutdown_workers()\n",
      "  File \"/home/harshv834/anaconda3/envs/ada/lib/python3.7/site-packages/torch/utils/data/dataloader.py\", line 917, in _shutdown_workers\n",
      "    if not self._shutdown:\n",
      "AttributeError: '_MultiProcessingDataLoaderIter' object has no attribute '_shutdown'\n",
      "Exception ignored in: <function _MultiProcessingDataLoaderIter.__del__ at 0x7f45ed6782f0>\n",
      "Traceback (most recent call last):\n",
      "  File \"/home/harshv834/anaconda3/envs/ada/lib/python3.7/site-packages/torch/utils/data/dataloader.py\", line 962, in __del__\n",
      "    self._shutdown_workers()\n",
      "  File \"/home/harshv834/anaconda3/envs/ada/lib/python3.7/site-packages/torch/utils/data/dataloader.py\", line 917, in _shutdown_workers\n",
      "    if not self._shutdown:\n",
      "AttributeError: '_MultiProcessingDataLoaderIter' object has no attribute '_shutdown'\n",
      "Exception ignored in: <function _MultiProcessingDataLoaderIter.__del__ at 0x7f45ed6782f0>\n",
      "Traceback (most recent call last):\n",
      "  File \"/home/harshv834/anaconda3/envs/ada/lib/python3.7/site-packages/torch/utils/data/dataloader.py\", line 962, in __del__\n",
      "    self._shutdown_workers()\n",
      "  File \"/home/harshv834/anaconda3/envs/ada/lib/python3.7/site-packages/torch/utils/data/dataloader.py\", line 917, in _shutdown_workers\n",
      "    if not self._shutdown:\n",
      "AttributeError: '_MultiProcessingDataLoaderIter' object has no attribute '_shutdown'\n",
      "\n",
      "\n",
      "\n",
      "\n",
      " 93%|█████████▎| 186/200 [02:01<00:09,  1.45it/s]\u001b[A\u001b[A\u001b[A\u001b[A"
     ]
    },
    {
     "name": "stdout",
     "output_type": "stream",
     "text": [
      "Epoch : 185  ,   Train Accuracy : 55.10  , Validation Accuracy : 52.60 , Training Loss : 0.022181\n"
     ]
    },
    {
     "name": "stderr",
     "output_type": "stream",
     "text": [
      "Exception ignored in: <function _MultiProcessingDataLoaderIter.__del__ at 0x7f45ed6782f0>\n",
      "Traceback (most recent call last):\n",
      "  File \"/home/harshv834/anaconda3/envs/ada/lib/python3.7/site-packages/torch/utils/data/dataloader.py\", line 962, in __del__\n",
      "    self._shutdown_workers()\n",
      "  File \"/home/harshv834/anaconda3/envs/ada/lib/python3.7/site-packages/torch/utils/data/dataloader.py\", line 917, in _shutdown_workers\n",
      "    if not self._shutdown:\n",
      "AttributeError: '_MultiProcessingDataLoaderIter' object has no attribute '_shutdown'\n",
      "Exception ignored in: <function _MultiProcessingDataLoaderIter.__del__ at 0x7f45ed6782f0>\n",
      "Traceback (most recent call last):\n",
      "  File \"/home/harshv834/anaconda3/envs/ada/lib/python3.7/site-packages/torch/utils/data/dataloader.py\", line 962, in __del__\n",
      "    self._shutdown_workers()\n",
      "  File \"/home/harshv834/anaconda3/envs/ada/lib/python3.7/site-packages/torch/utils/data/dataloader.py\", line 917, in _shutdown_workers\n",
      "    if not self._shutdown:\n",
      "AttributeError: '_MultiProcessingDataLoaderIter' object has no attribute '_shutdown'\n",
      "Exception ignored in: <function _MultiProcessingDataLoaderIter.__del__ at 0x7f45ed6782f0>\n",
      "Traceback (most recent call last):\n",
      "Exception ignored in: <function _MultiProcessingDataLoaderIter.__del__ at 0x7f45ed6782f0>\n",
      "  File \"/home/harshv834/anaconda3/envs/ada/lib/python3.7/site-packages/torch/utils/data/dataloader.py\", line 962, in __del__\n",
      "    self._shutdown_workers()\n",
      "  File \"/home/harshv834/anaconda3/envs/ada/lib/python3.7/site-packages/torch/utils/data/dataloader.py\", line 917, in _shutdown_workers\n",
      "    if not self._shutdown:\n",
      "Traceback (most recent call last):\n",
      "AttributeError: '_MultiProcessingDataLoaderIter' object has no attribute '_shutdown'\n",
      "  File \"/home/harshv834/anaconda3/envs/ada/lib/python3.7/site-packages/torch/utils/data/dataloader.py\", line 962, in __del__\n",
      "    self._shutdown_workers()\n",
      "  File \"/home/harshv834/anaconda3/envs/ada/lib/python3.7/site-packages/torch/utils/data/dataloader.py\", line 917, in _shutdown_workers\n",
      "    if not self._shutdown:\n",
      "AttributeError: '_MultiProcessingDataLoaderIter' object has no attribute '_shutdown'\n",
      "Exception ignored in: <function _MultiProcessingDataLoaderIter.__del__ at 0x7f45ed6782f0>\n",
      "Traceback (most recent call last):\n",
      "  File \"/home/harshv834/anaconda3/envs/ada/lib/python3.7/site-packages/torch/utils/data/dataloader.py\", line 962, in __del__\n",
      "    self._shutdown_workers()\n",
      "Exception ignored in: <function _MultiProcessingDataLoaderIter.__del__ at 0x7f45ed6782f0>\n",
      "  File \"/home/harshv834/anaconda3/envs/ada/lib/python3.7/site-packages/torch/utils/data/dataloader.py\", line 917, in _shutdown_workers\n",
      "    if not self._shutdown:\n",
      "Traceback (most recent call last):\n",
      "  File \"/home/harshv834/anaconda3/envs/ada/lib/python3.7/site-packages/torch/utils/data/dataloader.py\", line 962, in __del__\n",
      "    self._shutdown_workers()\n",
      "AttributeError: '_MultiProcessingDataLoaderIter' object has no attribute '_shutdown'\n",
      "  File \"/home/harshv834/anaconda3/envs/ada/lib/python3.7/site-packages/torch/utils/data/dataloader.py\", line 917, in _shutdown_workers\n",
      "    if not self._shutdown:\n",
      "AttributeError: '_MultiProcessingDataLoaderIter' object has no attribute '_shutdown'\n",
      "\n",
      "\n",
      "\n",
      "\n",
      " 94%|█████████▎| 187/200 [02:02<00:09,  1.44it/s]\u001b[A\u001b[A\u001b[A\u001b[A"
     ]
    },
    {
     "name": "stdout",
     "output_type": "stream",
     "text": [
      "Epoch : 186  ,   Train Accuracy : 55.10  , Validation Accuracy : 52.60 , Training Loss : 0.022181\n"
     ]
    },
    {
     "name": "stderr",
     "output_type": "stream",
     "text": [
      "Exception ignored in: <function _MultiProcessingDataLoaderIter.__del__ at 0x7f45ed6782f0>\n",
      "Traceback (most recent call last):\n",
      "  File \"/home/harshv834/anaconda3/envs/ada/lib/python3.7/site-packages/torch/utils/data/dataloader.py\", line 962, in __del__\n",
      "    self._shutdown_workers()\n",
      "  File \"/home/harshv834/anaconda3/envs/ada/lib/python3.7/site-packages/torch/utils/data/dataloader.py\", line 917, in _shutdown_workers\n",
      "    if not self._shutdown:\n",
      "Exception ignored in: <function _MultiProcessingDataLoaderIter.__del__ at 0x7f45ed6782f0>\n",
      "AttributeError: '_MultiProcessingDataLoaderIter' object has no attribute '_shutdown'\n",
      "Traceback (most recent call last):\n",
      "  File \"/home/harshv834/anaconda3/envs/ada/lib/python3.7/site-packages/torch/utils/data/dataloader.py\", line 962, in __del__\n",
      "    self._shutdown_workers()\n",
      "  File \"/home/harshv834/anaconda3/envs/ada/lib/python3.7/site-packages/torch/utils/data/dataloader.py\", line 917, in _shutdown_workers\n",
      "    if not self._shutdown:\n",
      "AttributeError: '_MultiProcessingDataLoaderIter' object has no attribute '_shutdown'\n",
      "Exception ignored in: <function _MultiProcessingDataLoaderIter.__del__ at 0x7f45ed6782f0>\n",
      "Traceback (most recent call last):\n",
      "  File \"/home/harshv834/anaconda3/envs/ada/lib/python3.7/site-packages/torch/utils/data/dataloader.py\", line 962, in __del__\n",
      "    self._shutdown_workers()\n",
      "  File \"/home/harshv834/anaconda3/envs/ada/lib/python3.7/site-packages/torch/utils/data/dataloader.py\", line 917, in _shutdown_workers\n",
      "    if not self._shutdown:\n",
      "AttributeError: '_MultiProcessingDataLoaderIter' object has no attribute '_shutdown'\n",
      "Exception ignored in: <function _MultiProcessingDataLoaderIter.__del__ at 0x7f45ed6782f0>\n",
      "Traceback (most recent call last):\n",
      "  File \"/home/harshv834/anaconda3/envs/ada/lib/python3.7/site-packages/torch/utils/data/dataloader.py\", line 962, in __del__\n",
      "    self._shutdown_workers()\n",
      "  File \"/home/harshv834/anaconda3/envs/ada/lib/python3.7/site-packages/torch/utils/data/dataloader.py\", line 917, in _shutdown_workers\n",
      "    if not self._shutdown:\n",
      "AttributeError: '_MultiProcessingDataLoaderIter' object has no attribute '_shutdown'\n",
      "Exception ignored in: <function _MultiProcessingDataLoaderIter.__del__ at 0x7f45ed6782f0>\n",
      "Traceback (most recent call last):\n",
      "  File \"/home/harshv834/anaconda3/envs/ada/lib/python3.7/site-packages/torch/utils/data/dataloader.py\", line 962, in __del__\n",
      "    self._shutdown_workers()\n",
      "  File \"/home/harshv834/anaconda3/envs/ada/lib/python3.7/site-packages/torch/utils/data/dataloader.py\", line 917, in _shutdown_workers\n",
      "    if not self._shutdown:\n",
      "AttributeError: '_MultiProcessingDataLoaderIter' object has no attribute '_shutdown'\n",
      "Exception ignored in: <function _MultiProcessingDataLoaderIter.__del__ at 0x7f45ed6782f0>\n",
      "Traceback (most recent call last):\n",
      "  File \"/home/harshv834/anaconda3/envs/ada/lib/python3.7/site-packages/torch/utils/data/dataloader.py\", line 962, in __del__\n",
      "    self._shutdown_workers()\n",
      "  File \"/home/harshv834/anaconda3/envs/ada/lib/python3.7/site-packages/torch/utils/data/dataloader.py\", line 917, in _shutdown_workers\n",
      "    if not self._shutdown:\n",
      "AttributeError: '_MultiProcessingDataLoaderIter' object has no attribute '_shutdown'\n",
      "\n",
      "\n",
      "\n",
      "\n",
      " 94%|█████████▍| 188/200 [02:02<00:08,  1.45it/s]\u001b[A\u001b[A\u001b[A\u001b[A"
     ]
    },
    {
     "name": "stdout",
     "output_type": "stream",
     "text": [
      "Epoch : 187  ,   Train Accuracy : 55.10  , Validation Accuracy : 52.60 , Training Loss : 0.022181\n"
     ]
    },
    {
     "name": "stderr",
     "output_type": "stream",
     "text": [
      "Exception ignored in: <function _MultiProcessingDataLoaderIter.__del__ at 0x7f45ed6782f0>\n",
      "Exception ignored in: <function _MultiProcessingDataLoaderIter.__del__ at 0x7f45ed6782f0>\n",
      "Traceback (most recent call last):\n",
      "Traceback (most recent call last):\n",
      "  File \"/home/harshv834/anaconda3/envs/ada/lib/python3.7/site-packages/torch/utils/data/dataloader.py\", line 962, in __del__\n",
      "    self._shutdown_workers()\n",
      "  File \"/home/harshv834/anaconda3/envs/ada/lib/python3.7/site-packages/torch/utils/data/dataloader.py\", line 917, in _shutdown_workers\n",
      "    if not self._shutdown:\n",
      "  File \"/home/harshv834/anaconda3/envs/ada/lib/python3.7/site-packages/torch/utils/data/dataloader.py\", line 962, in __del__\n",
      "AttributeError: '_MultiProcessingDataLoaderIter' object has no attribute '_shutdown'\n",
      "    self._shutdown_workers()\n",
      "  File \"/home/harshv834/anaconda3/envs/ada/lib/python3.7/site-packages/torch/utils/data/dataloader.py\", line 917, in _shutdown_workers\n",
      "    if not self._shutdown:\n",
      "AttributeError: '_MultiProcessingDataLoaderIter' object has no attribute '_shutdown'\n",
      "Exception ignored in: <function _MultiProcessingDataLoaderIter.__del__ at 0x7f45ed6782f0>\n",
      "Exception ignored in: <function _MultiProcessingDataLoaderIter.__del__ at 0x7f45ed6782f0>\n",
      "Traceback (most recent call last):\n",
      "Traceback (most recent call last):\n",
      "  File \"/home/harshv834/anaconda3/envs/ada/lib/python3.7/site-packages/torch/utils/data/dataloader.py\", line 962, in __del__\n",
      "  File \"/home/harshv834/anaconda3/envs/ada/lib/python3.7/site-packages/torch/utils/data/dataloader.py\", line 962, in __del__\n",
      "    self._shutdown_workers()\n",
      "  File \"/home/harshv834/anaconda3/envs/ada/lib/python3.7/site-packages/torch/utils/data/dataloader.py\", line 917, in _shutdown_workers\n",
      "    if not self._shutdown:\n",
      "AttributeError: '_MultiProcessingDataLoaderIter' object has no attribute '_shutdown'\n",
      "    self._shutdown_workers()\n",
      "  File \"/home/harshv834/anaconda3/envs/ada/lib/python3.7/site-packages/torch/utils/data/dataloader.py\", line 917, in _shutdown_workers\n",
      "    if not self._shutdown:\n",
      "AttributeError: '_MultiProcessingDataLoaderIter' object has no attribute '_shutdown'\n",
      "Exception ignored in: <function _MultiProcessingDataLoaderIter.__del__ at 0x7f45ed6782f0>\n",
      "Traceback (most recent call last):\n",
      "  File \"/home/harshv834/anaconda3/envs/ada/lib/python3.7/site-packages/torch/utils/data/dataloader.py\", line 962, in __del__\n",
      "    self._shutdown_workers()\n",
      "  File \"/home/harshv834/anaconda3/envs/ada/lib/python3.7/site-packages/torch/utils/data/dataloader.py\", line 917, in _shutdown_workers\n",
      "    if not self._shutdown:\n",
      "AttributeError: '_MultiProcessingDataLoaderIter' object has no attribute '_shutdown'\n",
      "Exception ignored in: <function _MultiProcessingDataLoaderIter.__del__ at 0x7f45ed6782f0>\n",
      "Traceback (most recent call last):\n",
      "  File \"/home/harshv834/anaconda3/envs/ada/lib/python3.7/site-packages/torch/utils/data/dataloader.py\", line 962, in __del__\n",
      "    self._shutdown_workers()\n",
      "  File \"/home/harshv834/anaconda3/envs/ada/lib/python3.7/site-packages/torch/utils/data/dataloader.py\", line 917, in _shutdown_workers\n",
      "    if not self._shutdown:\n",
      "AttributeError: '_MultiProcessingDataLoaderIter' object has no attribute '_shutdown'\n",
      "\n",
      "\n",
      "\n",
      "\n",
      " 94%|█████████▍| 189/200 [02:03<00:07,  1.48it/s]\u001b[A\u001b[A\u001b[A\u001b[A"
     ]
    },
    {
     "name": "stdout",
     "output_type": "stream",
     "text": [
      "Epoch : 188  ,   Train Accuracy : 55.10  , Validation Accuracy : 52.60 , Training Loss : 0.022181\n"
     ]
    },
    {
     "name": "stderr",
     "output_type": "stream",
     "text": [
      "Exception ignored in: <function _MultiProcessingDataLoaderIter.__del__ at 0x7f45ed6782f0>\n",
      "Traceback (most recent call last):\n",
      "  File \"/home/harshv834/anaconda3/envs/ada/lib/python3.7/site-packages/torch/utils/data/dataloader.py\", line 962, in __del__\n",
      "Exception ignored in: <function _MultiProcessingDataLoaderIter.__del__ at 0x7f45ed6782f0>\n",
      "    self._shutdown_workers()\n",
      "  File \"/home/harshv834/anaconda3/envs/ada/lib/python3.7/site-packages/torch/utils/data/dataloader.py\", line 917, in _shutdown_workers\n",
      "    if not self._shutdown:\n",
      "AttributeError: '_MultiProcessingDataLoaderIter' object has no attribute '_shutdown'\n",
      "Traceback (most recent call last):\n",
      "  File \"/home/harshv834/anaconda3/envs/ada/lib/python3.7/site-packages/torch/utils/data/dataloader.py\", line 962, in __del__\n",
      "    self._shutdown_workers()\n",
      "  File \"/home/harshv834/anaconda3/envs/ada/lib/python3.7/site-packages/torch/utils/data/dataloader.py\", line 917, in _shutdown_workers\n",
      "    if not self._shutdown:\n",
      "AttributeError: '_MultiProcessingDataLoaderIter' object has no attribute '_shutdown'\n",
      "Exception ignored in: <function _MultiProcessingDataLoaderIter.__del__ at 0x7f45ed6782f0>\n",
      "Traceback (most recent call last):\n",
      "  File \"/home/harshv834/anaconda3/envs/ada/lib/python3.7/site-packages/torch/utils/data/dataloader.py\", line 962, in __del__\n",
      "    self._shutdown_workers()\n",
      "  File \"/home/harshv834/anaconda3/envs/ada/lib/python3.7/site-packages/torch/utils/data/dataloader.py\", line 917, in _shutdown_workers\n",
      "    if not self._shutdown:\n",
      "AttributeError: '_MultiProcessingDataLoaderIter' object has no attribute '_shutdown'\n",
      "Exception ignored in: <function _MultiProcessingDataLoaderIter.__del__ at 0x7f45ed6782f0>\n",
      "Traceback (most recent call last):\n",
      "  File \"/home/harshv834/anaconda3/envs/ada/lib/python3.7/site-packages/torch/utils/data/dataloader.py\", line 962, in __del__\n",
      "    self._shutdown_workers()\n",
      "  File \"/home/harshv834/anaconda3/envs/ada/lib/python3.7/site-packages/torch/utils/data/dataloader.py\", line 917, in _shutdown_workers\n",
      "    if not self._shutdown:\n",
      "AttributeError: '_MultiProcessingDataLoaderIter' object has no attribute '_shutdown'\n",
      "Exception ignored in: <function _MultiProcessingDataLoaderIter.__del__ at 0x7f45ed6782f0>\n",
      "Traceback (most recent call last):\n",
      "  File \"/home/harshv834/anaconda3/envs/ada/lib/python3.7/site-packages/torch/utils/data/dataloader.py\", line 962, in __del__\n",
      "Exception ignored in: <function _MultiProcessingDataLoaderIter.__del__ at 0x7f45ed6782f0>\n",
      "Traceback (most recent call last):\n",
      "    self._shutdown_workers()\n",
      "  File \"/home/harshv834/anaconda3/envs/ada/lib/python3.7/site-packages/torch/utils/data/dataloader.py\", line 962, in __del__\n",
      "  File \"/home/harshv834/anaconda3/envs/ada/lib/python3.7/site-packages/torch/utils/data/dataloader.py\", line 917, in _shutdown_workers\n",
      "    self._shutdown_workers()\n",
      "  File \"/home/harshv834/anaconda3/envs/ada/lib/python3.7/site-packages/torch/utils/data/dataloader.py\", line 917, in _shutdown_workers\n",
      "    if not self._shutdown:\n",
      "    if not self._shutdown:\n",
      "AttributeError: '_MultiProcessingDataLoaderIter' object has no attribute '_shutdown'\n",
      "AttributeError: '_MultiProcessingDataLoaderIter' object has no attribute '_shutdown'\n",
      "\n",
      "\n",
      "\n",
      "\n",
      " 95%|█████████▌| 190/200 [02:04<00:06,  1.49it/s]\u001b[A\u001b[A\u001b[A\u001b[A"
     ]
    },
    {
     "name": "stdout",
     "output_type": "stream",
     "text": [
      "Epoch : 189  ,   Train Accuracy : 55.10  , Validation Accuracy : 52.60 , Training Loss : 0.022181\n"
     ]
    },
    {
     "name": "stderr",
     "output_type": "stream",
     "text": [
      "Exception ignored in: <function _MultiProcessingDataLoaderIter.__del__ at 0x7f45ed6782f0>\n",
      "Traceback (most recent call last):\n",
      "  File \"/home/harshv834/anaconda3/envs/ada/lib/python3.7/site-packages/torch/utils/data/dataloader.py\", line 962, in __del__\n",
      "    self._shutdown_workers()\n",
      "  File \"/home/harshv834/anaconda3/envs/ada/lib/python3.7/site-packages/torch/utils/data/dataloader.py\", line 917, in _shutdown_workers\n",
      "    if not self._shutdown:\n",
      "AttributeError: '_MultiProcessingDataLoaderIter' object has no attribute '_shutdown'\n",
      "Exception ignored in: <function _MultiProcessingDataLoaderIter.__del__ at 0x7f45ed6782f0>\n",
      "Traceback (most recent call last):\n",
      "  File \"/home/harshv834/anaconda3/envs/ada/lib/python3.7/site-packages/torch/utils/data/dataloader.py\", line 962, in __del__\n",
      "    self._shutdown_workers()\n",
      "  File \"/home/harshv834/anaconda3/envs/ada/lib/python3.7/site-packages/torch/utils/data/dataloader.py\", line 917, in _shutdown_workers\n",
      "    if not self._shutdown:\n",
      "AttributeError: '_MultiProcessingDataLoaderIter' object has no attribute '_shutdown'\n",
      "Exception ignored in: <function _MultiProcessingDataLoaderIter.__del__ at 0x7f45ed6782f0>\n",
      "Exception ignored in: <function _MultiProcessingDataLoaderIter.__del__ at 0x7f45ed6782f0>\n",
      "Traceback (most recent call last):\n",
      "Traceback (most recent call last):\n",
      "  File \"/home/harshv834/anaconda3/envs/ada/lib/python3.7/site-packages/torch/utils/data/dataloader.py\", line 962, in __del__\n",
      "  File \"/home/harshv834/anaconda3/envs/ada/lib/python3.7/site-packages/torch/utils/data/dataloader.py\", line 962, in __del__\n",
      "    self._shutdown_workers()\n",
      "    self._shutdown_workers()\n",
      "  File \"/home/harshv834/anaconda3/envs/ada/lib/python3.7/site-packages/torch/utils/data/dataloader.py\", line 917, in _shutdown_workers\n",
      "  File \"/home/harshv834/anaconda3/envs/ada/lib/python3.7/site-packages/torch/utils/data/dataloader.py\", line 917, in _shutdown_workers\n",
      "    if not self._shutdown:\n",
      "AttributeError: '_MultiProcessingDataLoaderIter' object has no attribute '_shutdown'\n",
      "    if not self._shutdown:\n",
      "AttributeError: '_MultiProcessingDataLoaderIter' object has no attribute '_shutdown'\n",
      "Exception ignored in: <function _MultiProcessingDataLoaderIter.__del__ at 0x7f45ed6782f0>\n",
      "Traceback (most recent call last):\n",
      "  File \"/home/harshv834/anaconda3/envs/ada/lib/python3.7/site-packages/torch/utils/data/dataloader.py\", line 962, in __del__\n",
      "    self._shutdown_workers()\n",
      "  File \"/home/harshv834/anaconda3/envs/ada/lib/python3.7/site-packages/torch/utils/data/dataloader.py\", line 917, in _shutdown_workers\n",
      "    if not self._shutdown:\n",
      "AttributeError: '_MultiProcessingDataLoaderIter' object has no attribute '_shutdown'\n",
      "Exception ignored in: <function _MultiProcessingDataLoaderIter.__del__ at 0x7f45ed6782f0>\n",
      "Traceback (most recent call last):\n",
      "  File \"/home/harshv834/anaconda3/envs/ada/lib/python3.7/site-packages/torch/utils/data/dataloader.py\", line 962, in __del__\n",
      "    self._shutdown_workers()\n",
      "  File \"/home/harshv834/anaconda3/envs/ada/lib/python3.7/site-packages/torch/utils/data/dataloader.py\", line 917, in _shutdown_workers\n",
      "    if not self._shutdown:\n",
      "AttributeError: '_MultiProcessingDataLoaderIter' object has no attribute '_shutdown'\n",
      "\n",
      "\n",
      "\n",
      "\n",
      " 96%|█████████▌| 191/200 [02:04<00:05,  1.51it/s]\u001b[A\u001b[A\u001b[A\u001b[A"
     ]
    },
    {
     "name": "stdout",
     "output_type": "stream",
     "text": [
      "Epoch : 190  ,   Train Accuracy : 55.10  , Validation Accuracy : 52.60 , Training Loss : 0.022181\n"
     ]
    },
    {
     "name": "stderr",
     "output_type": "stream",
     "text": [
      "Exception ignored in: <function _MultiProcessingDataLoaderIter.__del__ at 0x7f45ed6782f0>\n",
      "Traceback (most recent call last):\n",
      "  File \"/home/harshv834/anaconda3/envs/ada/lib/python3.7/site-packages/torch/utils/data/dataloader.py\", line 962, in __del__\n",
      "    self._shutdown_workers()\n",
      "  File \"/home/harshv834/anaconda3/envs/ada/lib/python3.7/site-packages/torch/utils/data/dataloader.py\", line 917, in _shutdown_workers\n",
      "    if not self._shutdown:\n",
      "AttributeError: '_MultiProcessingDataLoaderIter' object has no attribute '_shutdown'\n",
      "Exception ignored in: <function _MultiProcessingDataLoaderIter.__del__ at 0x7f45ed6782f0>\n",
      "Traceback (most recent call last):\n",
      "  File \"/home/harshv834/anaconda3/envs/ada/lib/python3.7/site-packages/torch/utils/data/dataloader.py\", line 962, in __del__\n",
      "    self._shutdown_workers()\n",
      "  File \"/home/harshv834/anaconda3/envs/ada/lib/python3.7/site-packages/torch/utils/data/dataloader.py\", line 917, in _shutdown_workers\n",
      "    if not self._shutdown:\n",
      "AttributeError: '_MultiProcessingDataLoaderIter' object has no attribute '_shutdown'\n",
      "Exception ignored in: <function _MultiProcessingDataLoaderIter.__del__ at 0x7f45ed6782f0>\n",
      "Traceback (most recent call last):\n",
      "  File \"/home/harshv834/anaconda3/envs/ada/lib/python3.7/site-packages/torch/utils/data/dataloader.py\", line 962, in __del__\n",
      "Exception ignored in: <function _MultiProcessingDataLoaderIter.__del__ at 0x7f45ed6782f0>\n",
      "    self._shutdown_workers()\n",
      "Traceback (most recent call last):\n",
      "  File \"/home/harshv834/anaconda3/envs/ada/lib/python3.7/site-packages/torch/utils/data/dataloader.py\", line 917, in _shutdown_workers\n",
      "  File \"/home/harshv834/anaconda3/envs/ada/lib/python3.7/site-packages/torch/utils/data/dataloader.py\", line 962, in __del__\n",
      "    if not self._shutdown:\n",
      "AttributeError: '_MultiProcessingDataLoaderIter' object has no attribute '_shutdown'\n",
      "    self._shutdown_workers()\n",
      "  File \"/home/harshv834/anaconda3/envs/ada/lib/python3.7/site-packages/torch/utils/data/dataloader.py\", line 917, in _shutdown_workers\n",
      "    if not self._shutdown:\n",
      "AttributeError: '_MultiProcessingDataLoaderIter' object has no attribute '_shutdown'\n",
      "Exception ignored in: <function _MultiProcessingDataLoaderIter.__del__ at 0x7f45ed6782f0>\n",
      "Traceback (most recent call last):\n",
      "  File \"/home/harshv834/anaconda3/envs/ada/lib/python3.7/site-packages/torch/utils/data/dataloader.py\", line 962, in __del__\n",
      "    self._shutdown_workers()\n",
      "  File \"/home/harshv834/anaconda3/envs/ada/lib/python3.7/site-packages/torch/utils/data/dataloader.py\", line 917, in _shutdown_workers\n",
      "    if not self._shutdown:\n",
      "AttributeError: '_MultiProcessingDataLoaderIter' object has no attribute '_shutdown'\n",
      "Exception ignored in: <function _MultiProcessingDataLoaderIter.__del__ at 0x7f45ed6782f0>\n",
      "Traceback (most recent call last):\n",
      "  File \"/home/harshv834/anaconda3/envs/ada/lib/python3.7/site-packages/torch/utils/data/dataloader.py\", line 962, in __del__\n",
      "    self._shutdown_workers()\n",
      "  File \"/home/harshv834/anaconda3/envs/ada/lib/python3.7/site-packages/torch/utils/data/dataloader.py\", line 917, in _shutdown_workers\n",
      "    if not self._shutdown:\n",
      "AttributeError: '_MultiProcessingDataLoaderIter' object has no attribute '_shutdown'\n",
      "\n",
      "\n",
      "\n",
      "\n",
      " 96%|█████████▌| 192/200 [02:05<00:05,  1.52it/s]\u001b[A\u001b[A\u001b[A\u001b[A"
     ]
    },
    {
     "name": "stdout",
     "output_type": "stream",
     "text": [
      "Epoch : 191  ,   Train Accuracy : 55.10  , Validation Accuracy : 52.60 , Training Loss : 0.022181\n"
     ]
    },
    {
     "name": "stderr",
     "output_type": "stream",
     "text": [
      "Exception ignored in: <function _MultiProcessingDataLoaderIter.__del__ at 0x7f45ed6782f0>\n",
      "Traceback (most recent call last):\n",
      "  File \"/home/harshv834/anaconda3/envs/ada/lib/python3.7/site-packages/torch/utils/data/dataloader.py\", line 962, in __del__\n",
      "    self._shutdown_workers()\n",
      "Exception ignored in: <function _MultiProcessingDataLoaderIter.__del__ at 0x7f45ed6782f0>\n",
      "  File \"/home/harshv834/anaconda3/envs/ada/lib/python3.7/site-packages/torch/utils/data/dataloader.py\", line 917, in _shutdown_workers\n",
      "Traceback (most recent call last):\n",
      "    if not self._shutdown:\n",
      "AttributeError: '_MultiProcessingDataLoaderIter' object has no attribute '_shutdown'\n",
      "  File \"/home/harshv834/anaconda3/envs/ada/lib/python3.7/site-packages/torch/utils/data/dataloader.py\", line 962, in __del__\n",
      "    self._shutdown_workers()\n",
      "  File \"/home/harshv834/anaconda3/envs/ada/lib/python3.7/site-packages/torch/utils/data/dataloader.py\", line 917, in _shutdown_workers\n",
      "    if not self._shutdown:\n",
      "AttributeError: '_MultiProcessingDataLoaderIter' object has no attribute '_shutdown'\n",
      "Exception ignored in: <function _MultiProcessingDataLoaderIter.__del__ at 0x7f45ed6782f0>\n",
      "Traceback (most recent call last):\n",
      "  File \"/home/harshv834/anaconda3/envs/ada/lib/python3.7/site-packages/torch/utils/data/dataloader.py\", line 962, in __del__\n",
      "    self._shutdown_workers()\n",
      "  File \"/home/harshv834/anaconda3/envs/ada/lib/python3.7/site-packages/torch/utils/data/dataloader.py\", line 917, in _shutdown_workers\n",
      "    if not self._shutdown:\n",
      "Exception ignored in: <function _MultiProcessingDataLoaderIter.__del__ at 0x7f45ed6782f0>\n",
      "Traceback (most recent call last):\n",
      "AttributeError: '_MultiProcessingDataLoaderIter' object has no attribute '_shutdown'\n",
      "  File \"/home/harshv834/anaconda3/envs/ada/lib/python3.7/site-packages/torch/utils/data/dataloader.py\", line 962, in __del__\n",
      "    self._shutdown_workers()\n",
      "  File \"/home/harshv834/anaconda3/envs/ada/lib/python3.7/site-packages/torch/utils/data/dataloader.py\", line 917, in _shutdown_workers\n",
      "    if not self._shutdown:\n",
      "AttributeError: '_MultiProcessingDataLoaderIter' object has no attribute '_shutdown'\n",
      "Exception ignored in: <function _MultiProcessingDataLoaderIter.__del__ at 0x7f45ed6782f0>\n",
      "Traceback (most recent call last):\n",
      "  File \"/home/harshv834/anaconda3/envs/ada/lib/python3.7/site-packages/torch/utils/data/dataloader.py\", line 962, in __del__\n",
      "    self._shutdown_workers()\n",
      "Exception ignored in: <function _MultiProcessingDataLoaderIter.__del__ at 0x7f45ed6782f0>\n",
      "Traceback (most recent call last):\n",
      "  File \"/home/harshv834/anaconda3/envs/ada/lib/python3.7/site-packages/torch/utils/data/dataloader.py\", line 962, in __del__\n",
      "  File \"/home/harshv834/anaconda3/envs/ada/lib/python3.7/site-packages/torch/utils/data/dataloader.py\", line 917, in _shutdown_workers\n",
      "    self._shutdown_workers()\n",
      "    if not self._shutdown:\n",
      "  File \"/home/harshv834/anaconda3/envs/ada/lib/python3.7/site-packages/torch/utils/data/dataloader.py\", line 917, in _shutdown_workers\n",
      "    if not self._shutdown:\n",
      "AttributeError: '_MultiProcessingDataLoaderIter' object has no attribute '_shutdown'\n",
      "AttributeError: '_MultiProcessingDataLoaderIter' object has no attribute '_shutdown'\n",
      "\n",
      "\n",
      "\n",
      "\n",
      " 96%|█████████▋| 193/200 [02:06<00:04,  1.48it/s]\u001b[A\u001b[A\u001b[A\u001b[A"
     ]
    },
    {
     "name": "stdout",
     "output_type": "stream",
     "text": [
      "Epoch : 192  ,   Train Accuracy : 55.10  , Validation Accuracy : 52.60 , Training Loss : 0.022181\n"
     ]
    },
    {
     "name": "stderr",
     "output_type": "stream",
     "text": [
      "Exception ignored in: <function _MultiProcessingDataLoaderIter.__del__ at 0x7f45ed6782f0>\n",
      "Traceback (most recent call last):\n",
      "  File \"/home/harshv834/anaconda3/envs/ada/lib/python3.7/site-packages/torch/utils/data/dataloader.py\", line 962, in __del__\n",
      "    self._shutdown_workers()\n",
      "  File \"/home/harshv834/anaconda3/envs/ada/lib/python3.7/site-packages/torch/utils/data/dataloader.py\", line 917, in _shutdown_workers\n",
      "    if not self._shutdown:\n",
      "Exception ignored in: <function _MultiProcessingDataLoaderIter.__del__ at 0x7f45ed6782f0>\n",
      "Traceback (most recent call last):\n",
      "AttributeError: '_MultiProcessingDataLoaderIter' object has no attribute '_shutdown'\n",
      "  File \"/home/harshv834/anaconda3/envs/ada/lib/python3.7/site-packages/torch/utils/data/dataloader.py\", line 962, in __del__\n",
      "    self._shutdown_workers()\n",
      "  File \"/home/harshv834/anaconda3/envs/ada/lib/python3.7/site-packages/torch/utils/data/dataloader.py\", line 917, in _shutdown_workers\n",
      "    if not self._shutdown:\n",
      "AttributeError: '_MultiProcessingDataLoaderIter' object has no attribute '_shutdown'\n",
      "Exception ignored in: <function _MultiProcessingDataLoaderIter.__del__ at 0x7f45ed6782f0>\n",
      "Traceback (most recent call last):\n",
      "  File \"/home/harshv834/anaconda3/envs/ada/lib/python3.7/site-packages/torch/utils/data/dataloader.py\", line 962, in __del__\n",
      "Exception ignored in: <function _MultiProcessingDataLoaderIter.__del__ at 0x7f45ed6782f0>\n",
      "    self._shutdown_workers()\n",
      "Traceback (most recent call last):\n",
      "  File \"/home/harshv834/anaconda3/envs/ada/lib/python3.7/site-packages/torch/utils/data/dataloader.py\", line 917, in _shutdown_workers\n",
      "    if not self._shutdown:\n",
      "  File \"/home/harshv834/anaconda3/envs/ada/lib/python3.7/site-packages/torch/utils/data/dataloader.py\", line 962, in __del__\n",
      "    self._shutdown_workers()\n",
      "  File \"/home/harshv834/anaconda3/envs/ada/lib/python3.7/site-packages/torch/utils/data/dataloader.py\", line 917, in _shutdown_workers\n",
      "AttributeError: '_MultiProcessingDataLoaderIter' object has no attribute '_shutdown'\n",
      "    if not self._shutdown:\n",
      "AttributeError: '_MultiProcessingDataLoaderIter' object has no attribute '_shutdown'\n",
      "Exception ignored in: <function _MultiProcessingDataLoaderIter.__del__ at 0x7f45ed6782f0>\n",
      "Traceback (most recent call last):\n",
      "Exception ignored in: <function _MultiProcessingDataLoaderIter.__del__ at 0x7f45ed6782f0>\n",
      "Traceback (most recent call last):\n",
      "  File \"/home/harshv834/anaconda3/envs/ada/lib/python3.7/site-packages/torch/utils/data/dataloader.py\", line 962, in __del__\n",
      "  File \"/home/harshv834/anaconda3/envs/ada/lib/python3.7/site-packages/torch/utils/data/dataloader.py\", line 962, in __del__\n",
      "    self._shutdown_workers()\n",
      "    self._shutdown_workers()\n",
      "  File \"/home/harshv834/anaconda3/envs/ada/lib/python3.7/site-packages/torch/utils/data/dataloader.py\", line 917, in _shutdown_workers\n",
      "    if not self._shutdown:\n",
      "AttributeError: '_MultiProcessingDataLoaderIter' object has no attribute '_shutdown'\n",
      "  File \"/home/harshv834/anaconda3/envs/ada/lib/python3.7/site-packages/torch/utils/data/dataloader.py\", line 917, in _shutdown_workers\n",
      "    if not self._shutdown:\n",
      "AttributeError: '_MultiProcessingDataLoaderIter' object has no attribute '_shutdown'\n",
      "\n",
      "\n",
      "\n",
      "\n",
      " 97%|█████████▋| 194/200 [02:07<00:04,  1.28it/s]\u001b[A\u001b[A\u001b[A\u001b[A"
     ]
    },
    {
     "name": "stdout",
     "output_type": "stream",
     "text": [
      "Epoch : 193  ,   Train Accuracy : 55.10  , Validation Accuracy : 52.60 , Training Loss : 0.022181\n"
     ]
    },
    {
     "name": "stderr",
     "output_type": "stream",
     "text": [
      "Exception ignored in: <function _MultiProcessingDataLoaderIter.__del__ at 0x7f45ed6782f0>\n",
      "Traceback (most recent call last):\n",
      "  File \"/home/harshv834/anaconda3/envs/ada/lib/python3.7/site-packages/torch/utils/data/dataloader.py\", line 962, in __del__\n",
      "    self._shutdown_workers()\n",
      "  File \"/home/harshv834/anaconda3/envs/ada/lib/python3.7/site-packages/torch/utils/data/dataloader.py\", line 917, in _shutdown_workers\n",
      "    if not self._shutdown:\n",
      "AttributeError: '_MultiProcessingDataLoaderIter' object has no attribute '_shutdown'\n",
      "Exception ignored in: <function _MultiProcessingDataLoaderIter.__del__ at 0x7f45ed6782f0>\n",
      "Exception ignored in: <function _MultiProcessingDataLoaderIter.__del__ at 0x7f45ed6782f0>\n",
      "Traceback (most recent call last):\n",
      "Traceback (most recent call last):\n",
      "  File \"/home/harshv834/anaconda3/envs/ada/lib/python3.7/site-packages/torch/utils/data/dataloader.py\", line 962, in __del__\n",
      "  File \"/home/harshv834/anaconda3/envs/ada/lib/python3.7/site-packages/torch/utils/data/dataloader.py\", line 962, in __del__\n",
      "    self._shutdown_workers()\n",
      "  File \"/home/harshv834/anaconda3/envs/ada/lib/python3.7/site-packages/torch/utils/data/dataloader.py\", line 917, in _shutdown_workers\n",
      "    if not self._shutdown:\n",
      "AttributeError: '_MultiProcessingDataLoaderIter' object has no attribute '_shutdown'\n",
      "    self._shutdown_workers()\n",
      "  File \"/home/harshv834/anaconda3/envs/ada/lib/python3.7/site-packages/torch/utils/data/dataloader.py\", line 917, in _shutdown_workers\n",
      "    if not self._shutdown:\n",
      "AttributeError: '_MultiProcessingDataLoaderIter' object has no attribute '_shutdown'\n",
      "Exception ignored in: <function _MultiProcessingDataLoaderIter.__del__ at 0x7f45ed6782f0>\n",
      "Traceback (most recent call last):\n",
      "  File \"/home/harshv834/anaconda3/envs/ada/lib/python3.7/site-packages/torch/utils/data/dataloader.py\", line 962, in __del__\n",
      "Exception ignored in: <function _MultiProcessingDataLoaderIter.__del__ at 0x7f45ed6782f0>\n",
      "Traceback (most recent call last):\n",
      "    self._shutdown_workers()\n",
      "  File \"/home/harshv834/anaconda3/envs/ada/lib/python3.7/site-packages/torch/utils/data/dataloader.py\", line 962, in __del__\n",
      "  File \"/home/harshv834/anaconda3/envs/ada/lib/python3.7/site-packages/torch/utils/data/dataloader.py\", line 917, in _shutdown_workers\n",
      "    self._shutdown_workers()\n",
      "  File \"/home/harshv834/anaconda3/envs/ada/lib/python3.7/site-packages/torch/utils/data/dataloader.py\", line 917, in _shutdown_workers\n",
      "    if not self._shutdown:\n",
      "AttributeError: '_MultiProcessingDataLoaderIter' object has no attribute '_shutdown'\n",
      "    if not self._shutdown:\n",
      "AttributeError: '_MultiProcessingDataLoaderIter' object has no attribute '_shutdown'\n",
      "Exception ignored in: <function _MultiProcessingDataLoaderIter.__del__ at 0x7f45ed6782f0>\n",
      "Traceback (most recent call last):\n",
      "  File \"/home/harshv834/anaconda3/envs/ada/lib/python3.7/site-packages/torch/utils/data/dataloader.py\", line 962, in __del__\n",
      "    self._shutdown_workers()\n",
      "  File \"/home/harshv834/anaconda3/envs/ada/lib/python3.7/site-packages/torch/utils/data/dataloader.py\", line 917, in _shutdown_workers\n",
      "    if not self._shutdown:\n",
      "AttributeError: '_MultiProcessingDataLoaderIter' object has no attribute '_shutdown'\n",
      "Exception ignored in: <function _MultiProcessingDataLoaderIter.__del__ at 0x7f45ed6782f0>\n",
      "Traceback (most recent call last):\n",
      "  File \"/home/harshv834/anaconda3/envs/ada/lib/python3.7/site-packages/torch/utils/data/dataloader.py\", line 962, in __del__\n",
      "    self._shutdown_workers()\n",
      "  File \"/home/harshv834/anaconda3/envs/ada/lib/python3.7/site-packages/torch/utils/data/dataloader.py\", line 917, in _shutdown_workers\n",
      "    if not self._shutdown:\n",
      "AttributeError: '_MultiProcessingDataLoaderIter' object has no attribute '_shutdown'\n",
      "\n",
      "\n",
      "\n",
      "\n",
      " 98%|█████████▊| 195/200 [02:08<00:04,  1.17it/s]\u001b[A\u001b[A\u001b[A\u001b[A"
     ]
    },
    {
     "name": "stdout",
     "output_type": "stream",
     "text": [
      "Epoch : 194  ,   Train Accuracy : 55.10  , Validation Accuracy : 52.60 , Training Loss : 0.022181\n"
     ]
    },
    {
     "name": "stderr",
     "output_type": "stream",
     "text": [
      "Exception ignored in: <function _MultiProcessingDataLoaderIter.__del__ at 0x7f45ed6782f0>\n",
      "Traceback (most recent call last):\n",
      "  File \"/home/harshv834/anaconda3/envs/ada/lib/python3.7/site-packages/torch/utils/data/dataloader.py\", line 962, in __del__\n",
      "    self._shutdown_workers()\n",
      "  File \"/home/harshv834/anaconda3/envs/ada/lib/python3.7/site-packages/torch/utils/data/dataloader.py\", line 917, in _shutdown_workers\n",
      "    if not self._shutdown:\n",
      "AttributeError: '_MultiProcessingDataLoaderIter' object has no attribute '_shutdown'\n",
      "Exception ignored in: <function _MultiProcessingDataLoaderIter.__del__ at 0x7f45ed6782f0>\n",
      "Traceback (most recent call last):\n",
      "  File \"/home/harshv834/anaconda3/envs/ada/lib/python3.7/site-packages/torch/utils/data/dataloader.py\", line 962, in __del__\n",
      "Exception ignored in: <function _MultiProcessingDataLoaderIter.__del__ at 0x7f45ed6782f0>\n",
      "    self._shutdown_workers()\n",
      "  File \"/home/harshv834/anaconda3/envs/ada/lib/python3.7/site-packages/torch/utils/data/dataloader.py\", line 917, in _shutdown_workers\n",
      "    if not self._shutdown:\n",
      "Traceback (most recent call last):\n",
      "  File \"/home/harshv834/anaconda3/envs/ada/lib/python3.7/site-packages/torch/utils/data/dataloader.py\", line 962, in __del__\n",
      "    self._shutdown_workers()\n",
      "  File \"/home/harshv834/anaconda3/envs/ada/lib/python3.7/site-packages/torch/utils/data/dataloader.py\", line 917, in _shutdown_workers\n",
      "AttributeError: '_MultiProcessingDataLoaderIter' object has no attribute '_shutdown'\n",
      "    if not self._shutdown:\n",
      "AttributeError: '_MultiProcessingDataLoaderIter' object has no attribute '_shutdown'\n",
      "Exception ignored in: <function _MultiProcessingDataLoaderIter.__del__ at 0x7f45ed6782f0>\n",
      "Traceback (most recent call last):\n",
      "Exception ignored in: <function _MultiProcessingDataLoaderIter.__del__ at 0x7f45ed6782f0>\n",
      "  File \"/home/harshv834/anaconda3/envs/ada/lib/python3.7/site-packages/torch/utils/data/dataloader.py\", line 962, in __del__\n",
      "Traceback (most recent call last):\n",
      "  File \"/home/harshv834/anaconda3/envs/ada/lib/python3.7/site-packages/torch/utils/data/dataloader.py\", line 962, in __del__\n",
      "    self._shutdown_workers()\n",
      "  File \"/home/harshv834/anaconda3/envs/ada/lib/python3.7/site-packages/torch/utils/data/dataloader.py\", line 917, in _shutdown_workers\n",
      "    self._shutdown_workers()\n",
      "    if not self._shutdown:\n",
      "  File \"/home/harshv834/anaconda3/envs/ada/lib/python3.7/site-packages/torch/utils/data/dataloader.py\", line 917, in _shutdown_workers\n",
      "AttributeError: '_MultiProcessingDataLoaderIter' object has no attribute '_shutdown'\n",
      "    if not self._shutdown:\n",
      "AttributeError: '_MultiProcessingDataLoaderIter' object has no attribute '_shutdown'\n",
      "Exception ignored in: <function _MultiProcessingDataLoaderIter.__del__ at 0x7f45ed6782f0>\n",
      "Traceback (most recent call last):\n",
      "  File \"/home/harshv834/anaconda3/envs/ada/lib/python3.7/site-packages/torch/utils/data/dataloader.py\", line 962, in __del__\n",
      "    self._shutdown_workers()\n",
      "  File \"/home/harshv834/anaconda3/envs/ada/lib/python3.7/site-packages/torch/utils/data/dataloader.py\", line 917, in _shutdown_workers\n",
      "Exception ignored in: <function _MultiProcessingDataLoaderIter.__del__ at 0x7f45ed6782f0>\n",
      "Traceback (most recent call last):\n",
      "    if not self._shutdown:\n",
      "AttributeError: '_MultiProcessingDataLoaderIter' object has no attribute '_shutdown'\n",
      "  File \"/home/harshv834/anaconda3/envs/ada/lib/python3.7/site-packages/torch/utils/data/dataloader.py\", line 962, in __del__\n",
      "    self._shutdown_workers()\n",
      "  File \"/home/harshv834/anaconda3/envs/ada/lib/python3.7/site-packages/torch/utils/data/dataloader.py\", line 917, in _shutdown_workers\n",
      "    if not self._shutdown:\n",
      "AttributeError: '_MultiProcessingDataLoaderIter' object has no attribute '_shutdown'\n",
      "\n",
      "\n",
      "\n",
      "\n",
      " 98%|█████████▊| 196/200 [02:09<00:03,  1.06it/s]\u001b[A\u001b[A\u001b[A\u001b[A"
     ]
    },
    {
     "name": "stdout",
     "output_type": "stream",
     "text": [
      "Epoch : 195  ,   Train Accuracy : 55.10  , Validation Accuracy : 52.60 , Training Loss : 0.022181\n"
     ]
    },
    {
     "name": "stderr",
     "output_type": "stream",
     "text": [
      "Exception ignored in: <function _MultiProcessingDataLoaderIter.__del__ at 0x7f45ed6782f0>\n",
      "Traceback (most recent call last):\n",
      "  File \"/home/harshv834/anaconda3/envs/ada/lib/python3.7/site-packages/torch/utils/data/dataloader.py\", line 962, in __del__\n",
      "    self._shutdown_workers()\n",
      "Exception ignored in: <function _MultiProcessingDataLoaderIter.__del__ at 0x7f45ed6782f0>\n",
      "  File \"/home/harshv834/anaconda3/envs/ada/lib/python3.7/site-packages/torch/utils/data/dataloader.py\", line 917, in _shutdown_workers\n",
      "    if not self._shutdown:\n",
      "AttributeError: '_MultiProcessingDataLoaderIter' object has no attribute '_shutdown'\n",
      "Traceback (most recent call last):\n",
      "  File \"/home/harshv834/anaconda3/envs/ada/lib/python3.7/site-packages/torch/utils/data/dataloader.py\", line 962, in __del__\n",
      "    self._shutdown_workers()\n",
      "  File \"/home/harshv834/anaconda3/envs/ada/lib/python3.7/site-packages/torch/utils/data/dataloader.py\", line 917, in _shutdown_workers\n",
      "    if not self._shutdown:\n",
      "AttributeError: '_MultiProcessingDataLoaderIter' object has no attribute '_shutdown'\n",
      "Exception ignored in: <function _MultiProcessingDataLoaderIter.__del__ at 0x7f45ed6782f0>\n",
      "Traceback (most recent call last):\n",
      "  File \"/home/harshv834/anaconda3/envs/ada/lib/python3.7/site-packages/torch/utils/data/dataloader.py\", line 962, in __del__\n",
      "    self._shutdown_workers()\n",
      "  File \"/home/harshv834/anaconda3/envs/ada/lib/python3.7/site-packages/torch/utils/data/dataloader.py\", line 917, in _shutdown_workers\n",
      "    if not self._shutdown:\n",
      "AttributeError: '_MultiProcessingDataLoaderIter' object has no attribute '_shutdown'\n",
      "Exception ignored in: <function _MultiProcessingDataLoaderIter.__del__ at 0x7f45ed6782f0>\n",
      "Traceback (most recent call last):\n",
      "  File \"/home/harshv834/anaconda3/envs/ada/lib/python3.7/site-packages/torch/utils/data/dataloader.py\", line 962, in __del__\n",
      "    self._shutdown_workers()\n",
      "  File \"/home/harshv834/anaconda3/envs/ada/lib/python3.7/site-packages/torch/utils/data/dataloader.py\", line 917, in _shutdown_workers\n",
      "    if not self._shutdown:\n",
      "AttributeError: '_MultiProcessingDataLoaderIter' object has no attribute '_shutdown'\n",
      "Exception ignored in: <function _MultiProcessingDataLoaderIter.__del__ at 0x7f45ed6782f0>\n",
      "Traceback (most recent call last):\n",
      "  File \"/home/harshv834/anaconda3/envs/ada/lib/python3.7/site-packages/torch/utils/data/dataloader.py\", line 962, in __del__\n",
      "    self._shutdown_workers()\n",
      "  File \"/home/harshv834/anaconda3/envs/ada/lib/python3.7/site-packages/torch/utils/data/dataloader.py\", line 917, in _shutdown_workers\n",
      "    if not self._shutdown:\n",
      "AttributeError: '_MultiProcessingDataLoaderIter' object has no attribute '_shutdown'\n",
      "Exception ignored in: <function _MultiProcessingDataLoaderIter.__del__ at 0x7f45ed6782f0>\n",
      "Traceback (most recent call last):\n",
      "  File \"/home/harshv834/anaconda3/envs/ada/lib/python3.7/site-packages/torch/utils/data/dataloader.py\", line 962, in __del__\n",
      "    self._shutdown_workers()\n",
      "  File \"/home/harshv834/anaconda3/envs/ada/lib/python3.7/site-packages/torch/utils/data/dataloader.py\", line 917, in _shutdown_workers\n",
      "    if not self._shutdown:\n",
      "AttributeError: '_MultiProcessingDataLoaderIter' object has no attribute '_shutdown'\n",
      "Exception ignored in: <function _MultiProcessingDataLoaderIter.__del__ at 0x7f45ed6782f0>\n",
      "Traceback (most recent call last):\n",
      "  File \"/home/harshv834/anaconda3/envs/ada/lib/python3.7/site-packages/torch/utils/data/dataloader.py\", line 962, in __del__\n",
      "    self._shutdown_workers()\n",
      "  File \"/home/harshv834/anaconda3/envs/ada/lib/python3.7/site-packages/torch/utils/data/dataloader.py\", line 917, in _shutdown_workers\n",
      "    if not self._shutdown:\n",
      "AttributeError: '_MultiProcessingDataLoaderIter' object has no attribute '_shutdown'\n",
      "\n",
      "\n",
      "\n",
      "\n",
      " 98%|█████████▊| 197/200 [02:10<00:02,  1.07it/s]\u001b[A\u001b[A\u001b[A\u001b[A"
     ]
    },
    {
     "name": "stdout",
     "output_type": "stream",
     "text": [
      "Epoch : 196  ,   Train Accuracy : 55.10  , Validation Accuracy : 52.60 , Training Loss : 0.022181\n"
     ]
    },
    {
     "name": "stderr",
     "output_type": "stream",
     "text": [
      "Exception ignored in: <function _MultiProcessingDataLoaderIter.__del__ at 0x7f45ed6782f0>\n",
      "Traceback (most recent call last):\n",
      "  File \"/home/harshv834/anaconda3/envs/ada/lib/python3.7/site-packages/torch/utils/data/dataloader.py\", line 962, in __del__\n",
      "    self._shutdown_workers()\n",
      "Exception ignored in: <function _MultiProcessingDataLoaderIter.__del__ at 0x7f45ed6782f0>\n",
      "Traceback (most recent call last):\n",
      "  File \"/home/harshv834/anaconda3/envs/ada/lib/python3.7/site-packages/torch/utils/data/dataloader.py\", line 917, in _shutdown_workers\n",
      "    if not self._shutdown:\n",
      "AttributeError: '_MultiProcessingDataLoaderIter' object has no attribute '_shutdown'\n",
      "  File \"/home/harshv834/anaconda3/envs/ada/lib/python3.7/site-packages/torch/utils/data/dataloader.py\", line 962, in __del__\n",
      "    self._shutdown_workers()\n",
      "Exception ignored in: <function _MultiProcessingDataLoaderIter.__del__ at 0x7f45ed6782f0>\n",
      "Traceback (most recent call last):\n",
      "  File \"/home/harshv834/anaconda3/envs/ada/lib/python3.7/site-packages/torch/utils/data/dataloader.py\", line 917, in _shutdown_workers\n",
      "  File \"/home/harshv834/anaconda3/envs/ada/lib/python3.7/site-packages/torch/utils/data/dataloader.py\", line 962, in __del__\n",
      "    if not self._shutdown:\n",
      "    self._shutdown_workers()\n",
      "AttributeError: '_MultiProcessingDataLoaderIter' object has no attribute '_shutdown'\n",
      "  File \"/home/harshv834/anaconda3/envs/ada/lib/python3.7/site-packages/torch/utils/data/dataloader.py\", line 917, in _shutdown_workers\n",
      "    if not self._shutdown:\n",
      "AttributeError: '_MultiProcessingDataLoaderIter' object has no attribute '_shutdown'\n",
      "Exception ignored in: <function _MultiProcessingDataLoaderIter.__del__ at 0x7f45ed6782f0>\n",
      "Traceback (most recent call last):\n",
      "  File \"/home/harshv834/anaconda3/envs/ada/lib/python3.7/site-packages/torch/utils/data/dataloader.py\", line 962, in __del__\n",
      "    self._shutdown_workers()\n",
      "  File \"/home/harshv834/anaconda3/envs/ada/lib/python3.7/site-packages/torch/utils/data/dataloader.py\", line 917, in _shutdown_workers\n",
      "    if not self._shutdown:\n",
      "AttributeError: '_MultiProcessingDataLoaderIter' object has no attribute '_shutdown'\n",
      "Exception ignored in: <function _MultiProcessingDataLoaderIter.__del__ at 0x7f45ed6782f0>\n",
      "Traceback (most recent call last):\n",
      "  File \"/home/harshv834/anaconda3/envs/ada/lib/python3.7/site-packages/torch/utils/data/dataloader.py\", line 962, in __del__\n",
      "    self._shutdown_workers()\n",
      "  File \"/home/harshv834/anaconda3/envs/ada/lib/python3.7/site-packages/torch/utils/data/dataloader.py\", line 917, in _shutdown_workers\n",
      "    if not self._shutdown:\n",
      "AttributeError: '_MultiProcessingDataLoaderIter' object has no attribute '_shutdown'\n",
      "Exception ignored in: <function _MultiProcessingDataLoaderIter.__del__ at 0x7f45ed6782f0>\n",
      "Traceback (most recent call last):\n",
      "Exception ignored in: <function _MultiProcessingDataLoaderIter.__del__ at 0x7f45ed6782f0>\n",
      "  File \"/home/harshv834/anaconda3/envs/ada/lib/python3.7/site-packages/torch/utils/data/dataloader.py\", line 962, in __del__\n",
      "Traceback (most recent call last):\n",
      "    self._shutdown_workers()\n",
      "  File \"/home/harshv834/anaconda3/envs/ada/lib/python3.7/site-packages/torch/utils/data/dataloader.py\", line 917, in _shutdown_workers\n",
      "  File \"/home/harshv834/anaconda3/envs/ada/lib/python3.7/site-packages/torch/utils/data/dataloader.py\", line 962, in __del__\n",
      "    self._shutdown_workers()\n",
      "  File \"/home/harshv834/anaconda3/envs/ada/lib/python3.7/site-packages/torch/utils/data/dataloader.py\", line 917, in _shutdown_workers\n",
      "    if not self._shutdown:\n",
      "    if not self._shutdown:\n",
      "AttributeError: '_MultiProcessingDataLoaderIter' object has no attribute '_shutdown'\n",
      "AttributeError: '_MultiProcessingDataLoaderIter' object has no attribute '_shutdown'\n",
      "Exception ignored in: <function _MultiProcessingDataLoaderIter.__del__ at 0x7f45ed6782f0>\n",
      "Traceback (most recent call last):\n",
      "  File \"/home/harshv834/anaconda3/envs/ada/lib/python3.7/site-packages/torch/utils/data/dataloader.py\", line 962, in __del__\n",
      "    self._shutdown_workers()\n",
      "  File \"/home/harshv834/anaconda3/envs/ada/lib/python3.7/site-packages/torch/utils/data/dataloader.py\", line 917, in _shutdown_workers\n",
      "    if not self._shutdown:\n",
      "AttributeError: '_MultiProcessingDataLoaderIter' object has no attribute '_shutdown'\n",
      "\n",
      "\n",
      "\n",
      "\n",
      " 99%|█████████▉| 198/200 [02:11<00:01,  1.06it/s]\u001b[A\u001b[A\u001b[A\u001b[A"
     ]
    },
    {
     "name": "stdout",
     "output_type": "stream",
     "text": [
      "Epoch : 197  ,   Train Accuracy : 55.10  , Validation Accuracy : 52.60 , Training Loss : 0.022181\n"
     ]
    },
    {
     "name": "stderr",
     "output_type": "stream",
     "text": [
      "Exception ignored in: <function _MultiProcessingDataLoaderIter.__del__ at 0x7f45ed6782f0>\n",
      "Traceback (most recent call last):\n",
      "  File \"/home/harshv834/anaconda3/envs/ada/lib/python3.7/site-packages/torch/utils/data/dataloader.py\", line 962, in __del__\n",
      "    self._shutdown_workers()\n",
      "  File \"/home/harshv834/anaconda3/envs/ada/lib/python3.7/site-packages/torch/utils/data/dataloader.py\", line 917, in _shutdown_workers\n",
      "    if not self._shutdown:\n",
      "Exception ignored in: <function _MultiProcessingDataLoaderIter.__del__ at 0x7f45ed6782f0>\n",
      "Traceback (most recent call last):\n",
      "AttributeError: '_MultiProcessingDataLoaderIter' object has no attribute '_shutdown'\n",
      "  File \"/home/harshv834/anaconda3/envs/ada/lib/python3.7/site-packages/torch/utils/data/dataloader.py\", line 962, in __del__\n",
      "    self._shutdown_workers()\n",
      "  File \"/home/harshv834/anaconda3/envs/ada/lib/python3.7/site-packages/torch/utils/data/dataloader.py\", line 917, in _shutdown_workers\n",
      "    if not self._shutdown:\n",
      "AttributeError: '_MultiProcessingDataLoaderIter' object has no attribute '_shutdown'\n",
      "Exception ignored in: <function _MultiProcessingDataLoaderIter.__del__ at 0x7f45ed6782f0>\n",
      "Traceback (most recent call last):\n",
      "  File \"/home/harshv834/anaconda3/envs/ada/lib/python3.7/site-packages/torch/utils/data/dataloader.py\", line 962, in __del__\n",
      "    self._shutdown_workers()\n",
      "  File \"/home/harshv834/anaconda3/envs/ada/lib/python3.7/site-packages/torch/utils/data/dataloader.py\", line 917, in _shutdown_workers\n",
      "    if not self._shutdown:\n",
      "AttributeError: '_MultiProcessingDataLoaderIter' object has no attribute '_shutdown'\n",
      "Exception ignored in: <function _MultiProcessingDataLoaderIter.__del__ at 0x7f45ed6782f0>\n",
      "Traceback (most recent call last):\n",
      "Exception ignored in: <function _MultiProcessingDataLoaderIter.__del__ at 0x7f45ed6782f0>\n",
      "Traceback (most recent call last):\n",
      "Exception ignored in: <function _MultiProcessingDataLoaderIter.__del__ at 0x7f45ed6782f0>\n",
      "  File \"/home/harshv834/anaconda3/envs/ada/lib/python3.7/site-packages/torch/utils/data/dataloader.py\", line 962, in __del__\n",
      "  File \"/home/harshv834/anaconda3/envs/ada/lib/python3.7/site-packages/torch/utils/data/dataloader.py\", line 962, in __del__\n",
      "    self._shutdown_workers()\n",
      "    self._shutdown_workers()\n",
      "  File \"/home/harshv834/anaconda3/envs/ada/lib/python3.7/site-packages/torch/utils/data/dataloader.py\", line 917, in _shutdown_workers\n",
      "  File \"/home/harshv834/anaconda3/envs/ada/lib/python3.7/site-packages/torch/utils/data/dataloader.py\", line 917, in _shutdown_workers\n",
      "    if not self._shutdown:\n",
      "    if not self._shutdown:\n",
      "AttributeError: '_MultiProcessingDataLoaderIter' object has no attribute '_shutdown'\n",
      "AttributeError: '_MultiProcessingDataLoaderIter' object has no attribute '_shutdown'\n",
      "Traceback (most recent call last):\n",
      "  File \"/home/harshv834/anaconda3/envs/ada/lib/python3.7/site-packages/torch/utils/data/dataloader.py\", line 962, in __del__\n",
      "    self._shutdown_workers()\n",
      "  File \"/home/harshv834/anaconda3/envs/ada/lib/python3.7/site-packages/torch/utils/data/dataloader.py\", line 917, in _shutdown_workers\n",
      "    if not self._shutdown:\n",
      "AttributeError: '_MultiProcessingDataLoaderIter' object has no attribute '_shutdown'\n",
      "Exception ignored in: <function _MultiProcessingDataLoaderIter.__del__ at 0x7f45ed6782f0>\n",
      "Traceback (most recent call last):\n",
      "  File \"/home/harshv834/anaconda3/envs/ada/lib/python3.7/site-packages/torch/utils/data/dataloader.py\", line 962, in __del__\n",
      "    self._shutdown_workers()\n",
      "  File \"/home/harshv834/anaconda3/envs/ada/lib/python3.7/site-packages/torch/utils/data/dataloader.py\", line 917, in _shutdown_workers\n",
      "    if not self._shutdown:\n",
      "AttributeError: '_MultiProcessingDataLoaderIter' object has no attribute '_shutdown'\n",
      "Exception ignored in: <function _MultiProcessingDataLoaderIter.__del__ at 0x7f45ed6782f0>\n",
      "Traceback (most recent call last):\n",
      "  File \"/home/harshv834/anaconda3/envs/ada/lib/python3.7/site-packages/torch/utils/data/dataloader.py\", line 962, in __del__\n",
      "    self._shutdown_workers()\n",
      "Exception ignored in: <function _MultiProcessingDataLoaderIter.__del__ at 0x7f45ed6782f0>\n",
      "  File \"/home/harshv834/anaconda3/envs/ada/lib/python3.7/site-packages/torch/utils/data/dataloader.py\", line 917, in _shutdown_workers\n",
      "Traceback (most recent call last):\n",
      "  File \"/home/harshv834/anaconda3/envs/ada/lib/python3.7/site-packages/torch/utils/data/dataloader.py\", line 962, in __del__\n",
      "    if not self._shutdown:\n",
      "AttributeError: '_MultiProcessingDataLoaderIter' object has no attribute '_shutdown'\n",
      "    self._shutdown_workers()\n",
      "  File \"/home/harshv834/anaconda3/envs/ada/lib/python3.7/site-packages/torch/utils/data/dataloader.py\", line 917, in _shutdown_workers\n",
      "    if not self._shutdown:\n",
      "AttributeError: '_MultiProcessingDataLoaderIter' object has no attribute '_shutdown'\n",
      "\n",
      "\n",
      "\n",
      "\n",
      "100%|█████████▉| 199/200 [02:12<00:00,  1.06it/s]\u001b[A\u001b[A\u001b[A\u001b[A"
     ]
    },
    {
     "name": "stdout",
     "output_type": "stream",
     "text": [
      "Epoch : 198  ,   Train Accuracy : 55.10  , Validation Accuracy : 52.60 , Training Loss : 0.022181\n"
     ]
    },
    {
     "name": "stderr",
     "output_type": "stream",
     "text": [
      "Exception ignored in: <function _MultiProcessingDataLoaderIter.__del__ at 0x7f45ed6782f0>\n",
      "Exception ignored in: <function _MultiProcessingDataLoaderIter.__del__ at 0x7f45ed6782f0>\n",
      "Traceback (most recent call last):\n",
      "  File \"/home/harshv834/anaconda3/envs/ada/lib/python3.7/site-packages/torch/utils/data/dataloader.py\", line 962, in __del__\n",
      "Exception ignored in: <function _MultiProcessingDataLoaderIter.__del__ at 0x7f45ed6782f0>\n",
      "Traceback (most recent call last):\n",
      "  File \"/home/harshv834/anaconda3/envs/ada/lib/python3.7/site-packages/torch/utils/data/dataloader.py\", line 962, in __del__\n",
      "    self._shutdown_workers()\n",
      "Traceback (most recent call last):\n",
      "  File \"/home/harshv834/anaconda3/envs/ada/lib/python3.7/site-packages/torch/utils/data/dataloader.py\", line 917, in _shutdown_workers\n",
      "    self._shutdown_workers()\n",
      "  File \"/home/harshv834/anaconda3/envs/ada/lib/python3.7/site-packages/torch/utils/data/dataloader.py\", line 962, in __del__\n",
      "    self._shutdown_workers()\n",
      "  File \"/home/harshv834/anaconda3/envs/ada/lib/python3.7/site-packages/torch/utils/data/dataloader.py\", line 917, in _shutdown_workers\n",
      "    if not self._shutdown:\n",
      "AttributeError: '_MultiProcessingDataLoaderIter' object has no attribute '_shutdown'\n",
      "    if not self._shutdown:\n",
      "AttributeError: '_MultiProcessingDataLoaderIter' object has no attribute '_shutdown'\n",
      "  File \"/home/harshv834/anaconda3/envs/ada/lib/python3.7/site-packages/torch/utils/data/dataloader.py\", line 917, in _shutdown_workers\n",
      "    if not self._shutdown:\n",
      "AttributeError: '_MultiProcessingDataLoaderIter' object has no attribute '_shutdown'\n",
      "Exception ignored in: <function _MultiProcessingDataLoaderIter.__del__ at 0x7f45ed6782f0>\n",
      "Traceback (most recent call last):\n",
      "  File \"/home/harshv834/anaconda3/envs/ada/lib/python3.7/site-packages/torch/utils/data/dataloader.py\", line 962, in __del__\n",
      "    self._shutdown_workers()\n",
      "  File \"/home/harshv834/anaconda3/envs/ada/lib/python3.7/site-packages/torch/utils/data/dataloader.py\", line 917, in _shutdown_workers\n",
      "    if not self._shutdown:\n",
      "AttributeError: '_MultiProcessingDataLoaderIter' object has no attribute '_shutdown'\n",
      "Exception ignored in: <function _MultiProcessingDataLoaderIter.__del__ at 0x7f45ed6782f0>\n",
      "Exception ignored in: <function _MultiProcessingDataLoaderIter.__del__ at 0x7f45ed6782f0>\n",
      "Traceback (most recent call last):\n",
      "Traceback (most recent call last):\n",
      "  File \"/home/harshv834/anaconda3/envs/ada/lib/python3.7/site-packages/torch/utils/data/dataloader.py\", line 962, in __del__\n",
      "  File \"/home/harshv834/anaconda3/envs/ada/lib/python3.7/site-packages/torch/utils/data/dataloader.py\", line 962, in __del__\n",
      "    self._shutdown_workers()\n",
      "    self._shutdown_workers()\n",
      "  File \"/home/harshv834/anaconda3/envs/ada/lib/python3.7/site-packages/torch/utils/data/dataloader.py\", line 917, in _shutdown_workers\n",
      "    if not self._shutdown:\n",
      "AttributeError: '_MultiProcessingDataLoaderIter' object has no attribute '_shutdown'\n",
      "  File \"/home/harshv834/anaconda3/envs/ada/lib/python3.7/site-packages/torch/utils/data/dataloader.py\", line 917, in _shutdown_workers\n",
      "    if not self._shutdown:\n",
      "AttributeError: '_MultiProcessingDataLoaderIter' object has no attribute '_shutdown'\n",
      "Exception ignored in: <function _MultiProcessingDataLoaderIter.__del__ at 0x7f45ed6782f0>\n",
      "Traceback (most recent call last):\n",
      "  File \"/home/harshv834/anaconda3/envs/ada/lib/python3.7/site-packages/torch/utils/data/dataloader.py\", line 962, in __del__\n",
      "Exception ignored in: <function _MultiProcessingDataLoaderIter.__del__ at 0x7f45ed6782f0>\n",
      "Exception ignored in: <function _MultiProcessingDataLoaderIter.__del__ at 0x7f45ed6782f0>\n",
      "Traceback (most recent call last):\n",
      "    self._shutdown_workers()\n",
      "  File \"/home/harshv834/anaconda3/envs/ada/lib/python3.7/site-packages/torch/utils/data/dataloader.py\", line 917, in _shutdown_workers\n",
      "    if not self._shutdown:\n",
      "AttributeError: '_MultiProcessingDataLoaderIter' object has no attribute '_shutdown'\n",
      "  File \"/home/harshv834/anaconda3/envs/ada/lib/python3.7/site-packages/torch/utils/data/dataloader.py\", line 962, in __del__\n",
      "Traceback (most recent call last):\n",
      "    self._shutdown_workers()\n",
      "  File \"/home/harshv834/anaconda3/envs/ada/lib/python3.7/site-packages/torch/utils/data/dataloader.py\", line 917, in _shutdown_workers\n",
      "    if not self._shutdown:\n",
      "  File \"/home/harshv834/anaconda3/envs/ada/lib/python3.7/site-packages/torch/utils/data/dataloader.py\", line 962, in __del__\n",
      "AttributeError: '_MultiProcessingDataLoaderIter' object has no attribute '_shutdown'\n",
      "    self._shutdown_workers()\n",
      "  File \"/home/harshv834/anaconda3/envs/ada/lib/python3.7/site-packages/torch/utils/data/dataloader.py\", line 917, in _shutdown_workers\n",
      "    if not self._shutdown:\n",
      "AttributeError: '_MultiProcessingDataLoaderIter' object has no attribute '_shutdown'\n",
      "\n",
      "\n",
      "\n",
      "\n",
      "100%|██████████| 200/200 [02:12<00:00,  1.51it/s]\u001b[A\u001b[A\u001b[A\u001b[A"
     ]
    },
    {
     "name": "stdout",
     "output_type": "stream",
     "text": [
      "Epoch : 199  ,   Train Accuracy : 55.10  , Validation Accuracy : 52.60 , Training Loss : 0.022181\n"
     ]
    },
    {
     "name": "stderr",
     "output_type": "stream",
     "text": [
      "\n"
     ]
    }
   ],
   "source": [
    "net = CompareNet()\n",
    "criterion = nn.CrossEntropyLoss()\n",
    "mu = 0.0\n",
    "optimizer = optim.Adam(net.parameters(),lr = 0.1)\n",
    "train_dataset = DigitPairsDataset(train_input,train_target,train_classes)\n",
    "test_dataset = DigitPairsDataset(test_input,test_target,test_classes)\n",
    "train_loader = DataLoader(train_dataset,batch_size=32, shuffle = True, num_workers = 4)\n",
    "test_loader = DataLoader(test_dataset,batch_size=32, shuffle = True, num_workers = 4)\n",
    "\n",
    "def calc_accuracy(data_loader,model):\n",
    "    correct_count = 0.0\n",
    "    for i, data in enumerate(data_loader,0):\n",
    "        img_pair, target, classes = data\n",
    "        pred_sign, pred_class0, pred_class1 = model(img_pair)\n",
    "        pred = torch.argmax(pred_sign,-1)\n",
    "        correct_count += int((target.eq(pred)).sum())\n",
    "    return correct_count*100.0/N\n",
    "\n",
    "epochs = 200\n",
    "loss_arr = []\n",
    "train_acc_arr = []\n",
    "val_acc_arr = []\n",
    "\n",
    "for epoch in tqdm.tqdm(range(epochs)):\n",
    "    net.train()\n",
    "    running_loss = 0.0\n",
    "    for i, data in enumerate(train_loader,0):\n",
    "        img_pair, target, classes = data\n",
    "        pred_sign, pred_class0, pred_class1 = net(img_pair)\n",
    "        optimizer.zero_grad()\n",
    "        loss = criterion(pred_sign,target) + mu*(criterion(pred_class0, classes[:,0])+ criterion(pred_class1, classes[:,1]))\n",
    "        running_loss += loss.item()\n",
    "        loss.backward()\n",
    "        optimizer.step()\n",
    "    net.eval()\n",
    "    running_loss /= N\n",
    "    loss_arr.append(running_loss)\n",
    "    train_acc = calc_accuracy(train_loader,net)\n",
    "    val_acc = calc_accuracy(test_loader,net)\n",
    "    train_acc_arr.append(train_acc)\n",
    "    val_acc_arr.append(val_acc)\n",
    "    print(\"Epoch : %d  ,   Train Accuracy : %.2f  , Validation Accuracy : %2.2f , Training Loss : %.6f\" %(epoch, train_acc, val_acc, running_loss))"
   ]
  },
  {
   "cell_type": "code",
   "execution_count": null,
   "metadata": {},
   "outputs": [],
   "source": []
  }
 ],
 "metadata": {
  "kernelspec": {
   "display_name": "Python [conda env:ada] *",
   "language": "python",
   "name": "conda-env-ada-py"
  },
  "language_info": {
   "codemirror_mode": {
    "name": "ipython",
    "version": 3
   },
   "file_extension": ".py",
   "mimetype": "text/x-python",
   "name": "python",
   "nbconvert_exporter": "python",
   "pygments_lexer": "ipython3",
   "version": "3.7.3"
  }
 },
 "nbformat": 4,
 "nbformat_minor": 4
}
