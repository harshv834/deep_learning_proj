{
 "cells": [
  {
   "cell_type": "markdown",
   "metadata": {},
   "source": [
    "# Course : EE 559 Deep Learning\n",
    "# Authors: Ankita Humne, Elliot, Harshvardhan\n",
    "# Test code to run our best solution for Mini Project 1 "
   ]
  },
  {
   "cell_type": "code",
   "execution_count": 2,
   "metadata": {},
   "outputs": [],
   "source": [
    "import torch \n",
    "import torch.nn as nn\n",
    "import matplotlib.pyplot as plt\n",
    "import torch.nn.functional as F\n",
    "import torch.optim as optim\n",
    "import numpy as np\n",
    "import dlc_practical_prologue as prologue\n",
    "%matplotlib inline\n",
    "N=1000\n",
    "from torch.utils.data import DataLoader, Dataset\n",
    "import tqdm\n",
    "from torch.autograd import Variable"
   ]
  },
  {
   "cell_type": "code",
   "execution_count": 8,
   "metadata": {},
   "outputs": [
    {
     "name": "stdout",
     "output_type": "stream",
     "text": [
      "Chosen best architecture with convolution layers for feature extraction, weight sharing, no auxillary loss with Batch normalization\n"
     ]
    }
   ],
   "source": [
    "# Chosen best architecture:\n",
    "# 1. Weight Sharing\n",
    "# 2. Without auxillary loss\n",
    "# 3. Batch normalisation\n",
    "# 4. Activation function: ReLU\n",
    "# 5. Convolution layers for the base\n",
    "print('Chosen best architecture with convolution layers for feature extraction, weight sharing, no auxillary loss with Batch normalization')\n",
    "class CompareNet(nn.Module): # without auxillary loss\n",
    "    def __init__(self,batch_normalization = True):\n",
    "        super(CompareNet, self).__init__()\n",
    "        if batch_normalization:\n",
    "            self.base = nn.Sequential(nn.Conv2d(1, 32, kernel_size=3),nn.MaxPool2d(kernel_size=2),nn.BatchNorm2d(32),nn.Conv2d(32, 8, kernel_size=3),nn.MaxPool2d(kernel_size=2))\n",
    "        else:\n",
    "            self.base = nn.Sequential(nn.Conv2d(1, 32, kernel_size=3),nn.MaxPool2d(kernel_size=2),nn.Conv2d(32, 8, kernel_size=3),nn.MaxPool2d(kernel_size=2))\n",
    "        self.comparator = nn.Linear(64,2)\n",
    "        \n",
    "    def forward(self, x):\n",
    "        x_0 = x[:,:1,:,:]\n",
    "        x_1 = x[:,1:2,:,:]\n",
    "        x_0 = F.relu(self.base(x_0)) \n",
    "        x_1 = F.relu(self.base(x_1))\n",
    "        x_0 = x_0.view(-1,32)\n",
    "        x_1 = x_1.view(-1,32)\n",
    "        sign = F.relu(self.comparator(torch.cat([x_0,x_1],dim = 1)))\n",
    "        return sign"
   ]
  },
  {
   "cell_type": "code",
   "execution_count": 9,
   "metadata": {},
   "outputs": [],
   "source": [
    "class DigitPairsDataset(Dataset):\n",
    "    def __init__(self,img_pair,targets, classes):\n",
    "        super(DigitPairsDataset, self).__init__()\n",
    "        self.img_pair = img_pair\n",
    "        self.targets = targets\n",
    "        self.classes = classes\n",
    "    \n",
    "    def __len__(self):\n",
    "        return self.targets.size()[0]\n",
    "    \n",
    "    def __getitem__(self, idx):\n",
    "        return self.img_pair[idx], self.targets[idx], self.classes[idx]"
   ]
  },
  {
   "cell_type": "code",
   "execution_count": 10,
   "metadata": {},
   "outputs": [],
   "source": [
    "criterion = nn.CrossEntropyLoss()\n",
    "net = CompareNet()\n",
    " \n",
    "mu = 1.0\n",
    "optimizer = optim.Adam(net.parameters(),lr = 0.001)\n",
    "batch_normalization = True\n",
    "\n"
   ]
  },
  {
   "cell_type": "code",
   "execution_count": 11,
   "metadata": {},
   "outputs": [],
   "source": [
    "# Function to calculate accuracy during training and validation\n",
    "\n",
    "def calc_accuracy(data_loader,model):\n",
    "    correct_count = 0.0\n",
    "    for i, data in enumerate(data_loader,0):\n",
    "        img_pair, target, classes = data\n",
    "        pred_sign = net(img_pair)\n",
    "        loss = criterion(pred_sign,target)\n",
    "        pred = torch.argmax(pred_sign,-1)\n",
    "        correct_count += int((target.eq(pred)).sum())\n",
    "    return correct_count*100.0/N"
   ]
  },
  {
   "cell_type": "code",
   "execution_count": 13,
   "metadata": {},
   "outputs": [
    {
     "name": "stdout",
     "output_type": "stream",
     "text": [
      "This code generates runs the best chosen solution for 1 iteration. To increase the number of iterations, please change nb_iterations\n"
     ]
    }
   ],
   "source": [
    "nb_iterations = 1\n",
    "count = 0\n",
    "epochs = 50\n",
    "print('This code generates runs the best chosen solution for {nb_iterations} iteration. To increase the number of iterations, please change nb_iterations'.format(nb_iterations=nb_iterations))"
   ]
  },
  {
   "cell_type": "code",
   "execution_count": 15,
   "metadata": {},
   "outputs": [
    {
     "name": "stderr",
     "output_type": "stream",
     "text": [
      " 18%|██████████████▉                                                                    | 9/50 [00:09<00:44,  1.09s/it]"
     ]
    },
    {
     "name": "stdout",
     "output_type": "stream",
     "text": [
      "Epoch : 9  ,   Train Accuracy : 93.20  , Validation Accuracy : 79.00 , Training Loss : 0.006841\n"
     ]
    },
    {
     "name": "stderr",
     "output_type": "stream",
     "text": [
      " 38%|███████████████████████████████▏                                                  | 19/50 [00:21<00:38,  1.25s/it]"
     ]
    },
    {
     "name": "stdout",
     "output_type": "stream",
     "text": [
      "Epoch : 19  ,   Train Accuracy : 99.00  , Validation Accuracy : 81.40 , Training Loss : 0.002964\n"
     ]
    },
    {
     "name": "stderr",
     "output_type": "stream",
     "text": [
      " 58%|███████████████████████████████████████████████▌                                  | 29/50 [00:35<00:28,  1.35s/it]"
     ]
    },
    {
     "name": "stdout",
     "output_type": "stream",
     "text": [
      "Epoch : 29  ,   Train Accuracy : 100.00  , Validation Accuracy : 81.80 , Training Loss : 0.001077\n"
     ]
    },
    {
     "name": "stderr",
     "output_type": "stream",
     "text": [
      " 78%|███████████████████████████████████████████████████████████████▉                  | 39/50 [00:52<00:21,  1.91s/it]"
     ]
    },
    {
     "name": "stdout",
     "output_type": "stream",
     "text": [
      "Epoch : 39  ,   Train Accuracy : 100.00  , Validation Accuracy : 81.10 , Training Loss : 0.000498\n"
     ]
    },
    {
     "name": "stderr",
     "output_type": "stream",
     "text": [
      " 98%|████████████████████████████████████████████████████████████████████████████████▎ | 49/50 [01:09<00:01,  1.60s/it]"
     ]
    },
    {
     "name": "stdout",
     "output_type": "stream",
     "text": [
      "Epoch : 49  ,   Train Accuracy : 100.00  , Validation Accuracy : 81.80 , Training Loss : 0.000261\n"
     ]
    },
    {
     "name": "stderr",
     "output_type": "stream",
     "text": [
      "100%|██████████████████████████████████████████████████████████████████████████████████| 50/50 [01:10<00:00,  1.41s/it]\n"
     ]
    },
    {
     "data": {
      "image/png": "[encoded data removed]",
      "text/plain": [
       "<Figure size 432x288 with 1 Axes>"
      ]
     },
     "metadata": {
      "needs_background": "light"
     },
     "output_type": "display_data"
    },
    {
     "data": {
      "image/png": "[encoded data removed]",
      "text/plain": [
       "<Figure size 432x288 with 1 Axes>"
      ]
     },
     "metadata": {
      "needs_background": "light"
     },
     "output_type": "display_data"
    }
   ],
   "source": [
    "\n",
    "\n",
    "while count<nb_iterations:\n",
    "    loss_arr = []\n",
    "    train_acc_arr = []\n",
    "    val_acc_arr = []\n",
    "    train_input, train_target, train_classes, test_input, test_target, test_classes = prologue.generate_pair_sets(N)\n",
    "    train_dataset = DigitPairsDataset(train_input,train_target,train_classes)\n",
    "    test_dataset = DigitPairsDataset(test_input,test_target,test_classes)\n",
    "    train_loader = DataLoader(train_dataset,batch_size=32, shuffle = True, num_workers = 0)\n",
    "    test_loader = DataLoader(test_dataset,batch_size=32, shuffle = True, num_workers = 0)\n",
    "    for epoch in tqdm.tqdm(range(epochs)):\n",
    "        net.train()\n",
    "        running_loss = 0.0\n",
    "\n",
    "        for i, data in enumerate(train_loader,0):\n",
    "            img_pair, target, classes = data\n",
    "\n",
    "            optimizer.zero_grad()\n",
    "        \n",
    "            pred_sign = net(img_pair)\n",
    "            loss = criterion(pred_sign,target)\n",
    "            running_loss += loss.item()\n",
    "            loss.backward()\n",
    "            optimizer.step()\n",
    "        net.eval()\n",
    "        running_loss /= N\n",
    "        loss_arr.append(running_loss)\n",
    "        train_acc = calc_accuracy(train_loader,net)\n",
    "        val_acc = calc_accuracy(test_loader,net)\n",
    "        train_acc_arr.append(train_acc)\n",
    "        val_acc_arr.append(val_acc)\n",
    "        if epoch % 10 == 9:\n",
    "            print(\"Epoch : %d  ,   Train Accuracy : %.2f  , Validation Accuracy : %.2f , Training Loss : %.6f\" %(epoch, train_acc, val_acc, running_loss))\n",
    "\n",
    "\n",
    "    plt.plot(range(epochs),loss_arr)\n",
    "    plt.xlabel(\"Epochs\")\n",
    "    plt.ylabel(\"Loss\")\n",
    "    plt.title(\"Training loss over iterations\")\n",
    "    fileplot1 = \"plot_loss_{count}.png\".format(count=count)\n",
    "    plt.savefig(fileplot1)\n",
    "    plt.show()\n",
    "\n",
    "    plt.plot(range(epochs),train_acc_arr, label  =\" Training accuracy\")\n",
    "    plt.plot(range(epochs), val_acc_arr, label =\"Validation accuracy\")\n",
    "    plt.ylabel(\"Accuracy\")\n",
    "    plt.xlabel(\"Epochs\")\n",
    "    plt.title(\"Training and Validation accuracy during training\")\n",
    "    plt.legend()\n",
    "    fileplot = \"plot_acc_{count}.png\".format(count=count)\n",
    "    plt.savefig(fileplot)\n",
    "    plt.show()\n",
    "\n",
    "\n",
    "\n",
    "    fileloss = \"loss_{count}.npy\".format(count=count)\n",
    "    np.save(fileloss,loss_arr)\n",
    "    filetrain = \"train_acc_{count}.npy\".format(count=count)\n",
    "    np.save(filetrain,train_acc_arr)\n",
    "    fileval = \"val_acc_{count}.npy\".format(count=count)\n",
    "    np.save(fileval,val_acc_arr)\n",
    "    count+= 1\n"
   ]
  },
  {
   "cell_type": "code",
   "execution_count": null,
   "metadata": {},
   "outputs": [],
   "source": []
  }
 ],
 "metadata": {
  "kernelspec": {
   "display_name": "Python 3",
   "language": "python",
   "name": "python3"
  },
  "language_info": {
   "codemirror_mode": {
    "name": "ipython",
    "version": 3
   },
   "file_extension": ".py",
   "mimetype": "text/x-python",
   "name": "python",
   "nbconvert_exporter": "python",
   "pygments_lexer": "ipython3",
   "version": "3.7.4"
  }
 },
 "nbformat": 4,
 "nbformat_minor": 2
}
